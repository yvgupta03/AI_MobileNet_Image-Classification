{
  "cells": [
    {
      "cell_type": "markdown",
      "source": [
        "### Notebook Information\n",
        "\n",
        "#### In this notebook we are running the LeNet model on CIFAR 100 dataset"
      ],
      "metadata": {
        "id": "YtM1vo2F6sp5"
      },
      "id": "YtM1vo2F6sp5"
    },
    {
      "cell_type": "code",
      "execution_count": null,
      "id": "f0013fad-1984-424d-a99f-53c2b5a5e1e5",
      "metadata": {
        "execution": {
          "iopub.execute_input": "2022-06-21T20:55:03.562597Z",
          "iopub.status.busy": "2022-06-21T20:55:03.561818Z",
          "iopub.status.idle": "2022-06-21T20:55:04.730045Z",
          "shell.execute_reply": "2022-06-21T20:55:04.729259Z",
          "shell.execute_reply.started": "2022-06-21T20:55:03.562566Z"
        },
        "id": "f0013fad-1984-424d-a99f-53c2b5a5e1e5"
      },
      "outputs": [],
      "source": [
        "import matplotlib.pyplot as plt\n",
        "import numpy as np\n",
        "import torch.nn as nn\n",
        "import torch\n",
        "import torchvision.transforms as transforms\n",
        "import torchvision\n",
        "\n",
        "numEpochs = 10\n",
        "learningRate = 0.001\n",
        "numClasses = 100"
      ]
    },
    {
      "cell_type": "code",
      "source": [
        "if not torch.cuda.is_available():\n",
        "  device = torch.device('cpu')\n",
        "else:\n",
        "  device = torch.device('cuda')"
      ],
      "metadata": {
        "id": "nNWbZOPI8erM"
      },
      "id": "nNWbZOPI8erM",
      "execution_count": null,
      "outputs": []
    },
    {
      "cell_type": "code",
      "execution_count": null,
      "id": "4e336f55-bfb5-4afd-aa3b-efb7dc9ce590",
      "metadata": {
        "execution": {
          "iopub.execute_input": "2022-06-21T20:55:04.731772Z",
          "iopub.status.busy": "2022-06-21T20:55:04.731576Z",
          "iopub.status.idle": "2022-06-21T20:55:08.711162Z",
          "shell.execute_reply": "2022-06-21T20:55:08.710488Z",
          "shell.execute_reply.started": "2022-06-21T20:55:04.731749Z"
        },
        "colab": {
          "base_uri": "https://localhost:8080/"
        },
        "id": "4e336f55-bfb5-4afd-aa3b-efb7dc9ce590",
        "outputId": "6e9f4373-5940-41fc-cd79-23d74af7f5c0"
      },
      "outputs": [
        {
          "output_type": "stream",
          "name": "stdout",
          "text": [
            "Files already downloaded and verified\n",
            "Files already downloaded and verified\n"
          ]
        }
      ],
      "source": [
        "# Get the training and testing set\n",
        "trainingset = torchvision.datasets.CIFAR100(root='./data', train=True, download=True, transform=transforms.Compose([transforms.ToTensor(),transforms.Normalize((0.5, 0.5, 0.5), (0.5, 0.5, 0.5))]))\n",
        "\n",
        "testingset = torchvision.datasets.CIFAR100(root='./data', train=False, download=True, transform=transforms.Compose([transforms.ToTensor(),transforms.Normalize((0.5, 0.5, 0.5), (0.5, 0.5, 0.5))]))\n",
        "# Create the dataset loaders\n",
        "trainloader = torch.utils.data.DataLoader(trainingset, batch_size=128, shuffle=False, num_workers=2)\n",
        "testloader = torch.utils.data.DataLoader(testingset, batch_size=128, shuffle=False, num_workers=2)"
      ]
    },
    {
      "cell_type": "code",
      "execution_count": null,
      "id": "decf1896-74e1-4ca3-aaf4-30fa6710bfa7",
      "metadata": {
        "execution": {
          "iopub.execute_input": "2022-06-21T20:55:12.033150Z",
          "iopub.status.busy": "2022-06-21T20:55:12.032911Z",
          "iopub.status.idle": "2022-06-21T20:55:12.039089Z",
          "shell.execute_reply": "2022-06-21T20:55:12.038434Z",
          "shell.execute_reply.started": "2022-06-21T20:55:12.033126Z"
        },
        "id": "decf1896-74e1-4ca3-aaf4-30fa6710bfa7"
      },
      "outputs": [],
      "source": [
        "# Create a LeNet Neural network\n",
        "class LeNet5(nn.Module):\n",
        "    def __init__(self, numClasses):\n",
        "        super(LeNet5, self).__init__()\n",
        "        self.layer1 = nn.Sequential(\n",
        "            nn.Conv2d(3, 6, kernel_size=5, stride=1, padding=0),\n",
        "            nn.BatchNorm2d(6),\n",
        "            nn.ReLU(),\n",
        "            nn.MaxPool2d(kernel_size = 2, stride = 2))\n",
        "        self.layer2 = nn.Sequential(\n",
        "            nn.Conv2d(6, 16, kernel_size=5, stride=1, padding=0),\n",
        "            nn.BatchNorm2d(16),\n",
        "            nn.ReLU(),\n",
        "            nn.MaxPool2d(kernel_size = 2, stride = 2))\n",
        "        self.fc = nn.Linear(400, 120)\n",
        "        self.relu = nn.ReLU()\n",
        "        self.fc1 = nn.Linear(120, 84)\n",
        "        self.relu1 = nn.ReLU()\n",
        "        self.fc2 = nn.Linear(84, numClasses)\n",
        "        \n",
        "    def forward(self, x):\n",
        "        out = self.layer1(x)\n",
        "        out = self.layer2(out)\n",
        "        out = out.reshape(out.size(0), -1)\n",
        "        out = self.fc(out)\n",
        "        out = self.relu(out)\n",
        "        out = self.fc1(out)\n",
        "        out = self.relu1(out)\n",
        "        out = self.fc2(out)\n",
        "        return out\n"
      ]
    },
    {
      "cell_type": "code",
      "execution_count": null,
      "id": "791c6d4a-3a95-4138-b5c5-f5ef785994b6",
      "metadata": {
        "execution": {
          "iopub.execute_input": "2022-06-21T20:55:18.279448Z",
          "iopub.status.busy": "2022-06-21T20:55:18.279207Z",
          "iopub.status.idle": "2022-06-21T20:55:18.291212Z",
          "shell.execute_reply": "2022-06-21T20:55:18.290614Z",
          "shell.execute_reply.started": "2022-06-21T20:55:18.279424Z"
        },
        "id": "791c6d4a-3a95-4138-b5c5-f5ef785994b6"
      },
      "outputs": [],
      "source": [
        "class NeuralNetwork:\n",
        "  def __init__(self, trainloader, testloader, learning_rate):\n",
        "    self.model = LeNet5(numClasses).to(device)\n",
        "    self.cost = nn.CrossEntropyLoss()\n",
        "    self.optimizer = torch.optim.Adam(self.model.parameters(), lr=learning_rate)\n",
        "    self.trainloader=trainloader\n",
        "    self.testloader=testloader\n",
        "    self.val_losses = []\n",
        "    self.train_losses = []\n",
        "    self.val_acc = []\n",
        "    self.train_acc = []\n",
        "\n",
        "  def lossplot(self):\n",
        "    plt.figure(figsize=(10,5))\n",
        "    plt.title(\"Training and Validation Loss\")\n",
        "    plt.plot(self.val_losses,label=\"val\")\n",
        "    plt.plot(self.train_losses,label=\"train\")\n",
        "    plt.xlabel(\"iterations\")\n",
        "    plt.ylabel(\"Loss\")\n",
        "    plt.legend()\n",
        "    plt.show()\n",
        "\n",
        "  def accplot(self):\n",
        "    plt.figure(figsize=(10,5))\n",
        "    plt.title(\"Training and Validation Accuracy\")\n",
        "    plt.plot(self.val_acc,label=\"val\")\n",
        "    plt.plot(self.train_acc,label=\"train\")\n",
        "    plt.xlabel(\"iterations\")\n",
        "    plt.ylabel(\"Accuracy\")\n",
        "    plt.legend()\n",
        "    plt.show()\n",
        "\n",
        "  def trainCuda(self,epoch):\n",
        "    correct = 0\n",
        "    total = 0\n",
        "    runningLoss = 0.0\n",
        "    for i, data in enumerate(trainloader, 0):\n",
        "        inputs, labels = data\n",
        "        self.optimizer.zero_grad()\n",
        "        outputs = self.model(inputs)\n",
        "        loss = self.cost(outputs, labels)\n",
        "        loss.backward()\n",
        "        self.optimizer.step()\n",
        "        _, predicted = torch.max(outputs.data, 1)\n",
        "        runningLoss += loss.item()\n",
        "        total += labels.size(0)\n",
        "        correct += (predicted == labels).sum().item()\n",
        "        \n",
        "        if (i+1) % 20 == 0: \n",
        "            print(\"Epoch:{}, Iteration:{}, Loss:{:.3f}\".format(epoch + 1, i + 1, runningLoss / (i+1)))\n",
        "    return (runningLoss/len(trainloader), (100*correct / total))\n",
        "\n",
        "  def testCuda(self):\n",
        "    correct = 0\n",
        "    total = 0\n",
        "    runningLoss = 0.0\n",
        "    with torch.no_grad():\n",
        "        for data in testloader:\n",
        "            inputs, labels = data\n",
        "            outputs = self.model(inputs)\n",
        "            loss=self.cost(outputs,labels)\n",
        "            runningLoss += loss.item()\n",
        "            _, predicted = torch.max(outputs.data, 1)\n",
        "            total += labels.size(0)\n",
        "            correct += (predicted == labels).sum().item()\n",
        "    print('Test Accuracy: %d %%' % (100 * correct / total))\n",
        "    return (runningLoss/len(testloader), (100*correct / total))\n",
        "\n",
        "  def fit(self):\n",
        "    for epoch in range(numEpochs):\n",
        "      running_loss_train, running_train_acc = self.trainCuda(epoch)\n",
        "      running_loss_test, running_test_acc = self.testCuda()\n",
        "      self.train_losses.append(running_loss_train)\n",
        "      self.val_losses.append(running_loss_test)\n",
        "      self.train_acc.append(running_train_acc)\n",
        "      self.val_acc.append(running_test_acc)"
      ]
    },
    {
      "cell_type": "code",
      "source": [
        "for i, data in enumerate(trainloader, 0):\n",
        "  if(i>5):\n",
        "    break\n",
        "  print(data[1])"
      ],
      "metadata": {
        "colab": {
          "base_uri": "https://localhost:8080/"
        },
        "id": "JGE8STUaQY3N",
        "outputId": "2534bc33-c011-4c71-8654-7d1721a2b279"
      },
      "id": "JGE8STUaQY3N",
      "execution_count": null,
      "outputs": [
        {
          "output_type": "stream",
          "name": "stdout",
          "text": [
            "tensor([19, 29,  0, 11,  1, 86, 90, 28, 23, 31, 39, 96, 82, 17, 71, 39,  8, 97,\n",
            "        80, 71, 74, 59, 70, 87, 59, 84, 64, 52, 42, 64,  8, 17, 47, 65, 21, 22,\n",
            "        81, 11, 24, 84, 78, 45, 49, 97, 56, 76, 11, 90, 89, 78, 73, 14, 87,  9,\n",
            "        71,  6, 47, 20, 98, 47, 36, 55, 72, 43, 51, 35, 83, 33, 27, 53, 92, 50,\n",
            "        15, 89, 36, 18, 89, 46, 33, 42, 39, 64, 75, 38, 23, 42, 66, 77, 49, 18,\n",
            "        46, 15, 35, 69, 95, 83, 75, 99, 73, 93, 55, 39,  4, 97, 61, 93, 51, 69,\n",
            "        56, 84, 59, 64, 94,  4, 11, 33, 68, 38, 20, 33, 34, 32, 46, 53, 88, 67,\n",
            "        70, 64])\n",
            "tensor([53, 64,  8, 96, 87, 30, 20, 30, 66, 19, 76, 87, 52, 62, 35, 63, 40,  4,\n",
            "        99, 63, 74, 53, 26, 95, 48, 27, 33, 29, 39, 79, 32, 46, 64, 28, 85, 32,\n",
            "        82, 78, 39, 54, 28, 66, 65, 72, 21, 64, 62, 72,  0, 44,  7, 12, 19, 11,\n",
            "        31, 61, 79, 45, 81, 79, 98, 43, 46, 67, 80, 68, 74, 48, 81, 94, 86, 69,\n",
            "        39, 73,  2, 46, 49, 63, 43, 14, 49, 68, 65, 41, 37, 45, 36, 21, 77, 37,\n",
            "        39,  8,  9, 62, 86, 39, 19, 54, 39, 28, 11, 89, 90, 90, 79, 66, 81, 21,\n",
            "        79, 40, 29, 22, 13, 25, 11, 38, 10, 96, 54, 65, 39, 40, 42, 48, 48, 51,\n",
            "        11, 23])\n",
            "tensor([23, 89, 52, 46,  2, 95, 43, 86, 34, 66, 18, 46, 66, 56, 57,  1, 44, 11,\n",
            "        82, 23, 90, 56, 19, 68, 66, 28,  1, 57, 67,  5, 13, 78,  6, 84,  7, 41,\n",
            "        65, 80, 12, 50, 63, 26,  8, 53, 60, 99, 97, 85,  0, 78, 31, 10,  2,  7,\n",
            "        43, 83, 97, 91, 82, 28, 42,  0, 82,  5, 68, 60, 30, 98, 82, 20, 64, 66,\n",
            "        10, 75, 54, 57, 87, 66, 66, 73, 54, 88, 42, 37, 80, 87,  3, 29, 43, 12,\n",
            "        73, 96, 23, 96, 84, 19, 62,  0, 21, 11, 36, 64, 76, 60,  3, 80, 82, 79,\n",
            "        26, 65, 72, 11, 15, 31, 48, 12, 91, 71, 87, 77, 15,  7, 58, 51, 55, 85,\n",
            "         2,  3])\n",
            "tensor([89, 10,  3, 11, 20,  4, 48, 27, 48,  7, 67,  3, 65, 56,  9, 44, 95, 46,\n",
            "        83, 40, 58, 87, 59, 18, 48,  5, 88, 26, 21, 24, 53, 68, 49, 89, 96, 92,\n",
            "         7, 13, 99, 49, 22, 56, 67, 13, 97,  6, 19, 76, 65,  9, 71, 63, 71, 18,\n",
            "        55, 34, 18,  0, 56, 23, 75, 70, 78, 45, 66, 91, 25, 58, 90, 29, 68, 35,\n",
            "        54, 77, 97,  0, 70, 75, 60, 65,  5, 58, 82, 49, 61, 28, 44, 56, 82, 61,\n",
            "        43, 20, 38, 85, 87, 49, 85, 24,  7, 88, 40, 38, 72, 56,  4, 81, 98, 97,\n",
            "        14, 46, 23, 89, 86, 83, 54, 27, 41, 96,  1, 81, 79, 30, 17, 14, 67, 20,\n",
            "        54, 92])\n",
            "tensor([33, 57, 65, 49, 71, 59, 85, 22, 31, 85, 17, 42, 62, 26, 60, 27, 57, 19,\n",
            "        97, 88, 10, 31, 23, 84, 74, 63, 94, 77, 90, 60,  5,  1, 61, 95, 32, 95,\n",
            "        57, 32, 23, 39, 45, 41, 69, 89, 45, 47, 57, 11, 48, 74,  2, 11, 95, 50,\n",
            "        37, 59, 71, 84, 89, 84, 70, 16, 71,  8, 48, 31, 98, 32,  2, 74, 62, 71,\n",
            "        90, 34, 51,  0, 12, 26, 57, 62, 57, 31, 65, 32, 16, 35, 98, 11, 87, 38,\n",
            "        52, 89, 40, 76,  7, 54, 76, 30, 59, 84,  3, 91, 46, 65, 43, 49,  6, 33,\n",
            "         5, 14, 77, 44, 68, 82, 94, 66, 73, 56, 89, 53, 22, 69, 77, 84, 20, 98,\n",
            "         4, 69])\n",
            "tensor([79, 40, 45,  1, 56, 65, 51,  5, 80, 54, 92,  4, 23, 60, 81, 77, 73, 98,\n",
            "         0, 14,  9, 44, 27,  8, 43, 74, 46, 94, 86, 30, 61, 57, 11, 81, 25, 81,\n",
            "        70, 29, 27,  3, 71, 53, 48, 19, 80, 57, 19, 59, 25, 56, 74, 32, 98, 37,\n",
            "        13, 45, 12, 80, 64, 16, 17, 24, 30, 25, 96, 37,  5, 98, 31, 94,  5, 29,\n",
            "        66, 51,  6, 67, 50, 68, 27, 62, 89,  5, 11, 13, 66, 55, 15, 62, 74, 31,\n",
            "        93, 59,  1, 97, 32, 39, 41, 62, 71, 70, 98, 41, 42, 70,  3, 35, 90, 22,\n",
            "        50, 61, 66, 92, 53, 12, 84, 33, 57, 93, 79, 69, 53,  9, 19,  6, 20, 76,\n",
            "         5, 98])\n"
          ]
        }
      ]
    },
    {
      "cell_type": "code",
      "source": [
        "neuralNet = NeuralNetwork(trainloader, testloader, learningRate)"
      ],
      "metadata": {
        "id": "u2NSt99Zw5XP"
      },
      "id": "u2NSt99Zw5XP",
      "execution_count": null,
      "outputs": []
    },
    {
      "cell_type": "code",
      "source": [
        "# Fit the LeNet5 Neural Network\n",
        "neuralNet.fit()"
      ],
      "metadata": {
        "id": "XaTDv3vJPCKd",
        "colab": {
          "base_uri": "https://localhost:8080/"
        },
        "outputId": "beed0193-e7a5-448e-c35d-0cd82974ee17"
      },
      "id": "XaTDv3vJPCKd",
      "execution_count": null,
      "outputs": [
        {
          "output_type": "stream",
          "name": "stdout",
          "text": [
            "Epoch:1, Iteration:20, Loss:4.589\n",
            "Epoch:1, Iteration:40, Loss:4.541\n",
            "Epoch:1, Iteration:60, Loss:4.477\n",
            "Epoch:1, Iteration:80, Loss:4.415\n",
            "Epoch:1, Iteration:100, Loss:4.356\n",
            "Epoch:1, Iteration:120, Loss:4.300\n",
            "Epoch:1, Iteration:140, Loss:4.245\n",
            "Epoch:1, Iteration:160, Loss:4.199\n",
            "Epoch:1, Iteration:180, Loss:4.159\n",
            "Epoch:1, Iteration:200, Loss:4.126\n",
            "Epoch:1, Iteration:220, Loss:4.087\n",
            "Epoch:1, Iteration:240, Loss:4.055\n",
            "Epoch:1, Iteration:260, Loss:4.024\n",
            "Epoch:1, Iteration:280, Loss:3.999\n",
            "Epoch:1, Iteration:300, Loss:3.974\n",
            "Epoch:1, Iteration:320, Loss:3.953\n",
            "Epoch:1, Iteration:340, Loss:3.931\n",
            "Epoch:1, Iteration:360, Loss:3.911\n",
            "Epoch:1, Iteration:380, Loss:3.892\n",
            "Test Accuracy: 16 %\n",
            "Epoch:2, Iteration:20, Loss:3.471\n",
            "Epoch:2, Iteration:40, Loss:3.488\n",
            "Epoch:2, Iteration:60, Loss:3.480\n",
            "Epoch:2, Iteration:80, Loss:3.472\n",
            "Epoch:2, Iteration:100, Loss:3.464\n",
            "Epoch:2, Iteration:120, Loss:3.454\n",
            "Epoch:2, Iteration:140, Loss:3.443\n",
            "Epoch:2, Iteration:160, Loss:3.437\n",
            "Epoch:2, Iteration:180, Loss:3.430\n",
            "Epoch:2, Iteration:200, Loss:3.426\n",
            "Epoch:2, Iteration:220, Loss:3.411\n",
            "Epoch:2, Iteration:240, Loss:3.399\n",
            "Epoch:2, Iteration:260, Loss:3.388\n",
            "Epoch:2, Iteration:280, Loss:3.381\n",
            "Epoch:2, Iteration:300, Loss:3.371\n",
            "Epoch:2, Iteration:320, Loss:3.365\n",
            "Epoch:2, Iteration:340, Loss:3.356\n",
            "Epoch:2, Iteration:360, Loss:3.349\n",
            "Epoch:2, Iteration:380, Loss:3.341\n",
            "Test Accuracy: 21 %\n",
            "Epoch:3, Iteration:20, Loss:3.175\n",
            "Epoch:3, Iteration:40, Loss:3.177\n",
            "Epoch:3, Iteration:60, Loss:3.174\n",
            "Epoch:3, Iteration:80, Loss:3.160\n",
            "Epoch:3, Iteration:100, Loss:3.156\n",
            "Epoch:3, Iteration:120, Loss:3.151\n",
            "Epoch:3, Iteration:140, Loss:3.144\n",
            "Epoch:3, Iteration:160, Loss:3.143\n",
            "Epoch:3, Iteration:180, Loss:3.140\n",
            "Epoch:3, Iteration:200, Loss:3.140\n",
            "Epoch:3, Iteration:220, Loss:3.128\n",
            "Epoch:3, Iteration:240, Loss:3.120\n",
            "Epoch:3, Iteration:260, Loss:3.114\n",
            "Epoch:3, Iteration:280, Loss:3.110\n",
            "Epoch:3, Iteration:300, Loss:3.104\n",
            "Epoch:3, Iteration:320, Loss:3.101\n",
            "Epoch:3, Iteration:340, Loss:3.096\n",
            "Epoch:3, Iteration:360, Loss:3.093\n",
            "Epoch:3, Iteration:380, Loss:3.089\n",
            "Test Accuracy: 24 %\n",
            "Epoch:4, Iteration:20, Loss:2.992\n",
            "Epoch:4, Iteration:40, Loss:2.993\n",
            "Epoch:4, Iteration:60, Loss:2.988\n",
            "Epoch:4, Iteration:80, Loss:2.976\n",
            "Epoch:4, Iteration:100, Loss:2.975\n",
            "Epoch:4, Iteration:120, Loss:2.974\n",
            "Epoch:4, Iteration:140, Loss:2.968\n",
            "Epoch:4, Iteration:160, Loss:2.969\n",
            "Epoch:4, Iteration:180, Loss:2.968\n",
            "Epoch:4, Iteration:200, Loss:2.970\n",
            "Epoch:4, Iteration:220, Loss:2.959\n",
            "Epoch:4, Iteration:240, Loss:2.954\n",
            "Epoch:4, Iteration:260, Loss:2.950\n",
            "Epoch:4, Iteration:280, Loss:2.947\n",
            "Epoch:4, Iteration:300, Loss:2.943\n",
            "Epoch:4, Iteration:320, Loss:2.940\n",
            "Epoch:4, Iteration:340, Loss:2.936\n",
            "Epoch:4, Iteration:360, Loss:2.935\n",
            "Epoch:4, Iteration:380, Loss:2.932\n",
            "Test Accuracy: 25 %\n",
            "Epoch:5, Iteration:20, Loss:2.863\n",
            "Epoch:5, Iteration:40, Loss:2.860\n",
            "Epoch:5, Iteration:60, Loss:2.855\n",
            "Epoch:5, Iteration:80, Loss:2.845\n",
            "Epoch:5, Iteration:100, Loss:2.846\n",
            "Epoch:5, Iteration:120, Loss:2.847\n",
            "Epoch:5, Iteration:140, Loss:2.842\n",
            "Epoch:5, Iteration:160, Loss:2.845\n",
            "Epoch:5, Iteration:180, Loss:2.846\n",
            "Epoch:5, Iteration:200, Loss:2.848\n",
            "Epoch:5, Iteration:220, Loss:2.839\n",
            "Epoch:5, Iteration:240, Loss:2.835\n",
            "Epoch:5, Iteration:260, Loss:2.832\n",
            "Epoch:5, Iteration:280, Loss:2.830\n",
            "Epoch:5, Iteration:300, Loss:2.827\n",
            "Epoch:5, Iteration:320, Loss:2.825\n",
            "Epoch:5, Iteration:340, Loss:2.822\n",
            "Epoch:5, Iteration:360, Loss:2.821\n",
            "Epoch:5, Iteration:380, Loss:2.819\n",
            "Test Accuracy: 27 %\n",
            "Epoch:6, Iteration:20, Loss:2.766\n",
            "Epoch:6, Iteration:40, Loss:2.762\n",
            "Epoch:6, Iteration:60, Loss:2.755\n",
            "Epoch:6, Iteration:80, Loss:2.744\n",
            "Epoch:6, Iteration:100, Loss:2.748\n",
            "Epoch:6, Iteration:120, Loss:2.750\n",
            "Epoch:6, Iteration:140, Loss:2.746\n",
            "Epoch:6, Iteration:160, Loss:2.748\n",
            "Epoch:6, Iteration:180, Loss:2.750\n",
            "Epoch:6, Iteration:200, Loss:2.753\n",
            "Epoch:6, Iteration:220, Loss:2.744\n",
            "Epoch:6, Iteration:240, Loss:2.742\n",
            "Epoch:6, Iteration:260, Loss:2.740\n",
            "Epoch:6, Iteration:280, Loss:2.738\n",
            "Epoch:6, Iteration:300, Loss:2.736\n",
            "Epoch:6, Iteration:320, Loss:2.734\n",
            "Epoch:6, Iteration:340, Loss:2.731\n",
            "Epoch:6, Iteration:360, Loss:2.730\n",
            "Epoch:6, Iteration:380, Loss:2.730\n",
            "Test Accuracy: 28 %\n",
            "Epoch:7, Iteration:20, Loss:2.678\n",
            "Epoch:7, Iteration:40, Loss:2.680\n",
            "Epoch:7, Iteration:60, Loss:2.674\n",
            "Epoch:7, Iteration:80, Loss:2.664\n",
            "Epoch:7, Iteration:100, Loss:2.670\n",
            "Epoch:7, Iteration:120, Loss:2.671\n",
            "Epoch:7, Iteration:140, Loss:2.668\n",
            "Epoch:7, Iteration:160, Loss:2.671\n",
            "Epoch:7, Iteration:180, Loss:2.673\n",
            "Epoch:7, Iteration:200, Loss:2.676\n",
            "Epoch:7, Iteration:220, Loss:2.669\n",
            "Epoch:7, Iteration:240, Loss:2.668\n",
            "Epoch:7, Iteration:260, Loss:2.667\n",
            "Epoch:7, Iteration:280, Loss:2.665\n",
            "Epoch:7, Iteration:300, Loss:2.663\n",
            "Epoch:7, Iteration:320, Loss:2.662\n",
            "Epoch:7, Iteration:340, Loss:2.659\n",
            "Epoch:7, Iteration:360, Loss:2.659\n",
            "Epoch:7, Iteration:380, Loss:2.659\n",
            "Test Accuracy: 28 %\n",
            "Epoch:8, Iteration:20, Loss:2.610\n",
            "Epoch:8, Iteration:40, Loss:2.615\n",
            "Epoch:8, Iteration:60, Loss:2.608\n",
            "Epoch:8, Iteration:80, Loss:2.597\n",
            "Epoch:8, Iteration:100, Loss:2.604\n",
            "Epoch:8, Iteration:120, Loss:2.605\n",
            "Epoch:8, Iteration:140, Loss:2.602\n",
            "Epoch:8, Iteration:160, Loss:2.606\n",
            "Epoch:8, Iteration:180, Loss:2.608\n",
            "Epoch:8, Iteration:200, Loss:2.613\n",
            "Epoch:8, Iteration:220, Loss:2.607\n",
            "Epoch:8, Iteration:240, Loss:2.606\n",
            "Epoch:8, Iteration:260, Loss:2.605\n",
            "Epoch:8, Iteration:280, Loss:2.605\n",
            "Epoch:8, Iteration:300, Loss:2.602\n",
            "Epoch:8, Iteration:320, Loss:2.602\n",
            "Epoch:8, Iteration:340, Loss:2.599\n",
            "Epoch:8, Iteration:360, Loss:2.598\n",
            "Epoch:8, Iteration:380, Loss:2.598\n",
            "Test Accuracy: 29 %\n",
            "Epoch:9, Iteration:20, Loss:2.553\n",
            "Epoch:9, Iteration:40, Loss:2.565\n",
            "Epoch:9, Iteration:60, Loss:2.558\n",
            "Epoch:9, Iteration:80, Loss:2.546\n",
            "Epoch:9, Iteration:100, Loss:2.552\n",
            "Epoch:9, Iteration:120, Loss:2.552\n",
            "Epoch:9, Iteration:140, Loss:2.550\n",
            "Epoch:9, Iteration:160, Loss:2.553\n",
            "Epoch:9, Iteration:180, Loss:2.555\n",
            "Epoch:9, Iteration:200, Loss:2.560\n",
            "Epoch:9, Iteration:220, Loss:2.555\n",
            "Epoch:9, Iteration:240, Loss:2.554\n",
            "Epoch:9, Iteration:260, Loss:2.553\n",
            "Epoch:9, Iteration:280, Loss:2.553\n",
            "Epoch:9, Iteration:300, Loss:2.550\n",
            "Epoch:9, Iteration:320, Loss:2.550\n",
            "Epoch:9, Iteration:340, Loss:2.547\n",
            "Epoch:9, Iteration:360, Loss:2.546\n",
            "Epoch:9, Iteration:380, Loss:2.547\n",
            "Test Accuracy: 29 %\n",
            "Epoch:10, Iteration:20, Loss:2.504\n",
            "Epoch:10, Iteration:40, Loss:2.519\n",
            "Epoch:10, Iteration:60, Loss:2.509\n",
            "Epoch:10, Iteration:80, Loss:2.497\n",
            "Epoch:10, Iteration:100, Loss:2.501\n",
            "Epoch:10, Iteration:120, Loss:2.501\n",
            "Epoch:10, Iteration:140, Loss:2.499\n",
            "Epoch:10, Iteration:160, Loss:2.502\n",
            "Epoch:10, Iteration:180, Loss:2.504\n",
            "Epoch:10, Iteration:200, Loss:2.510\n",
            "Epoch:10, Iteration:220, Loss:2.505\n",
            "Epoch:10, Iteration:240, Loss:2.504\n",
            "Epoch:10, Iteration:260, Loss:2.504\n",
            "Epoch:10, Iteration:280, Loss:2.505\n",
            "Epoch:10, Iteration:300, Loss:2.503\n",
            "Epoch:10, Iteration:320, Loss:2.502\n",
            "Epoch:10, Iteration:340, Loss:2.499\n",
            "Epoch:10, Iteration:360, Loss:2.499\n",
            "Epoch:10, Iteration:380, Loss:2.499\n",
            "Test Accuracy: 30 %\n"
          ]
        }
      ]
    },
    {
      "cell_type": "code",
      "source": [
        "neuralNet.lossplot()"
      ],
      "metadata": {
        "colab": {
          "base_uri": "https://localhost:8080/",
          "height": 350
        },
        "id": "rIkMm19KjqIF",
        "outputId": "95d17837-4920-44de-ed36-d107dc806e05"
      },
      "id": "rIkMm19KjqIF",
      "execution_count": null,
      "outputs": [
        {
          "output_type": "display_data",
          "data": {
            "text/plain": [
              "<Figure size 720x360 with 1 Axes>"
            ],
            "image/png": "[encoded data removed]"
          },
          "metadata": {
            "needs_background": "light"
          }
        }
      ]
    },
    {
      "cell_type": "code",
      "source": [
        "neuralNet.accplot()"
      ],
      "metadata": {
        "colab": {
          "base_uri": "https://localhost:8080/",
          "height": 350
        },
        "id": "tIPG7qLXs9cx",
        "outputId": "f422171f-de41-4fd3-97b0-503ed2588838"
      },
      "id": "tIPG7qLXs9cx",
      "execution_count": null,
      "outputs": [
        {
          "output_type": "display_data",
          "data": {
            "text/plain": [
              "<Figure size 720x360 with 1 Axes>"
            ],
            "image/png": "[encoded data removed]"
          },
          "metadata": {
            "needs_background": "light"
          }
        }
      ]
    }
  ],
  "metadata": {
    "kernelspec": {
      "display_name": "Python 3 (ipykernel)",
      "language": "python",
      "name": "python3"
    },
    "language_info": {
      "codemirror_mode": {
        "name": "ipython",
        "version": 3
      },
      "file_extension": ".py",
      "mimetype": "text/x-python",
      "name": "python",
      "nbconvert_exporter": "python",
      "pygments_lexer": "ipython3",
      "version": "3.8.12"
    },
    "colab": {
      "provenance": []
    },
    "gpuClass": "standard"
  },
  "nbformat": 4,
  "nbformat_minor": 5
}