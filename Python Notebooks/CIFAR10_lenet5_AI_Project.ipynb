{
  "cells": [
    {
      "cell_type": "markdown",
      "source": [
        "### Notebook Information\n",
        "\n",
        "#### In this notebook we are running the LeNet model on CIFAR 10 dataset"
      ],
      "metadata": {
        "id": "YtM1vo2F6sp5"
      },
      "id": "YtM1vo2F6sp5"
    },
    {
      "cell_type": "code",
      "execution_count": 1,
      "id": "f0013fad-1984-424d-a99f-53c2b5a5e1e5",
      "metadata": {
        "execution": {
          "iopub.execute_input": "2022-06-21T20:55:03.562597Z",
          "iopub.status.busy": "2022-06-21T20:55:03.561818Z",
          "iopub.status.idle": "2022-06-21T20:55:04.730045Z",
          "shell.execute_reply": "2022-06-21T20:55:04.729259Z",
          "shell.execute_reply.started": "2022-06-21T20:55:03.562566Z"
        },
        "id": "f0013fad-1984-424d-a99f-53c2b5a5e1e5"
      },
      "outputs": [],
      "source": [
        "import matplotlib.pyplot as plt\n",
        "import numpy as np\n",
        "import torch.nn as nn\n",
        "import torch\n",
        "import torchvision.transforms as transforms\n",
        "import torchvision\n",
        "\n",
        "numEpochs = 10\n",
        "learningRate = 0.001\n",
        "numClasses = 10"
      ]
    },
    {
      "cell_type": "code",
      "source": [
        "if not torch.cuda.is_available():\n",
        "  device = torch.device('cpu')\n",
        "else:\n",
        "  device = torch.device('cuda')"
      ],
      "metadata": {
        "id": "nNWbZOPI8erM"
      },
      "id": "nNWbZOPI8erM",
      "execution_count": 2,
      "outputs": []
    },
    {
      "cell_type": "code",
      "execution_count": 3,
      "id": "4e336f55-bfb5-4afd-aa3b-efb7dc9ce590",
      "metadata": {
        "execution": {
          "iopub.execute_input": "2022-06-21T20:55:04.731772Z",
          "iopub.status.busy": "2022-06-21T20:55:04.731576Z",
          "iopub.status.idle": "2022-06-21T20:55:08.711162Z",
          "shell.execute_reply": "2022-06-21T20:55:08.710488Z",
          "shell.execute_reply.started": "2022-06-21T20:55:04.731749Z"
        },
        "colab": {
          "base_uri": "https://localhost:8080/",
          "height": 101,
          "referenced_widgets": [
            "0a8905f4b7a445f2930fa56d97073d2e",
            "fd20d5e90d7b41d2bb5dfef36462bb22",
            "5ed30f2188094fbc9ffa65763f67ce70",
            "5c2a19e76efb4b88a1d7fd65fd6fe5aa",
            "ced133ce886847479aa0422a03d0d2a7",
            "78ef4b8f459a46128f4ecf374103dc98",
            "21c721af62e14fc19fa61eb19cab6662",
            "f8cb45a1886941c086880575815d650d",
            "5964f79b1f904d32bb889b5429f11d3b",
            "dfea4dce3d7b44f5aaf3b61dd903bdd1",
            "c475ac66668846b2abc145bf1af8bfee"
          ]
        },
        "id": "4e336f55-bfb5-4afd-aa3b-efb7dc9ce590",
        "outputId": "4f0cd36d-8d1b-40d0-fa00-47cc4fed4b54"
      },
      "outputs": [
        {
          "output_type": "stream",
          "name": "stdout",
          "text": [
            "Downloading https://www.cs.toronto.edu/~kriz/cifar-10-python.tar.gz to ./data/cifar-10-python.tar.gz\n"
          ]
        },
        {
          "output_type": "display_data",
          "data": {
            "text/plain": [
              "  0%|          | 0/170498071 [00:00<?, ?it/s]"
            ],
            "application/vnd.jupyter.widget-view+json": {
              "version_major": 2,
              "version_minor": 0,
              "model_id": "0a8905f4b7a445f2930fa56d97073d2e"
            }
          },
          "metadata": {}
        },
        {
          "output_type": "stream",
          "name": "stdout",
          "text": [
            "Extracting ./data/cifar-10-python.tar.gz to ./data\n",
            "Files already downloaded and verified\n"
          ]
        }
      ],
      "source": [
        "# Get the training and testing set\n",
        "trainingset = torchvision.datasets.CIFAR10(root='./data', train=True, download=True, transform=transforms.Compose([transforms.ToTensor(),transforms.Normalize((0.5, 0.5, 0.5), (0.5, 0.5, 0.5))]))\n",
        "\n",
        "testingset = torchvision.datasets.CIFAR10(root='./data', train=False, download=True, transform=transforms.Compose([transforms.ToTensor(),transforms.Normalize((0.5, 0.5, 0.5), (0.5, 0.5, 0.5))]))\n",
        "# Create the dataset loaders\n",
        "trainloader = torch.utils.data.DataLoader(trainingset, batch_size=128, shuffle=False, num_workers=2)\n",
        "testloader = torch.utils.data.DataLoader(testingset, batch_size=128, shuffle=False, num_workers=2)"
      ]
    },
    {
      "cell_type": "code",
      "execution_count": 4,
      "id": "decf1896-74e1-4ca3-aaf4-30fa6710bfa7",
      "metadata": {
        "execution": {
          "iopub.execute_input": "2022-06-21T20:55:12.033150Z",
          "iopub.status.busy": "2022-06-21T20:55:12.032911Z",
          "iopub.status.idle": "2022-06-21T20:55:12.039089Z",
          "shell.execute_reply": "2022-06-21T20:55:12.038434Z",
          "shell.execute_reply.started": "2022-06-21T20:55:12.033126Z"
        },
        "id": "decf1896-74e1-4ca3-aaf4-30fa6710bfa7"
      },
      "outputs": [],
      "source": [
        "# Create a LeNet Neural network\n",
        "class LeNet5(nn.Module):\n",
        "    def __init__(self, numClasses):\n",
        "        super(LeNet5, self).__init__()\n",
        "        self.layer1 = nn.Sequential(\n",
        "            nn.Conv2d(3, 6, kernel_size=5, stride=1, padding=0),\n",
        "            nn.BatchNorm2d(6),\n",
        "            nn.ReLU(),\n",
        "            nn.MaxPool2d(kernel_size = 2, stride = 2))\n",
        "        self.layer2 = nn.Sequential(\n",
        "            nn.Conv2d(6, 16, kernel_size=5, stride=1, padding=0),\n",
        "            nn.BatchNorm2d(16),\n",
        "            nn.ReLU(),\n",
        "            nn.MaxPool2d(kernel_size = 2, stride = 2))\n",
        "        self.fc = nn.Linear(400, 120)\n",
        "        self.relu = nn.ReLU()\n",
        "        self.fc1 = nn.Linear(120, 84)\n",
        "        self.relu1 = nn.ReLU()\n",
        "        self.fc2 = nn.Linear(84, numClasses)\n",
        "        \n",
        "    def forward(self, x):\n",
        "        out = self.layer1(x)\n",
        "        out = self.layer2(out)\n",
        "        out = out.reshape(out.size(0), -1)\n",
        "        out = self.fc(out)\n",
        "        out = self.relu(out)\n",
        "        out = self.fc1(out)\n",
        "        out = self.relu1(out)\n",
        "        out = self.fc2(out)\n",
        "        return out\n"
      ]
    },
    {
      "cell_type": "code",
      "execution_count": 5,
      "id": "791c6d4a-3a95-4138-b5c5-f5ef785994b6",
      "metadata": {
        "execution": {
          "iopub.execute_input": "2022-06-21T20:55:18.279448Z",
          "iopub.status.busy": "2022-06-21T20:55:18.279207Z",
          "iopub.status.idle": "2022-06-21T20:55:18.291212Z",
          "shell.execute_reply": "2022-06-21T20:55:18.290614Z",
          "shell.execute_reply.started": "2022-06-21T20:55:18.279424Z"
        },
        "id": "791c6d4a-3a95-4138-b5c5-f5ef785994b6"
      },
      "outputs": [],
      "source": [
        "class NeuralNetwork:\n",
        "  def __init__(self, trainloader, testloader, learning_rate):\n",
        "    self.model = LeNet5(numClasses).to(device)\n",
        "    self.cost = nn.CrossEntropyLoss()\n",
        "    self.optimizer = torch.optim.Adam(self.model.parameters(), lr=learning_rate)\n",
        "    self.trainloader=trainloader\n",
        "    self.testloader=testloader\n",
        "    self.val_losses = []\n",
        "    self.train_losses = []\n",
        "    self.val_acc = []\n",
        "    self.train_acc = []\n",
        "\n",
        "  def lossplot(self):\n",
        "    plt.figure(figsize=(10,5))\n",
        "    plt.title(\"Training and Validation Loss\")\n",
        "    plt.plot(self.val_losses,label=\"val\")\n",
        "    plt.plot(self.train_losses,label=\"train\")\n",
        "    plt.xlabel(\"iterations\")\n",
        "    plt.ylabel(\"Loss\")\n",
        "    plt.legend()\n",
        "    plt.show()\n",
        "\n",
        "  def accplot(self):\n",
        "    plt.figure(figsize=(10,5))\n",
        "    plt.title(\"Training and Validation Accuracy\")\n",
        "    plt.plot(self.val_acc,label=\"val\")\n",
        "    plt.plot(self.train_acc,label=\"train\")\n",
        "    plt.xlabel(\"iterations\")\n",
        "    plt.ylabel(\"Accuracy\")\n",
        "    plt.legend()\n",
        "    plt.show()\n",
        "\n",
        "  def trainCuda(self,epoch):\n",
        "    correct = 0\n",
        "    total = 0\n",
        "    runningLoss = 0.0\n",
        "    for i, data in enumerate(trainloader, 0):\n",
        "        inputs, labels = data\n",
        "        self.optimizer.zero_grad()\n",
        "        outputs = self.model(inputs)\n",
        "        loss = self.cost(outputs, labels)\n",
        "        loss.backward()\n",
        "        self.optimizer.step()\n",
        "        _, predicted = torch.max(outputs.data, 1)\n",
        "        runningLoss += loss.item()\n",
        "        total += labels.size(0)\n",
        "        correct += (predicted == labels).sum().item()\n",
        "        \n",
        "        if (i+1) % 20 == 0: \n",
        "            print(\"Epoch:{}, Iteration:{}, Loss:{:.3f}\".format(epoch + 1, i + 1, runningLoss / (i+1)))\n",
        "    return (runningLoss/len(trainloader), (100*correct / total))\n",
        "\n",
        "  def testCuda(self):\n",
        "    correct = 0\n",
        "    total = 0\n",
        "    runningLoss = 0.0\n",
        "    with torch.no_grad():\n",
        "        for data in testloader:\n",
        "            inputs, labels = data\n",
        "            outputs = self.model(inputs)\n",
        "            loss=self.cost(outputs,labels)\n",
        "            runningLoss += loss.item()\n",
        "            _, predicted = torch.max(outputs.data, 1)\n",
        "            total += labels.size(0)\n",
        "            correct += (predicted == labels).sum().item()\n",
        "    print('Test Accuracy: %d %%' % (100 * correct / total))\n",
        "    return (runningLoss/len(testloader), (100*correct / total))\n",
        "\n",
        "  def fit(self):\n",
        "    for epoch in range(numEpochs):\n",
        "      running_loss_train, running_train_acc = self.trainCuda(epoch)\n",
        "      running_loss_test, running_test_acc = self.testCuda()\n",
        "      self.train_losses.append(running_loss_train)\n",
        "      self.val_losses.append(running_loss_test)\n",
        "      self.train_acc.append(running_train_acc)\n",
        "      self.val_acc.append(running_test_acc)"
      ]
    },
    {
      "cell_type": "code",
      "source": [
        "for i, data in enumerate(trainloader, 0):\n",
        "  if(i>5):\n",
        "    break\n",
        "  print(data[1])"
      ],
      "metadata": {
        "colab": {
          "base_uri": "https://localhost:8080/"
        },
        "id": "JGE8STUaQY3N",
        "outputId": "65fdc217-7415-4654-ea66-18132f3323bf"
      },
      "id": "JGE8STUaQY3N",
      "execution_count": 6,
      "outputs": [
        {
          "output_type": "stream",
          "name": "stdout",
          "text": [
            "tensor([6, 9, 9, 4, 1, 1, 2, 7, 8, 3, 4, 7, 7, 2, 9, 9, 9, 3, 2, 6, 4, 3, 6, 6,\n",
            "        2, 6, 3, 5, 4, 0, 0, 9, 1, 3, 4, 0, 3, 7, 3, 3, 5, 2, 2, 7, 1, 1, 1, 2,\n",
            "        2, 0, 9, 5, 7, 9, 2, 2, 5, 2, 4, 3, 1, 1, 8, 2, 1, 1, 4, 9, 7, 8, 5, 9,\n",
            "        6, 7, 3, 1, 9, 0, 3, 1, 3, 5, 4, 5, 7, 7, 4, 7, 9, 4, 2, 3, 8, 0, 1, 6,\n",
            "        1, 1, 4, 1, 8, 3, 9, 6, 6, 1, 8, 5, 2, 9, 9, 8, 1, 7, 7, 0, 0, 6, 9, 1,\n",
            "        2, 2, 9, 2, 6, 6, 1, 9])\n",
            "tensor([5, 0, 4, 7, 6, 7, 1, 8, 1, 1, 2, 8, 1, 3, 3, 6, 2, 4, 9, 9, 5, 4, 3, 6,\n",
            "        7, 4, 6, 8, 5, 5, 4, 3, 1, 8, 4, 7, 6, 0, 9, 5, 1, 3, 8, 2, 7, 5, 3, 4,\n",
            "        1, 5, 7, 0, 4, 7, 5, 5, 1, 0, 9, 6, 9, 0, 8, 7, 8, 8, 2, 5, 2, 3, 5, 0,\n",
            "        6, 1, 9, 3, 6, 9, 1, 3, 9, 6, 6, 7, 1, 0, 9, 5, 8, 5, 2, 9, 0, 8, 8, 0,\n",
            "        6, 9, 1, 1, 6, 3, 7, 6, 6, 0, 6, 6, 1, 7, 1, 5, 8, 3, 6, 6, 8, 6, 8, 4,\n",
            "        6, 6, 1, 3, 8, 3, 4, 1])\n",
            "tensor([7, 1, 3, 8, 5, 1, 1, 4, 0, 9, 3, 7, 4, 9, 9, 2, 4, 9, 9, 1, 0, 5, 9, 0,\n",
            "        8, 2, 1, 2, 0, 5, 6, 3, 2, 7, 8, 8, 6, 0, 7, 9, 4, 5, 6, 4, 2, 1, 1, 2,\n",
            "        1, 5, 9, 9, 0, 8, 4, 1, 1, 6, 3, 3, 9, 0, 7, 9, 7, 7, 9, 1, 5, 1, 6, 6,\n",
            "        8, 7, 1, 3, 0, 3, 3, 2, 4, 5, 7, 5, 9, 0, 3, 4, 0, 4, 4, 6, 0, 0, 6, 6,\n",
            "        0, 8, 1, 6, 2, 9, 2, 5, 9, 6, 7, 4, 1, 8, 7, 3, 6, 9, 3, 0, 4, 0, 5, 1,\n",
            "        0, 3, 4, 8, 5, 4, 7, 2])\n",
            "tensor([3, 9, 7, 6, 7, 1, 4, 7, 0, 1, 7, 3, 1, 8, 4, 4, 2, 0, 2, 2, 0, 0, 9, 0,\n",
            "        9, 6, 8, 2, 7, 7, 4, 0, 3, 0, 8, 9, 4, 2, 7, 2, 5, 2, 5, 1, 9, 4, 8, 5,\n",
            "        1, 7, 4, 4, 0, 6, 9, 0, 7, 8, 8, 9, 9, 3, 3, 4, 0, 4, 5, 6, 6, 0, 1, 0,\n",
            "        8, 0, 4, 8, 8, 1, 5, 2, 6, 8, 1, 0, 0, 7, 7, 5, 9, 6, 2, 8, 3, 4, 7, 3,\n",
            "        9, 0, 1, 2, 4, 8, 1, 8, 6, 4, 4, 5, 7, 1, 3, 9, 8, 0, 1, 7, 5, 8, 2, 8,\n",
            "        0, 4, 1, 8, 9, 8, 2, 9])\n",
            "tensor([9, 2, 7, 5, 7, 3, 8, 8, 4, 4, 2, 7, 1, 6, 4, 0, 4, 6, 9, 7, 6, 2, 5, 5,\n",
            "        1, 7, 2, 2, 2, 9, 5, 4, 2, 7, 8, 1, 3, 4, 3, 7, 6, 9, 8, 0, 6, 0, 2, 2,\n",
            "        2, 1, 8, 4, 0, 1, 8, 8, 1, 5, 7, 6, 4, 5, 8, 7, 1, 9, 1, 9, 8, 4, 7, 3,\n",
            "        8, 8, 2, 6, 6, 7, 1, 6, 8, 1, 9, 7, 8, 3, 0, 1, 0, 8, 8, 3, 0, 0, 1, 5,\n",
            "        0, 8, 8, 7, 9, 9, 0, 9, 4, 1, 3, 6, 6, 4, 4, 7, 5, 6, 0, 8, 0, 3, 2, 8,\n",
            "        4, 6, 9, 9, 7, 0, 3, 3])\n",
            "tensor([6, 7, 4, 9, 1, 6, 2, 7, 2, 2, 0, 6, 7, 5, 7, 6, 8, 9, 0, 9, 4, 4, 7, 0,\n",
            "        9, 4, 9, 6, 9, 4, 5, 7, 9, 2, 4, 5, 1, 4, 3, 9, 6, 5, 6, 9, 3, 3, 5, 0,\n",
            "        7, 2, 1, 3, 6, 4, 0, 0, 2, 5, 0, 1, 0, 2, 3, 9, 8, 4, 9, 8, 0, 2, 6, 4,\n",
            "        4, 0, 1, 8, 8, 3, 6, 9, 6, 6, 7, 8, 2, 4, 5, 7, 6, 5, 3, 0, 5, 0, 5, 0,\n",
            "        8, 2, 6, 7, 3, 8, 2, 1, 7, 6, 7, 1, 0, 9, 5, 5, 0, 1, 7, 6, 9, 0, 4, 7,\n",
            "        7, 1, 5, 9, 4, 0, 8, 5])\n"
          ]
        }
      ]
    },
    {
      "cell_type": "code",
      "source": [
        "neuralNet = NeuralNetwork(trainloader, testloader, learningRate)"
      ],
      "metadata": {
        "id": "u2NSt99Zw5XP"
      },
      "id": "u2NSt99Zw5XP",
      "execution_count": 7,
      "outputs": []
    },
    {
      "cell_type": "code",
      "source": [
        "# Fit the LeNet5 Neural Network\n",
        "neuralNet.fit()"
      ],
      "metadata": {
        "id": "XaTDv3vJPCKd",
        "colab": {
          "base_uri": "https://localhost:8080/"
        },
        "outputId": "7ea8de00-7d81-41ed-8ec8-8753bee4b8e0"
      },
      "id": "XaTDv3vJPCKd",
      "execution_count": 8,
      "outputs": [
        {
          "output_type": "stream",
          "name": "stdout",
          "text": [
            "Epoch:1, Iteration:20, Loss:2.154\n",
            "Epoch:1, Iteration:40, Loss:1.998\n",
            "Epoch:1, Iteration:60, Loss:1.903\n",
            "Epoch:1, Iteration:80, Loss:1.840\n",
            "Epoch:1, Iteration:100, Loss:1.790\n",
            "Epoch:1, Iteration:120, Loss:1.751\n",
            "Epoch:1, Iteration:140, Loss:1.717\n",
            "Epoch:1, Iteration:160, Loss:1.687\n",
            "Epoch:1, Iteration:180, Loss:1.659\n",
            "Epoch:1, Iteration:200, Loss:1.631\n",
            "Epoch:1, Iteration:220, Loss:1.610\n",
            "Epoch:1, Iteration:240, Loss:1.591\n",
            "Epoch:1, Iteration:260, Loss:1.579\n",
            "Epoch:1, Iteration:280, Loss:1.567\n",
            "Epoch:1, Iteration:300, Loss:1.556\n",
            "Epoch:1, Iteration:320, Loss:1.544\n",
            "Epoch:1, Iteration:340, Loss:1.532\n",
            "Epoch:1, Iteration:360, Loss:1.522\n",
            "Epoch:1, Iteration:380, Loss:1.514\n",
            "Test Accuracy: 51 %\n",
            "Epoch:2, Iteration:20, Loss:1.291\n",
            "Epoch:2, Iteration:40, Loss:1.303\n",
            "Epoch:2, Iteration:60, Loss:1.297\n",
            "Epoch:2, Iteration:80, Loss:1.291\n",
            "Epoch:2, Iteration:100, Loss:1.293\n",
            "Epoch:2, Iteration:120, Loss:1.295\n",
            "Epoch:2, Iteration:140, Loss:1.289\n",
            "Epoch:2, Iteration:160, Loss:1.285\n",
            "Epoch:2, Iteration:180, Loss:1.281\n",
            "Epoch:2, Iteration:200, Loss:1.273\n",
            "Epoch:2, Iteration:220, Loss:1.267\n",
            "Epoch:2, Iteration:240, Loss:1.263\n",
            "Epoch:2, Iteration:260, Loss:1.263\n",
            "Epoch:2, Iteration:280, Loss:1.263\n",
            "Epoch:2, Iteration:300, Loss:1.262\n",
            "Epoch:2, Iteration:320, Loss:1.259\n",
            "Epoch:2, Iteration:340, Loss:1.256\n",
            "Epoch:2, Iteration:360, Loss:1.253\n",
            "Epoch:2, Iteration:380, Loss:1.253\n",
            "Test Accuracy: 57 %\n",
            "Epoch:3, Iteration:20, Loss:1.159\n",
            "Epoch:3, Iteration:40, Loss:1.182\n",
            "Epoch:3, Iteration:60, Loss:1.176\n",
            "Epoch:3, Iteration:80, Loss:1.171\n",
            "Epoch:3, Iteration:100, Loss:1.175\n",
            "Epoch:3, Iteration:120, Loss:1.178\n",
            "Epoch:3, Iteration:140, Loss:1.173\n",
            "Epoch:3, Iteration:160, Loss:1.171\n",
            "Epoch:3, Iteration:180, Loss:1.169\n",
            "Epoch:3, Iteration:200, Loss:1.164\n",
            "Epoch:3, Iteration:220, Loss:1.160\n",
            "Epoch:3, Iteration:240, Loss:1.156\n",
            "Epoch:3, Iteration:260, Loss:1.158\n",
            "Epoch:3, Iteration:280, Loss:1.158\n",
            "Epoch:3, Iteration:300, Loss:1.158\n",
            "Epoch:3, Iteration:320, Loss:1.156\n",
            "Epoch:3, Iteration:340, Loss:1.154\n",
            "Epoch:3, Iteration:360, Loss:1.151\n",
            "Epoch:3, Iteration:380, Loss:1.151\n",
            "Test Accuracy: 59 %\n",
            "Epoch:4, Iteration:20, Loss:1.072\n",
            "Epoch:4, Iteration:40, Loss:1.095\n",
            "Epoch:4, Iteration:60, Loss:1.091\n",
            "Epoch:4, Iteration:80, Loss:1.088\n",
            "Epoch:4, Iteration:100, Loss:1.093\n",
            "Epoch:4, Iteration:120, Loss:1.098\n",
            "Epoch:4, Iteration:140, Loss:1.094\n",
            "Epoch:4, Iteration:160, Loss:1.093\n",
            "Epoch:4, Iteration:180, Loss:1.091\n",
            "Epoch:4, Iteration:200, Loss:1.088\n",
            "Epoch:4, Iteration:220, Loss:1.084\n",
            "Epoch:4, Iteration:240, Loss:1.081\n",
            "Epoch:4, Iteration:260, Loss:1.083\n",
            "Epoch:4, Iteration:280, Loss:1.084\n",
            "Epoch:4, Iteration:300, Loss:1.084\n",
            "Epoch:4, Iteration:320, Loss:1.083\n",
            "Epoch:4, Iteration:340, Loss:1.080\n",
            "Epoch:4, Iteration:360, Loss:1.078\n",
            "Epoch:4, Iteration:380, Loss:1.078\n",
            "Test Accuracy: 60 %\n",
            "Epoch:5, Iteration:20, Loss:1.011\n",
            "Epoch:5, Iteration:40, Loss:1.035\n",
            "Epoch:5, Iteration:60, Loss:1.030\n",
            "Epoch:5, Iteration:80, Loss:1.027\n",
            "Epoch:5, Iteration:100, Loss:1.031\n",
            "Epoch:5, Iteration:120, Loss:1.036\n",
            "Epoch:5, Iteration:140, Loss:1.034\n",
            "Epoch:5, Iteration:160, Loss:1.032\n",
            "Epoch:5, Iteration:180, Loss:1.030\n",
            "Epoch:5, Iteration:200, Loss:1.028\n",
            "Epoch:5, Iteration:220, Loss:1.025\n",
            "Epoch:5, Iteration:240, Loss:1.022\n",
            "Epoch:5, Iteration:260, Loss:1.024\n",
            "Epoch:5, Iteration:280, Loss:1.025\n",
            "Epoch:5, Iteration:300, Loss:1.025\n",
            "Epoch:5, Iteration:320, Loss:1.024\n",
            "Epoch:5, Iteration:340, Loss:1.022\n",
            "Epoch:5, Iteration:360, Loss:1.020\n",
            "Epoch:5, Iteration:380, Loss:1.021\n",
            "Test Accuracy: 61 %\n",
            "Epoch:6, Iteration:20, Loss:0.957\n",
            "Epoch:6, Iteration:40, Loss:0.980\n",
            "Epoch:6, Iteration:60, Loss:0.975\n",
            "Epoch:6, Iteration:80, Loss:0.973\n",
            "Epoch:6, Iteration:100, Loss:0.978\n",
            "Epoch:6, Iteration:120, Loss:0.983\n",
            "Epoch:6, Iteration:140, Loss:0.981\n",
            "Epoch:6, Iteration:160, Loss:0.982\n",
            "Epoch:6, Iteration:180, Loss:0.980\n",
            "Epoch:6, Iteration:200, Loss:0.978\n",
            "Epoch:6, Iteration:220, Loss:0.976\n",
            "Epoch:6, Iteration:240, Loss:0.974\n",
            "Epoch:6, Iteration:260, Loss:0.976\n",
            "Epoch:6, Iteration:280, Loss:0.976\n",
            "Epoch:6, Iteration:300, Loss:0.977\n",
            "Epoch:6, Iteration:320, Loss:0.976\n",
            "Epoch:6, Iteration:340, Loss:0.974\n",
            "Epoch:6, Iteration:360, Loss:0.973\n",
            "Epoch:6, Iteration:380, Loss:0.972\n",
            "Test Accuracy: 62 %\n",
            "Epoch:7, Iteration:20, Loss:0.916\n",
            "Epoch:7, Iteration:40, Loss:0.935\n",
            "Epoch:7, Iteration:60, Loss:0.929\n",
            "Epoch:7, Iteration:80, Loss:0.928\n",
            "Epoch:7, Iteration:100, Loss:0.934\n",
            "Epoch:7, Iteration:120, Loss:0.938\n",
            "Epoch:7, Iteration:140, Loss:0.937\n",
            "Epoch:7, Iteration:160, Loss:0.939\n",
            "Epoch:7, Iteration:180, Loss:0.937\n",
            "Epoch:7, Iteration:200, Loss:0.936\n",
            "Epoch:7, Iteration:220, Loss:0.935\n",
            "Epoch:7, Iteration:240, Loss:0.932\n",
            "Epoch:7, Iteration:260, Loss:0.934\n",
            "Epoch:7, Iteration:280, Loss:0.935\n",
            "Epoch:7, Iteration:300, Loss:0.935\n",
            "Epoch:7, Iteration:320, Loss:0.934\n",
            "Epoch:7, Iteration:340, Loss:0.932\n",
            "Epoch:7, Iteration:360, Loss:0.931\n",
            "Epoch:7, Iteration:380, Loss:0.930\n",
            "Test Accuracy: 63 %\n",
            "Epoch:8, Iteration:20, Loss:0.882\n",
            "Epoch:8, Iteration:40, Loss:0.896\n",
            "Epoch:8, Iteration:60, Loss:0.891\n",
            "Epoch:8, Iteration:80, Loss:0.890\n",
            "Epoch:8, Iteration:100, Loss:0.895\n",
            "Epoch:8, Iteration:120, Loss:0.898\n",
            "Epoch:8, Iteration:140, Loss:0.897\n",
            "Epoch:8, Iteration:160, Loss:0.897\n",
            "Epoch:8, Iteration:180, Loss:0.897\n",
            "Epoch:8, Iteration:200, Loss:0.895\n",
            "Epoch:8, Iteration:220, Loss:0.895\n",
            "Epoch:8, Iteration:240, Loss:0.892\n",
            "Epoch:8, Iteration:260, Loss:0.894\n",
            "Epoch:8, Iteration:280, Loss:0.895\n",
            "Epoch:8, Iteration:300, Loss:0.896\n",
            "Epoch:8, Iteration:320, Loss:0.895\n",
            "Epoch:8, Iteration:340, Loss:0.893\n",
            "Epoch:8, Iteration:360, Loss:0.892\n",
            "Epoch:8, Iteration:380, Loss:0.890\n",
            "Test Accuracy: 63 %\n",
            "Epoch:9, Iteration:20, Loss:0.852\n",
            "Epoch:9, Iteration:40, Loss:0.868\n",
            "Epoch:9, Iteration:60, Loss:0.862\n",
            "Epoch:9, Iteration:80, Loss:0.860\n",
            "Epoch:9, Iteration:100, Loss:0.865\n",
            "Epoch:9, Iteration:120, Loss:0.867\n",
            "Epoch:9, Iteration:140, Loss:0.865\n",
            "Epoch:9, Iteration:160, Loss:0.866\n",
            "Epoch:9, Iteration:180, Loss:0.866\n",
            "Epoch:9, Iteration:200, Loss:0.865\n",
            "Epoch:9, Iteration:220, Loss:0.865\n",
            "Epoch:9, Iteration:240, Loss:0.863\n",
            "Epoch:9, Iteration:260, Loss:0.865\n",
            "Epoch:9, Iteration:280, Loss:0.865\n",
            "Epoch:9, Iteration:300, Loss:0.866\n",
            "Epoch:9, Iteration:320, Loss:0.865\n",
            "Epoch:9, Iteration:340, Loss:0.863\n",
            "Epoch:9, Iteration:360, Loss:0.861\n",
            "Epoch:9, Iteration:380, Loss:0.860\n",
            "Test Accuracy: 63 %\n",
            "Epoch:10, Iteration:20, Loss:0.820\n",
            "Epoch:10, Iteration:40, Loss:0.836\n",
            "Epoch:10, Iteration:60, Loss:0.832\n",
            "Epoch:10, Iteration:80, Loss:0.831\n",
            "Epoch:10, Iteration:100, Loss:0.835\n",
            "Epoch:10, Iteration:120, Loss:0.836\n",
            "Epoch:10, Iteration:140, Loss:0.835\n",
            "Epoch:10, Iteration:160, Loss:0.835\n",
            "Epoch:10, Iteration:180, Loss:0.836\n",
            "Epoch:10, Iteration:200, Loss:0.835\n",
            "Epoch:10, Iteration:220, Loss:0.835\n",
            "Epoch:10, Iteration:240, Loss:0.832\n",
            "Epoch:10, Iteration:260, Loss:0.835\n",
            "Epoch:10, Iteration:280, Loss:0.835\n",
            "Epoch:10, Iteration:300, Loss:0.837\n",
            "Epoch:10, Iteration:320, Loss:0.836\n",
            "Epoch:10, Iteration:340, Loss:0.835\n",
            "Epoch:10, Iteration:360, Loss:0.833\n",
            "Epoch:10, Iteration:380, Loss:0.832\n",
            "Test Accuracy: 63 %\n"
          ]
        }
      ]
    },
    {
      "cell_type": "code",
      "source": [
        "neuralNet.lossplot()"
      ],
      "metadata": {
        "colab": {
          "base_uri": "https://localhost:8080/",
          "height": 350
        },
        "id": "rIkMm19KjqIF",
        "outputId": "b157188c-231e-444c-a7a7-8edf56bef0fd"
      },
      "id": "rIkMm19KjqIF",
      "execution_count": 9,
      "outputs": [
        {
          "output_type": "display_data",
          "data": {
            "text/plain": [
              "<Figure size 720x360 with 1 Axes>"
            ],
            "image/png": "[encoded data removed]"
          },
          "metadata": {
            "needs_background": "light"
          }
        }
      ]
    },
    {
      "cell_type": "code",
      "source": [
        "neuralNet.accplot()"
      ],
      "metadata": {
        "colab": {
          "base_uri": "https://localhost:8080/",
          "height": 350
        },
        "id": "tIPG7qLXs9cx",
        "outputId": "8e0b8806-d8a2-4884-c34b-9622443994e0"
      },
      "id": "tIPG7qLXs9cx",
      "execution_count": 10,
      "outputs": [
        {
          "output_type": "display_data",
          "data": {
            "text/plain": [
              "<Figure size 720x360 with 1 Axes>"
            ],
            "image/png": "[encoded data removed]"
          },
          "metadata": {
            "needs_background": "light"
          }
        }
      ]
    },
    {
      "cell_type": "code",
      "source": [],
      "metadata": {
        "id": "T3kEPz8f8xs_"
      },
      "id": "T3kEPz8f8xs_",
      "execution_count": null,
      "outputs": []
    }
  ],
  "metadata": {
    "kernelspec": {
      "display_name": "Python 3 (ipykernel)",
      "language": "python",
      "name": "python3"
    },
    "language_info": {
      "codemirror_mode": {
        "name": "ipython",
        "version": 3
      },
      "file_extension": ".py",
      "mimetype": "text/x-python",
      "name": "python",
      "nbconvert_exporter": "python",
      "pygments_lexer": "ipython3",
      "version": "3.8.12"
    },
    "colab": {
      "provenance": []
    },
    "gpuClass": "standard",
    "widgets": {
      "application/vnd.jupyter.widget-state+json": {
        "0a8905f4b7a445f2930fa56d97073d2e": {
          "model_module": "@jupyter-widgets/controls",
          "model_name": "HBoxModel",
          "model_module_version": "1.5.0",
          "state": {
            "_dom_classes": [],
            "_model_module": "@jupyter-widgets/controls",
            "_model_module_version": "1.5.0",
            "_model_name": "HBoxModel",
            "_view_count": null,
            "_view_module": "@jupyter-widgets/controls",
            "_view_module_version": "1.5.0",
            "_view_name": "HBoxView",
            "box_style": "",
            "children": [
              "IPY_MODEL_fd20d5e90d7b41d2bb5dfef36462bb22",
              "IPY_MODEL_5ed30f2188094fbc9ffa65763f67ce70",
              "IPY_MODEL_5c2a19e76efb4b88a1d7fd65fd6fe5aa"
            ],
            "layout": "IPY_MODEL_ced133ce886847479aa0422a03d0d2a7"
          }
        },
        "fd20d5e90d7b41d2bb5dfef36462bb22": {
          "model_module": "@jupyter-widgets/controls",
          "model_name": "HTMLModel",
          "model_module_version": "1.5.0",
          "state": {
            "_dom_classes": [],
            "_model_module": "@jupyter-widgets/controls",
            "_model_module_version": "1.5.0",
            "_model_name": "HTMLModel",
            "_view_count": null,
            "_view_module": "@jupyter-widgets/controls",
            "_view_module_version": "1.5.0",
            "_view_name": "HTMLView",
            "description": "",
            "description_tooltip": null,
            "layout": "IPY_MODEL_78ef4b8f459a46128f4ecf374103dc98",
            "placeholder": "​",
            "style": "IPY_MODEL_21c721af62e14fc19fa61eb19cab6662",
            "value": "100%"
          }
        },
        "5ed30f2188094fbc9ffa65763f67ce70": {
          "model_module": "@jupyter-widgets/controls",
          "model_name": "FloatProgressModel",
          "model_module_version": "1.5.0",
          "state": {
            "_dom_classes": [],
            "_model_module": "@jupyter-widgets/controls",
            "_model_module_version": "1.5.0",
            "_model_name": "FloatProgressModel",
            "_view_count": null,
            "_view_module": "@jupyter-widgets/controls",
            "_view_module_version": "1.5.0",
            "_view_name": "ProgressView",
            "bar_style": "success",
            "description": "",
            "description_tooltip": null,
            "layout": "IPY_MODEL_f8cb45a1886941c086880575815d650d",
            "max": 170498071,
            "min": 0,
            "orientation": "horizontal",
            "style": "IPY_MODEL_5964f79b1f904d32bb889b5429f11d3b",
            "value": 170498071
          }
        },
        "5c2a19e76efb4b88a1d7fd65fd6fe5aa": {
          "model_module": "@jupyter-widgets/controls",
          "model_name": "HTMLModel",
          "model_module_version": "1.5.0",
          "state": {
            "_dom_classes": [],
            "_model_module": "@jupyter-widgets/controls",
            "_model_module_version": "1.5.0",
            "_model_name": "HTMLModel",
            "_view_count": null,
            "_view_module": "@jupyter-widgets/controls",
            "_view_module_version": "1.5.0",
            "_view_name": "HTMLView",
            "description": "",
            "description_tooltip": null,
            "layout": "IPY_MODEL_dfea4dce3d7b44f5aaf3b61dd903bdd1",
            "placeholder": "​",
            "style": "IPY_MODEL_c475ac66668846b2abc145bf1af8bfee",
            "value": " 170498071/170498071 [00:06&lt;00:00, 30127794.42it/s]"
          }
        },
        "ced133ce886847479aa0422a03d0d2a7": {
          "model_module": "@jupyter-widgets/base",
          "model_name": "LayoutModel",
          "model_module_version": "1.2.0",
          "state": {
            "_model_module": "@jupyter-widgets/base",
            "_model_module_version": "1.2.0",
            "_model_name": "LayoutModel",
            "_view_count": null,
            "_view_module": "@jupyter-widgets/base",
            "_view_module_version": "1.2.0",
            "_view_name": "LayoutView",
            "align_content": null,
            "align_items": null,
            "align_self": null,
            "border": null,
            "bottom": null,
            "display": null,
            "flex": null,
            "flex_flow": null,
            "grid_area": null,
            "grid_auto_columns": null,
            "grid_auto_flow": null,
            "grid_auto_rows": null,
            "grid_column": null,
            "grid_gap": null,
            "grid_row": null,
            "grid_template_areas": null,
            "grid_template_columns": null,
            "grid_template_rows": null,
            "height": null,
            "justify_content": null,
            "justify_items": null,
            "left": null,
            "margin": null,
            "max_height": null,
            "max_width": null,
            "min_height": null,
            "min_width": null,
            "object_fit": null,
            "object_position": null,
            "order": null,
            "overflow": null,
            "overflow_x": null,
            "overflow_y": null,
            "padding": null,
            "right": null,
            "top": null,
            "visibility": null,
            "width": null
          }
        },
        "78ef4b8f459a46128f4ecf374103dc98": {
          "model_module": "@jupyter-widgets/base",
          "model_name": "LayoutModel",
          "model_module_version": "1.2.0",
          "state": {
            "_model_module": "@jupyter-widgets/base",
            "_model_module_version": "1.2.0",
            "_model_name": "LayoutModel",
            "_view_count": null,
            "_view_module": "@jupyter-widgets/base",
            "_view_module_version": "1.2.0",
            "_view_name": "LayoutView",
            "align_content": null,
            "align_items": null,
            "align_self": null,
            "border": null,
            "bottom": null,
            "display": null,
            "flex": null,
            "flex_flow": null,
            "grid_area": null,
            "grid_auto_columns": null,
            "grid_auto_flow": null,
            "grid_auto_rows": null,
            "grid_column": null,
            "grid_gap": null,
            "grid_row": null,
            "grid_template_areas": null,
            "grid_template_columns": null,
            "grid_template_rows": null,
            "height": null,
            "justify_content": null,
            "justify_items": null,
            "left": null,
            "margin": null,
            "max_height": null,
            "max_width": null,
            "min_height": null,
            "min_width": null,
            "object_fit": null,
            "object_position": null,
            "order": null,
            "overflow": null,
            "overflow_x": null,
            "overflow_y": null,
            "padding": null,
            "right": null,
            "top": null,
            "visibility": null,
            "width": null
          }
        },
        "21c721af62e14fc19fa61eb19cab6662": {
          "model_module": "@jupyter-widgets/controls",
          "model_name": "DescriptionStyleModel",
          "model_module_version": "1.5.0",
          "state": {
            "_model_module": "@jupyter-widgets/controls",
            "_model_module_version": "1.5.0",
            "_model_name": "DescriptionStyleModel",
            "_view_count": null,
            "_view_module": "@jupyter-widgets/base",
            "_view_module_version": "1.2.0",
            "_view_name": "StyleView",
            "description_width": ""
          }
        },
        "f8cb45a1886941c086880575815d650d": {
          "model_module": "@jupyter-widgets/base",
          "model_name": "LayoutModel",
          "model_module_version": "1.2.0",
          "state": {
            "_model_module": "@jupyter-widgets/base",
            "_model_module_version": "1.2.0",
            "_model_name": "LayoutModel",
            "_view_count": null,
            "_view_module": "@jupyter-widgets/base",
            "_view_module_version": "1.2.0",
            "_view_name": "LayoutView",
            "align_content": null,
            "align_items": null,
            "align_self": null,
            "border": null,
            "bottom": null,
            "display": null,
            "flex": null,
            "flex_flow": null,
            "grid_area": null,
            "grid_auto_columns": null,
            "grid_auto_flow": null,
            "grid_auto_rows": null,
            "grid_column": null,
            "grid_gap": null,
            "grid_row": null,
            "grid_template_areas": null,
            "grid_template_columns": null,
            "grid_template_rows": null,
            "height": null,
            "justify_content": null,
            "justify_items": null,
            "left": null,
            "margin": null,
            "max_height": null,
            "max_width": null,
            "min_height": null,
            "min_width": null,
            "object_fit": null,
            "object_position": null,
            "order": null,
            "overflow": null,
            "overflow_x": null,
            "overflow_y": null,
            "padding": null,
            "right": null,
            "top": null,
            "visibility": null,
            "width": null
          }
        },
        "5964f79b1f904d32bb889b5429f11d3b": {
          "model_module": "@jupyter-widgets/controls",
          "model_name": "ProgressStyleModel",
          "model_module_version": "1.5.0",
          "state": {
            "_model_module": "@jupyter-widgets/controls",
            "_model_module_version": "1.5.0",
            "_model_name": "ProgressStyleModel",
            "_view_count": null,
            "_view_module": "@jupyter-widgets/base",
            "_view_module_version": "1.2.0",
            "_view_name": "StyleView",
            "bar_color": null,
            "description_width": ""
          }
        },
        "dfea4dce3d7b44f5aaf3b61dd903bdd1": {
          "model_module": "@jupyter-widgets/base",
          "model_name": "LayoutModel",
          "model_module_version": "1.2.0",
          "state": {
            "_model_module": "@jupyter-widgets/base",
            "_model_module_version": "1.2.0",
            "_model_name": "LayoutModel",
            "_view_count": null,
            "_view_module": "@jupyter-widgets/base",
            "_view_module_version": "1.2.0",
            "_view_name": "LayoutView",
            "align_content": null,
            "align_items": null,
            "align_self": null,
            "border": null,
            "bottom": null,
            "display": null,
            "flex": null,
            "flex_flow": null,
            "grid_area": null,
            "grid_auto_columns": null,
            "grid_auto_flow": null,
            "grid_auto_rows": null,
            "grid_column": null,
            "grid_gap": null,
            "grid_row": null,
            "grid_template_areas": null,
            "grid_template_columns": null,
            "grid_template_rows": null,
            "height": null,
            "justify_content": null,
            "justify_items": null,
            "left": null,
            "margin": null,
            "max_height": null,
            "max_width": null,
            "min_height": null,
            "min_width": null,
            "object_fit": null,
            "object_position": null,
            "order": null,
            "overflow": null,
            "overflow_x": null,
            "overflow_y": null,
            "padding": null,
            "right": null,
            "top": null,
            "visibility": null,
            "width": null
          }
        },
        "c475ac66668846b2abc145bf1af8bfee": {
          "model_module": "@jupyter-widgets/controls",
          "model_name": "DescriptionStyleModel",
          "model_module_version": "1.5.0",
          "state": {
            "_model_module": "@jupyter-widgets/controls",
            "_model_module_version": "1.5.0",
            "_model_name": "DescriptionStyleModel",
            "_view_count": null,
            "_view_module": "@jupyter-widgets/base",
            "_view_module_version": "1.2.0",
            "_view_name": "StyleView",
            "description_width": ""
          }
        }
      }
    }
  },
  "nbformat": 4,
  "nbformat_minor": 5
}