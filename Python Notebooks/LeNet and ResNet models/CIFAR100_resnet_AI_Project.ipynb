{
 "cells": [
  {
   "cell_type": "markdown",
   "id": "rco2zyqBKk2f",
   "metadata": {
    "id": "rco2zyqBKk2f"
   },
   "source": [
    "### Notebook Information\n",
    "\n",
    "#### In this notebook we are running the ResNet 34 model on CIFAR 10 dataset"
   ]
  },
  {
   "cell_type": "code",
   "execution_count": 1,
   "id": "f0013fad-1984-424d-a99f-53c2b5a5e1e5",
   "metadata": {
    "execution": {
     "iopub.execute_input": "2022-06-21T20:55:03.562597Z",
     "iopub.status.busy": "2022-06-21T20:55:03.561818Z",
     "iopub.status.idle": "2022-06-21T20:55:04.730045Z",
     "shell.execute_reply": "2022-06-21T20:55:04.729259Z",
     "shell.execute_reply.started": "2022-06-21T20:55:03.562566Z"
    },
    "id": "f0013fad-1984-424d-a99f-53c2b5a5e1e5"
   },
   "outputs": [],
   "source": [
    "# Importing the Required libraries for this Project\n",
    "# Import numpy\n",
    "import numpy as np\n",
    "# get Pytorch\n",
    "import torch\n",
    "# get torch.nn for model layers\n",
    "import torch.nn as nn"
   ]
  },
  {
   "cell_type": "code",
   "execution_count": 2,
   "id": "hd2KjislKr6C",
   "metadata": {
    "id": "hd2KjislKr6C"
   },
   "outputs": [],
   "source": [
    "# Setting the device \n",
    "if torch.cuda.is_available():\n",
    "  device = torch.device('cuda')\n",
    "else:\n",
    "  device = torch.device('cpu')"
   ]
  },
  {
   "cell_type": "code",
   "execution_count": 3,
   "id": "4e336f55-bfb5-4afd-aa3b-efb7dc9ce590",
   "metadata": {
    "colab": {
     "base_uri": "https://localhost:8080/",
     "height": 115,
     "referenced_widgets": [
      "3c79fd2162a64eba871f9146257fffd0",
      "d5b09dd7e27845b4ab8d295ee7860248",
      "77dd854a84e0402da18356daf85b04f5",
      "5e744ac1e6c64094b7bbdf4a2de52d5b",
      "b59508e494144b32a17150f67b7fedf7",
      "5549e5959f584fdbaa3c86749fcca9fc",
      "97110c1f364146118ae870d7100b94af",
      "1c9862038dfc445b95017034ea84def8",
      "d15f9c9c7a9e4eeb89683ffe4f289b61",
      "08540b5404614c66be6513f65772cab5",
      "3963419a158d4866a1b04956198382e1"
     ]
    },
    "execution": {
     "iopub.execute_input": "2022-06-21T20:55:04.731772Z",
     "iopub.status.busy": "2022-06-21T20:55:04.731576Z",
     "iopub.status.idle": "2022-06-21T20:55:08.711162Z",
     "shell.execute_reply": "2022-06-21T20:55:08.710488Z",
     "shell.execute_reply.started": "2022-06-21T20:55:04.731749Z"
    },
    "id": "4e336f55-bfb5-4afd-aa3b-efb7dc9ce590",
    "outputId": "cb88e494-a5bd-49de-8027-e63ebea8ed35"
   },
   "outputs": [
    {
     "name": "stdout",
     "output_type": "stream",
     "text": [
      "Downloading https://www.cs.toronto.edu/~kriz/cifar-100-python.tar.gz to ./data/cifar-100-python.tar.gz\n"
     ]
    },
    {
     "data": {
      "application/vnd.jupyter.widget-view+json": {
       "model_id": "3c79fd2162a64eba871f9146257fffd0",
       "version_major": 2,
       "version_minor": 0
      },
      "text/plain": [
       "  0%|          | 0/169001437 [00:00<?, ?it/s]"
      ]
     },
     "metadata": {},
     "output_type": "display_data"
    },
    {
     "name": "stdout",
     "output_type": "stream",
     "text": [
      "Extracting ./data/cifar-100-python.tar.gz to ./data\n",
      "Files already downloaded and verified\n",
      "Files already downloaded and verified\n"
     ]
    }
   ],
   "source": [
    "from numpy.lib.shape_base import dstack\n",
    "# Getting the Dataset from the datasets library\n",
    "\n",
    "from torchvision import datasets as ds\n",
    "from torchvision import transforms as tfs\n",
    "from torch.utils.data.sampler import SubsetRandomSampler\n",
    "import torch.utils.data as tud\n",
    "# Creating a function to load our data and passing all the required parameters\n",
    "\n",
    "def load_data_project(dataAddr, bs1, vs=0.1, test=False, sf=True):  \n",
    "    nrm = tfs.Normalize(mean=[0.4913, 0.4821, 0.4466],std=[0.2470, 0.2435, 0.2615],)\n",
    "\n",
    "    tf = tfs.Compose([tfs.Resize((224,224)), tfs.ToTensor(), nrm,])\n",
    "\n",
    "    # If we are trying to load the test dataset\n",
    "    if test == True:\n",
    "        dsCurr = ds.CIFAR100(root=dataAddr, download=True, train=False,transform=tf,)\n",
    "\n",
    "        load_data_project = tud.DataLoader(dsCurr, batch_size=bs1, shuffle=sf)\n",
    "\n",
    "        return load_data_project\n",
    "\n",
    "    # get the dataset into train and validation variables\n",
    "    dsCurrTrain = ds.CIFAR100(root=dataAddr, train=True, download=True, transform=tf,)\n",
    "\n",
    "    dsCurrValid = ds.CIFAR100(root=dataAddr, train=True, download=True, transform=tf, )\n",
    "\n",
    "    x = len(dsCurrTrain)\n",
    "    poss = list(range(x))\n",
    "    div = int(np.floor(vs * x))\n",
    "\n",
    "    # To check and shuffle data accordingly\n",
    "    if sf == True:\n",
    "        np.random.shuffle(poss)\n",
    "\n",
    "        np.random.seed(42)\n",
    "\n",
    "    train_idx, valid_idx = poss[div:], poss[:div]\n",
    "    train_sampler = SubsetRandomSampler(train_idx)\n",
    "    valid_sampler = SubsetRandomSampler(valid_idx)\n",
    "\n",
    "    trainLoaderCurr = tud.DataLoader(dsCurrTrain, batch_size=bs1, sampler=train_sampler)\n",
    "    validLoaderCurr = tud.DataLoader(dsCurrValid, batch_size=bs1, sampler=valid_sampler)\n",
    "    return (trainLoaderCurr, validLoaderCurr)\n",
    " \n",
    "train_loader, valid_loader = load_data_project('./data',64)\n",
    "\n",
    "test_loader = load_data_project('./data',64,test=True)"
   ]
  },
  {
   "cell_type": "code",
   "execution_count": 4,
   "id": "decf1896-74e1-4ca3-aaf4-30fa6710bfa7",
   "metadata": {
    "execution": {
     "iopub.execute_input": "2022-06-21T20:55:12.033150Z",
     "iopub.status.busy": "2022-06-21T20:55:12.032911Z",
     "iopub.status.idle": "2022-06-21T20:55:12.039089Z",
     "shell.execute_reply": "2022-06-21T20:55:12.038434Z",
     "shell.execute_reply.started": "2022-06-21T20:55:12.033126Z"
    },
    "id": "decf1896-74e1-4ca3-aaf4-30fa6710bfa7"
   },
   "outputs": [],
   "source": [
    "class ResBlk(nn.Module):\n",
    "    def __init__(self, inputChannels, outputChannels, sd = 1, dsample = None):\n",
    "        super(ResBlk, self).__init__()\n",
    "        self.convolution1 = nn.Sequential(nn.Conv2d(inputChannels, outputChannels,padding = 1, kernel_size = 3, stride = sd), nn.BatchNorm2d(outputChannels),  nn.ReLU())\n",
    "        self.convolution2 = nn.Sequential( nn.Conv2d(outputChannels, outputChannels, padding = 1, kernel_size = 3, stride = 1), nn.BatchNorm2d(outputChannels))\n",
    "        self.ds = dsample\n",
    "        self.relu = nn.ReLU()\n",
    "        self.out_channels = outputChannels\n",
    "        \n",
    "    def forward(self, x):\n",
    "        res = x\n",
    "        output1 = self.convolution1(x)\n",
    "        output1 = self.convolution2(output1)\n",
    "        if self.ds:\n",
    "            res = self.ds(x)\n",
    "        output1 += res\n",
    "        output1 = self.relu(output1)\n",
    "        return output1"
   ]
  },
  {
   "cell_type": "code",
   "execution_count": 5,
   "id": "791c6d4a-3a95-4138-b5c5-f5ef785994b6",
   "metadata": {
    "execution": {
     "iopub.execute_input": "2022-06-21T20:55:18.279448Z",
     "iopub.status.busy": "2022-06-21T20:55:18.279207Z",
     "iopub.status.idle": "2022-06-21T20:55:18.291212Z",
     "shell.execute_reply": "2022-06-21T20:55:18.290614Z",
     "shell.execute_reply.started": "2022-06-21T20:55:18.279424Z"
    },
    "id": "791c6d4a-3a95-4138-b5c5-f5ef785994b6"
   },
   "outputs": [],
   "source": [
    "class ResNet34(nn.Module):\n",
    "    def __init__(self, block, layers, classes_cifar = 100):\n",
    "        super(ResNet34, self).__init__()\n",
    "        self.inplanes = 64\n",
    "        self.convolution1 = nn.Sequential( nn.Conv2d(3, 64, kernel_size = 7, stride = 2, padding = 3), nn.BatchNorm2d(64), nn.ReLU())\n",
    "        self.maxpoolingLayer = nn.MaxPool2d(kernel_size = 3, stride = 2, padding = 1)\n",
    "        self.l0 = self._make_layer(block, 64, layers[0], stride = 1)\n",
    "        self.l1 = self._make_layer(block, 128, layers[1], stride = 2)\n",
    "        self.l2 = self._make_layer(block, 256, layers[2], stride = 2)\n",
    "        self.l3 = self._make_layer(block, 512, layers[3], stride = 2)\n",
    "        self.Averagepool = nn.AvgPool2d(7, stride=1)\n",
    "        self.fc = nn.Linear(512, classes_cifar)\n",
    "        \n",
    "    def _make_layer(self, block, planes, blocks, stride=1):\n",
    "        downsample = None\n",
    "        if stride != 1 or self.inplanes != planes:\n",
    "            \n",
    "            downsample = nn.Sequential(\n",
    "                nn.Conv2d(self.inplanes, planes, kernel_size=1, stride=stride),\n",
    "                nn.BatchNorm2d(planes),\n",
    "            )\n",
    "        Model_layers = []\n",
    "        Model_layers.append(block(self.inplanes, planes, stride, downsample))\n",
    "        self.inplanes = planes\n",
    "        for i in range(1, blocks):\n",
    "            Model_layers.append(block(self.inplanes, planes))\n",
    "\n",
    "        return nn.Sequential(*Model_layers)\n",
    "    \n",
    "    \n",
    "    def forward(self, x1):\n",
    "        x1 = self.convolution1(x1)\n",
    "        x1 = self.maxpoolingLayer(x1)\n",
    "        x1 = self.l0(x1)\n",
    "        x1 = self.l1(x1)\n",
    "        x1 = self.l2(x1)\n",
    "        x1 = self.l3(x1)\n",
    "\n",
    "        x1 = self.Averagepool(x1)\n",
    "        x1 = x1.view(x1.size(0), -1)\n",
    "        x1 = self.fc(x1)\n",
    "\n",
    "        return x1\n"
   ]
  },
  {
   "cell_type": "code",
   "execution_count": 8,
   "id": "6d27d949-4b05-478e-a58d-76aaebe24b97",
   "metadata": {
    "execution": {
     "iopub.execute_input": "2022-06-21T20:55:26.815110Z",
     "iopub.status.busy": "2022-06-21T20:55:26.814870Z",
     "iopub.status.idle": "2022-06-21T20:55:28.954221Z",
     "shell.execute_reply": "2022-06-21T20:55:28.953387Z",
     "shell.execute_reply.started": "2022-06-21T20:55:26.815086Z"
    },
    "id": "6d27d949-4b05-478e-a58d-76aaebe24b97"
   },
   "outputs": [],
   "source": [
    "classes_cifar = 100\n",
    "epochs = 60\n",
    "batch_size = 16\n",
    "lr_eta = 0.1\n",
    "\n",
    "model = ResNet34(ResBlk, [3, 4, 6, 3]).to(device)\n",
    "\n",
    "# Loss and optimizer\n",
    "loss_func = nn.CrossEntropyLoss()\n",
    "optim_func = torch.optim.SGD(model.parameters(), lr=lr_eta, weight_decay = 0.001, momentum = 0.9)  \n",
    "\n",
    "# Train the model\n",
    "steps = len(train_loader)"
   ]
  },
  {
   "cell_type": "code",
   "execution_count": 9,
   "id": "eb9NACzq8Bx6",
   "metadata": {
    "colab": {
     "base_uri": "https://localhost:8080/"
    },
    "id": "eb9NACzq8Bx6",
    "outputId": "85c8a47f-8cc5-4931-923d-a53ac66fcd61"
   },
   "outputs": [
    {
     "name": "stdout",
     "output_type": "stream",
     "text": [
      "----------------------------------------------------------------\n",
      "        Layer (type)               Output Shape         Param #\n",
      "================================================================\n",
      "            Conv2d-1         [-1, 64, 112, 112]           9,472\n",
      "       BatchNorm2d-2         [-1, 64, 112, 112]             128\n",
      "              ReLU-3         [-1, 64, 112, 112]               0\n",
      "         MaxPool2d-4           [-1, 64, 56, 56]               0\n",
      "            Conv2d-5           [-1, 64, 56, 56]          36,928\n",
      "       BatchNorm2d-6           [-1, 64, 56, 56]             128\n",
      "              ReLU-7           [-1, 64, 56, 56]               0\n",
      "            Conv2d-8           [-1, 64, 56, 56]          36,928\n",
      "       BatchNorm2d-9           [-1, 64, 56, 56]             128\n",
      "             ReLU-10           [-1, 64, 56, 56]               0\n",
      "           ResBlk-11           [-1, 64, 56, 56]               0\n",
      "           Conv2d-12           [-1, 64, 56, 56]          36,928\n",
      "      BatchNorm2d-13           [-1, 64, 56, 56]             128\n",
      "             ReLU-14           [-1, 64, 56, 56]               0\n",
      "           Conv2d-15           [-1, 64, 56, 56]          36,928\n",
      "      BatchNorm2d-16           [-1, 64, 56, 56]             128\n",
      "             ReLU-17           [-1, 64, 56, 56]               0\n",
      "           ResBlk-18           [-1, 64, 56, 56]               0\n",
      "           Conv2d-19           [-1, 64, 56, 56]          36,928\n",
      "      BatchNorm2d-20           [-1, 64, 56, 56]             128\n",
      "             ReLU-21           [-1, 64, 56, 56]               0\n",
      "           Conv2d-22           [-1, 64, 56, 56]          36,928\n",
      "      BatchNorm2d-23           [-1, 64, 56, 56]             128\n",
      "             ReLU-24           [-1, 64, 56, 56]               0\n",
      "           ResBlk-25           [-1, 64, 56, 56]               0\n",
      "           Conv2d-26          [-1, 128, 28, 28]          73,856\n",
      "      BatchNorm2d-27          [-1, 128, 28, 28]             256\n",
      "             ReLU-28          [-1, 128, 28, 28]               0\n",
      "           Conv2d-29          [-1, 128, 28, 28]         147,584\n",
      "      BatchNorm2d-30          [-1, 128, 28, 28]             256\n",
      "           Conv2d-31          [-1, 128, 28, 28]           8,320\n",
      "      BatchNorm2d-32          [-1, 128, 28, 28]             256\n",
      "             ReLU-33          [-1, 128, 28, 28]               0\n",
      "           ResBlk-34          [-1, 128, 28, 28]               0\n",
      "           Conv2d-35          [-1, 128, 28, 28]         147,584\n",
      "      BatchNorm2d-36          [-1, 128, 28, 28]             256\n",
      "             ReLU-37          [-1, 128, 28, 28]               0\n",
      "           Conv2d-38          [-1, 128, 28, 28]         147,584\n",
      "      BatchNorm2d-39          [-1, 128, 28, 28]             256\n",
      "             ReLU-40          [-1, 128, 28, 28]               0\n",
      "           ResBlk-41          [-1, 128, 28, 28]               0\n",
      "           Conv2d-42          [-1, 128, 28, 28]         147,584\n",
      "      BatchNorm2d-43          [-1, 128, 28, 28]             256\n",
      "             ReLU-44          [-1, 128, 28, 28]               0\n",
      "           Conv2d-45          [-1, 128, 28, 28]         147,584\n",
      "      BatchNorm2d-46          [-1, 128, 28, 28]             256\n",
      "             ReLU-47          [-1, 128, 28, 28]               0\n",
      "           ResBlk-48          [-1, 128, 28, 28]               0\n",
      "           Conv2d-49          [-1, 128, 28, 28]         147,584\n",
      "      BatchNorm2d-50          [-1, 128, 28, 28]             256\n",
      "             ReLU-51          [-1, 128, 28, 28]               0\n",
      "           Conv2d-52          [-1, 128, 28, 28]         147,584\n",
      "      BatchNorm2d-53          [-1, 128, 28, 28]             256\n",
      "             ReLU-54          [-1, 128, 28, 28]               0\n",
      "           ResBlk-55          [-1, 128, 28, 28]               0\n",
      "           Conv2d-56          [-1, 256, 14, 14]         295,168\n",
      "      BatchNorm2d-57          [-1, 256, 14, 14]             512\n",
      "             ReLU-58          [-1, 256, 14, 14]               0\n",
      "           Conv2d-59          [-1, 256, 14, 14]         590,080\n",
      "      BatchNorm2d-60          [-1, 256, 14, 14]             512\n",
      "           Conv2d-61          [-1, 256, 14, 14]          33,024\n",
      "      BatchNorm2d-62          [-1, 256, 14, 14]             512\n",
      "             ReLU-63          [-1, 256, 14, 14]               0\n",
      "           ResBlk-64          [-1, 256, 14, 14]               0\n",
      "           Conv2d-65          [-1, 256, 14, 14]         590,080\n",
      "      BatchNorm2d-66          [-1, 256, 14, 14]             512\n",
      "             ReLU-67          [-1, 256, 14, 14]               0\n",
      "           Conv2d-68          [-1, 256, 14, 14]         590,080\n",
      "      BatchNorm2d-69          [-1, 256, 14, 14]             512\n",
      "             ReLU-70          [-1, 256, 14, 14]               0\n",
      "           ResBlk-71          [-1, 256, 14, 14]               0\n",
      "           Conv2d-72          [-1, 256, 14, 14]         590,080\n",
      "      BatchNorm2d-73          [-1, 256, 14, 14]             512\n",
      "             ReLU-74          [-1, 256, 14, 14]               0\n",
      "           Conv2d-75          [-1, 256, 14, 14]         590,080\n",
      "      BatchNorm2d-76          [-1, 256, 14, 14]             512\n",
      "             ReLU-77          [-1, 256, 14, 14]               0\n",
      "           ResBlk-78          [-1, 256, 14, 14]               0\n",
      "           Conv2d-79          [-1, 256, 14, 14]         590,080\n",
      "      BatchNorm2d-80          [-1, 256, 14, 14]             512\n",
      "             ReLU-81          [-1, 256, 14, 14]               0\n",
      "           Conv2d-82          [-1, 256, 14, 14]         590,080\n",
      "      BatchNorm2d-83          [-1, 256, 14, 14]             512\n",
      "             ReLU-84          [-1, 256, 14, 14]               0\n",
      "           ResBlk-85          [-1, 256, 14, 14]               0\n",
      "           Conv2d-86          [-1, 256, 14, 14]         590,080\n",
      "      BatchNorm2d-87          [-1, 256, 14, 14]             512\n",
      "             ReLU-88          [-1, 256, 14, 14]               0\n",
      "           Conv2d-89          [-1, 256, 14, 14]         590,080\n",
      "      BatchNorm2d-90          [-1, 256, 14, 14]             512\n",
      "             ReLU-91          [-1, 256, 14, 14]               0\n",
      "           ResBlk-92          [-1, 256, 14, 14]               0\n",
      "           Conv2d-93          [-1, 256, 14, 14]         590,080\n",
      "      BatchNorm2d-94          [-1, 256, 14, 14]             512\n",
      "             ReLU-95          [-1, 256, 14, 14]               0\n",
      "           Conv2d-96          [-1, 256, 14, 14]         590,080\n",
      "      BatchNorm2d-97          [-1, 256, 14, 14]             512\n",
      "             ReLU-98          [-1, 256, 14, 14]               0\n",
      "           ResBlk-99          [-1, 256, 14, 14]               0\n",
      "          Conv2d-100            [-1, 512, 7, 7]       1,180,160\n",
      "     BatchNorm2d-101            [-1, 512, 7, 7]           1,024\n",
      "            ReLU-102            [-1, 512, 7, 7]               0\n",
      "          Conv2d-103            [-1, 512, 7, 7]       2,359,808\n",
      "     BatchNorm2d-104            [-1, 512, 7, 7]           1,024\n",
      "          Conv2d-105            [-1, 512, 7, 7]         131,584\n",
      "     BatchNorm2d-106            [-1, 512, 7, 7]           1,024\n",
      "            ReLU-107            [-1, 512, 7, 7]               0\n",
      "          ResBlk-108            [-1, 512, 7, 7]               0\n",
      "          Conv2d-109            [-1, 512, 7, 7]       2,359,808\n",
      "     BatchNorm2d-110            [-1, 512, 7, 7]           1,024\n",
      "            ReLU-111            [-1, 512, 7, 7]               0\n",
      "          Conv2d-112            [-1, 512, 7, 7]       2,359,808\n",
      "     BatchNorm2d-113            [-1, 512, 7, 7]           1,024\n",
      "            ReLU-114            [-1, 512, 7, 7]               0\n",
      "          ResBlk-115            [-1, 512, 7, 7]               0\n",
      "          Conv2d-116            [-1, 512, 7, 7]       2,359,808\n",
      "     BatchNorm2d-117            [-1, 512, 7, 7]           1,024\n",
      "            ReLU-118            [-1, 512, 7, 7]               0\n",
      "          Conv2d-119            [-1, 512, 7, 7]       2,359,808\n",
      "     BatchNorm2d-120            [-1, 512, 7, 7]           1,024\n",
      "            ReLU-121            [-1, 512, 7, 7]               0\n",
      "          ResBlk-122            [-1, 512, 7, 7]               0\n",
      "       AvgPool2d-123            [-1, 512, 1, 1]               0\n",
      "          Linear-124                  [-1, 100]          51,300\n",
      "================================================================\n",
      "Total params: 21,344,484\n",
      "Trainable params: 21,344,484\n",
      "Non-trainable params: 0\n",
      "----------------------------------------------------------------\n",
      "Input size (MB): 0.57\n",
      "Forward/backward pass size (MB): 96.28\n",
      "Params size (MB): 81.42\n",
      "Estimated Total Size (MB): 178.28\n",
      "----------------------------------------------------------------\n"
     ]
    }
   ],
   "source": [
    "from torchsummary import summary\n",
    "summary(model, (3, 224, 224))"
   ]
  },
  {
   "cell_type": "code",
   "execution_count": null,
   "id": "d35dd285-f96c-4a8b-9704-6cb6815a43a0",
   "metadata": {
    "colab": {
     "base_uri": "https://localhost:8080/"
    },
    "execution": {
     "iopub.execute_input": "2022-06-21T20:55:32.415287Z",
     "iopub.status.busy": "2022-06-21T20:55:32.415043Z",
     "iopub.status.idle": "2022-06-21T21:21:48.643164Z",
     "shell.execute_reply": "2022-06-21T21:21:48.642259Z",
     "shell.execute_reply.started": "2022-06-21T20:55:32.415261Z"
    },
    "id": "d35dd285-f96c-4a8b-9704-6cb6815a43a0",
    "outputId": "a4eb612b-c6db-4141-eacb-9b113e7b6454"
   },
   "outputs": [
    {
     "name": "stdout",
     "output_type": "stream",
     "text": [
      "Epoch number [1], the loss is: 4.6030\n",
      "Accuracy on 5000 Validation images is: 9.76 %\n",
      "Epoch number [2], the loss is: 4.4618\n",
      "Accuracy on 5000 Validation images is: 16.98 %\n",
      "Epoch number [3], the loss is: 3.7961\n",
      "Accuracy on 5000 Validation images is: 25.02 %\n",
      "Epoch number [4], the loss is: 2.6173\n",
      "Accuracy on 5000 Validation images is: 30.44 %\n",
      "Epoch number [5], the loss is: 2.5133\n",
      "Accuracy on 5000 Validation images is: 31.78 %\n",
      "Epoch number [6], the loss is: 2.4750\n",
      "Accuracy on 5000 Validation images is: 35.46 %\n",
      "Epoch number [7], the loss is: 2.9749\n",
      "Accuracy on 5000 Validation images is: 37.58 %\n",
      "Epoch number [8], the loss is: 2.0085\n",
      "Accuracy on 5000 Validation images is: 37.08 %\n",
      "Epoch number [9], the loss is: 1.8882\n",
      "Accuracy on 5000 Validation images is: 40.58 %\n",
      "Epoch number [10], the loss is: 2.1757\n",
      "Accuracy on 5000 Validation images is: 42.94 %\n",
      "Epoch number [11], the loss is: 1.8535\n",
      "Accuracy on 5000 Validation images is: 42.88 %\n",
      "Epoch number [12], the loss is: 2.0987\n",
      "Accuracy on 5000 Validation images is: 44.26 %\n",
      "Epoch number [13], the loss is: 2.9291\n",
      "Accuracy on 5000 Validation images is: 43.52 %\n",
      "Epoch number [14], the loss is: 2.4284\n",
      "Accuracy on 5000 Validation images is: 45.04 %\n",
      "Epoch number [15], the loss is: 2.5935\n",
      "Accuracy on 5000 Validation images is: 45.3 %\n",
      "Epoch number [16], the loss is: 3.5000\n",
      "Accuracy on 5000 Validation images is: 46.46 %\n",
      "Epoch number [17], the loss is: 1.4051\n",
      "Accuracy on 5000 Validation images is: 46.08 %\n",
      "Epoch number [18], the loss is: 2.3545\n",
      "Accuracy on 5000 Validation images is: 47.08 %\n",
      "Epoch number [19], the loss is: 1.4527\n",
      "Accuracy on 5000 Validation images is: 48.14 %\n",
      "Epoch number [20], the loss is: 2.5699\n",
      "Accuracy on 5000 Validation images is: 48.02 %\n",
      "Epoch number [21], the loss is: 2.9310\n",
      "Accuracy on 5000 Validation images is: 46.22 %\n",
      "Epoch number [22], the loss is: 1.2179\n",
      "Accuracy on 5000 Validation images is: 48.2 %\n",
      "Epoch number [23], the loss is: 3.0004\n",
      "Accuracy on 5000 Validation images is: 46.84 %\n",
      "Epoch number [24], the loss is: 1.8155\n",
      "Accuracy on 5000 Validation images is: 46.68 %\n",
      "Epoch number [25], the loss is: 2.6763\n",
      "Accuracy on 5000 Validation images is: 47.5 %\n",
      "Epoch number [26], the loss is: 1.5906\n",
      "Accuracy on 5000 Validation images is: 47.5 %\n",
      "Epoch number [27], the loss is: 3.0184\n",
      "Accuracy on 5000 Validation images is: 48.08 %\n",
      "Epoch number [28], the loss is: 2.4720\n",
      "Accuracy on 5000 Validation images is: 47.5 %\n",
      "Epoch number [29], the loss is: 2.7541\n",
      "Accuracy on 5000 Validation images is: 47.62 %\n",
      "Epoch number [30], the loss is: 2.3981\n",
      "Accuracy on 5000 Validation images is: 50.2 %\n",
      "Epoch number [31], the loss is: 2.1887\n",
      "Accuracy on 5000 Validation images is: 48.02 %\n",
      "Epoch number [32], the loss is: 1.9449\n",
      "Accuracy on 5000 Validation images is: 48.96 %\n",
      "Epoch number [33], the loss is: 2.4316\n",
      "Accuracy on 5000 Validation images is: 47.9 %\n",
      "Epoch number [34], the loss is: 2.1192\n",
      "Accuracy on 5000 Validation images is: 47.9 %\n",
      "Epoch number [35], the loss is: 1.7675\n",
      "Accuracy on 5000 Validation images is: 48.08 %\n",
      "Epoch number [36], the loss is: 2.6151\n",
      "Accuracy on 5000 Validation images is: 47.52 %\n",
      "Epoch number [37], the loss is: 2.3098\n",
      "Accuracy on 5000 Validation images is: 47.48 %\n",
      "Epoch number [38], the loss is: 1.7166\n",
      "Accuracy on 5000 Validation images is: 48.52 %\n",
      "Epoch number [39], the loss is: 1.7302\n",
      "Accuracy on 5000 Validation images is: 48.2 %\n",
      "Epoch number [40], the loss is: 2.6031\n",
      "Accuracy on 5000 Validation images is: 47.78 %\n",
      "Epoch number [41], the loss is: 1.8947\n",
      "Accuracy on 5000 Validation images is: 48.44 %\n",
      "Epoch number [42], the loss is: 1.7103\n",
      "Accuracy on 5000 Validation images is: 49.24 %\n",
      "Epoch number [43], the loss is: 1.8255\n",
      "Accuracy on 5000 Validation images is: 49.26 %\n",
      "Epoch number [44], the loss is: 2.6419\n",
      "Accuracy on 5000 Validation images is: 48.98 %\n",
      "Epoch number [45], the loss is: 2.7594\n",
      "Accuracy on 5000 Validation images is: 48.58 %\n",
      "Epoch number [46], the loss is: 2.2043\n",
      "Accuracy on 5000 Validation images is: 47.8 %\n",
      "Epoch number [47], the loss is: 1.7398\n",
      "Accuracy on 5000 Validation images is: 50.4 %\n",
      "Epoch number [48], the loss is: 2.8965\n",
      "Accuracy on 5000 Validation images is: 47.1 %\n",
      "Epoch number [49], the loss is: 2.3856\n",
      "Accuracy on 5000 Validation images is: 48.02 %\n",
      "Epoch number [50], the loss is: 3.1458\n",
      "Accuracy on 5000 Validation images is: 46.56 %\n",
      "Epoch number [51], the loss is: 3.5950\n",
      "Accuracy on 5000 Validation images is: 48.02 %\n",
      "Epoch number [52], the loss is: 2.5634\n",
      "Accuracy on 5000 Validation images is: 47.36 %\n",
      "Epoch number [53], the loss is: 1.8491\n",
      "Accuracy on 5000 Validation images is: 48.24 %\n",
      "Epoch number [54], the loss is: 3.7061\n",
      "Accuracy on 5000 Validation images is: 46.82 %\n",
      "Epoch number [55], the loss is: 3.4609\n",
      "Accuracy on 5000 Validation images is: 48.28 %\n",
      "Epoch number [56], the loss is: 2.4542\n",
      "Accuracy on 5000 Validation images is: 49.14 %\n",
      "Epoch number [57], the loss is: 2.7003\n",
      "Accuracy on 5000 Validation images is: 46.9 %\n",
      "Epoch number [58], the loss is: 1.8092\n",
      "Accuracy on 5000 Validation images is: 46.76 %\n",
      "Epoch number [59], the loss is: 2.4598\n",
      "Accuracy on 5000 Validation images is: 48.48 %\n",
      "Epoch number [60], the loss is: 1.6158\n"
     ]
    }
   ],
   "source": [
    "import gc\n",
    "steps = len(train_loader)\n",
    "\n",
    "intermidiate_cost_history = []\n",
    "inter_rights_history = []\n",
    "val_intermidiate_cost_history = []\n",
    "val_intermidiate_correct_cost_history = []\n",
    "\n",
    "for temp in range(epochs):\n",
    "\n",
    "    inter_cost = 0.0\n",
    "    inter_rights = 0.0\n",
    "    val_inter_cost = 0.0\n",
    "    val_inter_rights = 0.0 \n",
    "\n",
    "    for i, (imgs, lbls) in enumerate(train_loader):\n",
    "        # Move tensors to the configured device\n",
    "        imgs = imgs.to(device)\n",
    "        lbls = lbls.to(device)\n",
    "        \n",
    "        # Forward pass\n",
    "        model_output = model(imgs)\n",
    "        loss = loss_func(model_output, lbls)\n",
    "        # print(\"Loss -\")\n",
    "        # print(loss)\n",
    "        # print(\"Labels -\")\n",
    "        # print(labels)\n",
    "\n",
    "        optim_func.zero_grad()\n",
    "        loss.backward()\n",
    "        optim_func.step()\n",
    "        _, preds = torch.max(model_output, 1) # taking the highest value of prediction.\n",
    "        inter_cost += loss.item()\n",
    "        inter_rights += torch.sum(preds == lbls.data)\n",
    "\n",
    "        del imgs, lbls, model_output\n",
    "        torch.cuda.empty_cache()\n",
    "        gc.collect()\n",
    "\n",
    "    print ('Epoch number ['+ temp+1 +'], the loss is: {:.4f}'.format(loss.item()))\n",
    "            \n",
    "    # Validation\n",
    "    with torch.no_grad():\n",
    "        rights = 0\n",
    "        all = 0\n",
    "        for imgs, lbls in valid_loader:\n",
    "            imgs = imgs.to(device)\n",
    "            lbls = lbls.to(device)\n",
    "            model_output = model(imgs)\n",
    "            _, predicted = torch.max(model_output.data, 1)\n",
    "            all += lbls.size(0)\n",
    "            rights += (predicted == lbls).sum().item()\n",
    "            val_cost = loss_func(model_output, lbls)\n",
    "            _, val_predictions = torch.max(model_output, 1)\n",
    "            val_inter_cost += val_cost.item()\n",
    "            val_inter_rights += torch.sum(val_predictions == lbls.data)\n",
    "            del imgs, lbls, model_output\n",
    "    \n",
    "        print('Accuracy on {} Validation images is: {} %'.format(5000, 100 * rights / all)) \n",
    "\n",
    "    epoch_cost = inter_cost/len(train_loader) # loss per epoch\n",
    "    epoch_acc = inter_rights.float()/ len(train_loader) # accuracy per epoch\n",
    "    epoch_acc.to(device)\n",
    "    intermidiate_cost_history.append(epoch_cost) # appending for displaying \n",
    "    inter_rights_history.append(epoch_acc)\n",
    "    \n",
    "    val_epoch_cost = val_inter_cost/len(valid_loader)\n",
    "    val_epoch_acc = val_inter_rights.float()/ len(valid_loader)\n",
    "    val_intermidiate_cost_history.append(val_epoch_cost)\n",
    "    val_intermidiate_correct_cost_history.append(val_epoch_acc)"
   ]
  },
  {
   "cell_type": "code",
   "execution_count": null,
   "id": "eV2Tey0d11x8",
   "metadata": {
    "id": "eV2Tey0d11x8"
   },
   "outputs": [],
   "source": [
    "acc_history = []\n",
    "type(inter_rights_history)\n",
    "for i in inter_rights_history:\n",
    "  acc_history.append(i.item())\n",
    "val_history = []\n",
    "for i in val_intermidiate_correct_cost_history:\n",
    "  val_history.append(i.item())"
   ]
  },
  {
   "cell_type": "code",
   "execution_count": null,
   "id": "l3_wf3Sl2F-5",
   "metadata": {
    "colab": {
     "base_uri": "https://localhost:8080/"
    },
    "id": "l3_wf3Sl2F-5",
    "outputId": "bca1a04d-4312-4b4b-96cd-decf56802bd3"
   },
   "outputs": [
    {
     "data": {
      "text/plain": [
       "[4.1741146871989425,\n",
       " 3.5206179950724947,\n",
       " 3.0879088345576418,\n",
       " 2.7669655843214556,\n",
       " 2.5627796170725063,\n",
       " 2.4539632221514527,\n",
       " 2.3432543480938133,\n",
       " 2.2573068370534615,\n",
       " 2.1909240277653392,\n",
       " 2.1332861693067984,\n",
       " 2.07982148619538,\n",
       " 2.0325289270417257,\n",
       " 1.9911714939569884,\n",
       " 1.963466905396093,\n",
       " 1.9326947820796208,\n",
       " 1.9140549601817674,\n",
       " 1.9015554912726989,\n",
       " 1.8878056112338195,\n",
       " 1.8862276967953553,\n",
       " 1.8592631493441083,\n",
       " 1.8547266904603352,\n",
       " 1.8495892631736668,\n",
       " 1.8354031015187502,\n",
       " 1.839565164663575,\n",
       " 1.8340040237050166,\n",
       " 1.8273367236622355,\n",
       " 1.8294202744622121,\n",
       " 1.8217448074031959,\n",
       " 1.8235302885824984,\n",
       " 1.8099644595587796]"
      ]
     },
     "execution_count": 9,
     "metadata": {},
     "output_type": "execute_result"
    }
   ],
   "source": [
    "intermidiate_cost_history"
   ]
  },
  {
   "cell_type": "code",
   "execution_count": null,
   "id": "v8ZfgQpRpffK",
   "metadata": {
    "colab": {
     "base_uri": "https://localhost:8080/",
     "height": 282
    },
    "id": "v8ZfgQpRpffK",
    "outputId": "9e95a8ad-0d87-48d1-8c42-ac1f736f432b"
   },
   "outputs": [
    {
     "data": {
      "text/plain": [
       "<matplotlib.legend.Legend at 0x7faada9a36d0>"
      ]
     },
     "execution_count": 10,
     "metadata": {},
     "output_type": "execute_result"
    },
    {
     "data": {
      "image/png": "[encoded data removed]",
      "text/plain": [
       "<Figure size 432x288 with 1 Axes>"
      ]
     },
     "metadata": {},
     "output_type": "display_data"
    }
   ],
   "source": [
    "import matplotlib.pyplot as plt\n",
    "plt.style.use('ggplot')\n",
    "plt.plot(intermidiate_cost_history, label='training loss')\n",
    "plt.plot(val_intermidiate_cost_history, label='validation loss')\n",
    "plt.legend()"
   ]
  },
  {
   "cell_type": "code",
   "execution_count": null,
   "id": "pFdBNHc4vS7A",
   "metadata": {
    "colab": {
     "base_uri": "https://localhost:8080/",
     "height": 282
    },
    "id": "pFdBNHc4vS7A",
    "outputId": "b2ae0a2f-bf2a-4f18-e8c8-c741bd360f7e"
   },
   "outputs": [
    {
     "data": {
      "text/plain": [
       "<matplotlib.legend.Legend at 0x7faadbcf7e50>"
      ]
     },
     "execution_count": 11,
     "metadata": {},
     "output_type": "execute_result"
    },
    {
     "data": {
      "image/png": "[encoded data removed]",
      "text/plain": [
       "<Figure size 432x288 with 1 Axes>"
      ]
     },
     "metadata": {},
     "output_type": "display_data"
    }
   ],
   "source": [
    "plt.style.use('ggplot')\n",
    "plt.plot(acc_history, label='training accuracy')\n",
    "plt.plot(val_history, label='validation accuracy')\n",
    "plt.legend()"
   ]
  },
  {
   "cell_type": "code",
   "execution_count": null,
   "id": "eji_fsFx-23l",
   "metadata": {
    "id": "eji_fsFx-23l"
   },
   "outputs": [],
   "source": [
    "torch.save(model.state_dict(), 'model_cifar100_resnet34.pt')"
   ]
  },
  {
   "cell_type": "code",
   "execution_count": 1,
   "id": "82c8f707-6271-45e8-a185-0c01064328d0",
   "metadata": {
    "colab": {
     "base_uri": "https://localhost:8080/"
    },
    "execution": {
     "iopub.execute_input": "2022-06-21T21:21:51.685276Z",
     "iopub.status.busy": "2022-06-21T21:21:51.685036Z",
     "iopub.status.idle": "2022-06-21T21:22:16.173162Z",
     "shell.execute_reply": "2022-06-21T21:22:16.172479Z",
     "shell.execute_reply.started": "2022-06-21T21:21:51.685252Z"
    },
    "id": "82c8f707-6271-45e8-a185-0c01064328d0",
    "outputId": "608a0d27-b221-4964-c7b5-bac438a7f55a",
    "pycharm": {
     "name": "#%%\n"
    }
   },
   "outputs": [
    {
     "name": "stdout",
     "output_type": "stream",
     "text": [
      "Accuracy of the network on the 10000 test images: 47.5 %\n"
     ]
    }
   ],
   "source": [
    "with torch.no_grad():\n",
    "    rights = 0\n",
    "    all = 0\n",
    "    for imgs, lbls in test_loader:\n",
    "        imgs = imgs.to(device)\n",
    "        lbls = lbls.to(device)\n",
    "        model_output = model(imgs)\n",
    "        _, predicted = torch.max(model_output.data, 1)\n",
    "        all += lbls.size(0)\n",
    "        rights += (predicted == lbls).sum().item()\n",
    "        del imgs, lbls, model_output\n",
    "\n",
    "    print('Accuracy of the network on the {} test images: {} %'.format(10000, 100 * rights / all))\n"
   ]
  },
  {
   "cell_type": "code",
   "execution_count": null,
   "id": "PRRlyKsThvIZ",
   "metadata": {
    "id": "PRRlyKsThvIZ"
   },
   "outputs": [],
   "source": []
  }
 ],
 "metadata": {
  "accelerator": "GPU",
  "colab": {
   "provenance": []
  },
  "gpuClass": "standard",
  "kernelspec": {
   "display_name": "Python 3",
   "language": "python",
   "name": "python3"
  },
  "language_info": {
   "codemirror_mode": {
    "name": "ipython",
    "version": 3
   },
   "file_extension": ".py",
   "mimetype": "text/x-python",
   "name": "python",
   "nbconvert_exporter": "python",
   "pygments_lexer": "ipython3",
   "version": "3.9.10 (tags/v3.9.10:f2f3f53, Jan 17 2022, 15:14:21) [MSC v.1929 64 bit (AMD64)]"
  },
  "vscode": {
   "interpreter": {
    "hash": "b016793b1b854edd2719d1b883c18ee27d869ad0a36d1d205a4b848c7d890edf"
   }
  },
  "widgets": {
   "application/vnd.jupyter.widget-state+json": {
    "08540b5404614c66be6513f65772cab5": {
     "model_module": "@jupyter-widgets/base",
     "model_module_version": "1.2.0",
     "model_name": "LayoutModel",
     "state": {
      "_model_module": "@jupyter-widgets/base",
      "_model_module_version": "1.2.0",
      "_model_name": "LayoutModel",
      "_view_count": null,
      "_view_module": "@jupyter-widgets/base",
      "_view_module_version": "1.2.0",
      "_view_name": "LayoutView",
      "align_content": null,
      "align_items": null,
      "align_self": null,
      "border": null,
      "bottom": null,
      "display": null,
      "flex": null,
      "flex_flow": null,
      "grid_area": null,
      "grid_auto_columns": null,
      "grid_auto_flow": null,
      "grid_auto_rows": null,
      "grid_column": null,
      "grid_gap": null,
      "grid_row": null,
      "grid_template_areas": null,
      "grid_template_columns": null,
      "grid_template_rows": null,
      "height": null,
      "justify_content": null,
      "justify_items": null,
      "left": null,
      "margin": null,
      "max_height": null,
      "max_width": null,
      "min_height": null,
      "min_width": null,
      "object_fit": null,
      "object_position": null,
      "order": null,
      "overflow": null,
      "overflow_x": null,
      "overflow_y": null,
      "padding": null,
      "right": null,
      "top": null,
      "visibility": null,
      "width": null
     }
    },
    "1c9862038dfc445b95017034ea84def8": {
     "model_module": "@jupyter-widgets/base",
     "model_module_version": "1.2.0",
     "model_name": "LayoutModel",
     "state": {
      "_model_module": "@jupyter-widgets/base",
      "_model_module_version": "1.2.0",
      "_model_name": "LayoutModel",
      "_view_count": null,
      "_view_module": "@jupyter-widgets/base",
      "_view_module_version": "1.2.0",
      "_view_name": "LayoutView",
      "align_content": null,
      "align_items": null,
      "align_self": null,
      "border": null,
      "bottom": null,
      "display": null,
      "flex": null,
      "flex_flow": null,
      "grid_area": null,
      "grid_auto_columns": null,
      "grid_auto_flow": null,
      "grid_auto_rows": null,
      "grid_column": null,
      "grid_gap": null,
      "grid_row": null,
      "grid_template_areas": null,
      "grid_template_columns": null,
      "grid_template_rows": null,
      "height": null,
      "justify_content": null,
      "justify_items": null,
      "left": null,
      "margin": null,
      "max_height": null,
      "max_width": null,
      "min_height": null,
      "min_width": null,
      "object_fit": null,
      "object_position": null,
      "order": null,
      "overflow": null,
      "overflow_x": null,
      "overflow_y": null,
      "padding": null,
      "right": null,
      "top": null,
      "visibility": null,
      "width": null
     }
    },
    "3963419a158d4866a1b04956198382e1": {
     "model_module": "@jupyter-widgets/controls",
     "model_module_version": "1.5.0",
     "model_name": "DescriptionStyleModel",
     "state": {
      "_model_module": "@jupyter-widgets/controls",
      "_model_module_version": "1.5.0",
      "_model_name": "DescriptionStyleModel",
      "_view_count": null,
      "_view_module": "@jupyter-widgets/base",
      "_view_module_version": "1.2.0",
      "_view_name": "StyleView",
      "description_width": ""
     }
    },
    "3c79fd2162a64eba871f9146257fffd0": {
     "model_module": "@jupyter-widgets/controls",
     "model_module_version": "1.5.0",
     "model_name": "HBoxModel",
     "state": {
      "_dom_classes": [],
      "_model_module": "@jupyter-widgets/controls",
      "_model_module_version": "1.5.0",
      "_model_name": "HBoxModel",
      "_view_count": null,
      "_view_module": "@jupyter-widgets/controls",
      "_view_module_version": "1.5.0",
      "_view_name": "HBoxView",
      "box_style": "",
      "children": [
       "IPY_MODEL_d5b09dd7e27845b4ab8d295ee7860248",
       "IPY_MODEL_77dd854a84e0402da18356daf85b04f5",
       "IPY_MODEL_5e744ac1e6c64094b7bbdf4a2de52d5b"
      ],
      "layout": "IPY_MODEL_b59508e494144b32a17150f67b7fedf7"
     }
    },
    "5549e5959f584fdbaa3c86749fcca9fc": {
     "model_module": "@jupyter-widgets/base",
     "model_module_version": "1.2.0",
     "model_name": "LayoutModel",
     "state": {
      "_model_module": "@jupyter-widgets/base",
      "_model_module_version": "1.2.0",
      "_model_name": "LayoutModel",
      "_view_count": null,
      "_view_module": "@jupyter-widgets/base",
      "_view_module_version": "1.2.0",
      "_view_name": "LayoutView",
      "align_content": null,
      "align_items": null,
      "align_self": null,
      "border": null,
      "bottom": null,
      "display": null,
      "flex": null,
      "flex_flow": null,
      "grid_area": null,
      "grid_auto_columns": null,
      "grid_auto_flow": null,
      "grid_auto_rows": null,
      "grid_column": null,
      "grid_gap": null,
      "grid_row": null,
      "grid_template_areas": null,
      "grid_template_columns": null,
      "grid_template_rows": null,
      "height": null,
      "justify_content": null,
      "justify_items": null,
      "left": null,
      "margin": null,
      "max_height": null,
      "max_width": null,
      "min_height": null,
      "min_width": null,
      "object_fit": null,
      "object_position": null,
      "order": null,
      "overflow": null,
      "overflow_x": null,
      "overflow_y": null,
      "padding": null,
      "right": null,
      "top": null,
      "visibility": null,
      "width": null
     }
    },
    "5e744ac1e6c64094b7bbdf4a2de52d5b": {
     "model_module": "@jupyter-widgets/controls",
     "model_module_version": "1.5.0",
     "model_name": "HTMLModel",
     "state": {
      "_dom_classes": [],
      "_model_module": "@jupyter-widgets/controls",
      "_model_module_version": "1.5.0",
      "_model_name": "HTMLModel",
      "_view_count": null,
      "_view_module": "@jupyter-widgets/controls",
      "_view_module_version": "1.5.0",
      "_view_name": "HTMLView",
      "description": "",
      "description_tooltip": null,
      "layout": "IPY_MODEL_08540b5404614c66be6513f65772cab5",
      "placeholder": "​",
      "style": "IPY_MODEL_3963419a158d4866a1b04956198382e1",
      "value": " 169001437/169001437 [00:02&lt;00:00, 76378328.95it/s]"
     }
    },
    "77dd854a84e0402da18356daf85b04f5": {
     "model_module": "@jupyter-widgets/controls",
     "model_module_version": "1.5.0",
     "model_name": "FloatProgressModel",
     "state": {
      "_dom_classes": [],
      "_model_module": "@jupyter-widgets/controls",
      "_model_module_version": "1.5.0",
      "_model_name": "FloatProgressModel",
      "_view_count": null,
      "_view_module": "@jupyter-widgets/controls",
      "_view_module_version": "1.5.0",
      "_view_name": "ProgressView",
      "bar_style": "success",
      "description": "",
      "description_tooltip": null,
      "layout": "IPY_MODEL_1c9862038dfc445b95017034ea84def8",
      "max": 169001437,
      "min": 0,
      "orientation": "horizontal",
      "style": "IPY_MODEL_d15f9c9c7a9e4eeb89683ffe4f289b61",
      "value": 169001437
     }
    },
    "97110c1f364146118ae870d7100b94af": {
     "model_module": "@jupyter-widgets/controls",
     "model_module_version": "1.5.0",
     "model_name": "DescriptionStyleModel",
     "state": {
      "_model_module": "@jupyter-widgets/controls",
      "_model_module_version": "1.5.0",
      "_model_name": "DescriptionStyleModel",
      "_view_count": null,
      "_view_module": "@jupyter-widgets/base",
      "_view_module_version": "1.2.0",
      "_view_name": "StyleView",
      "description_width": ""
     }
    },
    "b59508e494144b32a17150f67b7fedf7": {
     "model_module": "@jupyter-widgets/base",
     "model_module_version": "1.2.0",
     "model_name": "LayoutModel",
     "state": {
      "_model_module": "@jupyter-widgets/base",
      "_model_module_version": "1.2.0",
      "_model_name": "LayoutModel",
      "_view_count": null,
      "_view_module": "@jupyter-widgets/base",
      "_view_module_version": "1.2.0",
      "_view_name": "LayoutView",
      "align_content": null,
      "align_items": null,
      "align_self": null,
      "border": null,
      "bottom": null,
      "display": null,
      "flex": null,
      "flex_flow": null,
      "grid_area": null,
      "grid_auto_columns": null,
      "grid_auto_flow": null,
      "grid_auto_rows": null,
      "grid_column": null,
      "grid_gap": null,
      "grid_row": null,
      "grid_template_areas": null,
      "grid_template_columns": null,
      "grid_template_rows": null,
      "height": null,
      "justify_content": null,
      "justify_items": null,
      "left": null,
      "margin": null,
      "max_height": null,
      "max_width": null,
      "min_height": null,
      "min_width": null,
      "object_fit": null,
      "object_position": null,
      "order": null,
      "overflow": null,
      "overflow_x": null,
      "overflow_y": null,
      "padding": null,
      "right": null,
      "top": null,
      "visibility": null,
      "width": null
     }
    },
    "d15f9c9c7a9e4eeb89683ffe4f289b61": {
     "model_module": "@jupyter-widgets/controls",
     "model_module_version": "1.5.0",
     "model_name": "ProgressStyleModel",
     "state": {
      "_model_module": "@jupyter-widgets/controls",
      "_model_module_version": "1.5.0",
      "_model_name": "ProgressStyleModel",
      "_view_count": null,
      "_view_module": "@jupyter-widgets/base",
      "_view_module_version": "1.2.0",
      "_view_name": "StyleView",
      "bar_color": null,
      "description_width": ""
     }
    },
    "d5b09dd7e27845b4ab8d295ee7860248": {
     "model_module": "@jupyter-widgets/controls",
     "model_module_version": "1.5.0",
     "model_name": "HTMLModel",
     "state": {
      "_dom_classes": [],
      "_model_module": "@jupyter-widgets/controls",
      "_model_module_version": "1.5.0",
      "_model_name": "HTMLModel",
      "_view_count": null,
      "_view_module": "@jupyter-widgets/controls",
      "_view_module_version": "1.5.0",
      "_view_name": "HTMLView",
      "description": "",
      "description_tooltip": null,
      "layout": "IPY_MODEL_5549e5959f584fdbaa3c86749fcca9fc",
      "placeholder": "​",
      "style": "IPY_MODEL_97110c1f364146118ae870d7100b94af",
      "value": "100%"
     }
    }
   }
  }
 },
 "nbformat": 4,
 "nbformat_minor": 5
}