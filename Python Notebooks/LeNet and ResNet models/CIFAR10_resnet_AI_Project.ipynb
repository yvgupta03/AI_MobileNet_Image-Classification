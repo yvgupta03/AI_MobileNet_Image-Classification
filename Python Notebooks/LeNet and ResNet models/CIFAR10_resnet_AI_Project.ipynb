{
  "cells": [
    {
      "cell_type": "markdown",
      "metadata": {
        "id": "rco2zyqBKk2f"
      },
      "source": [
        "### Notebook Information\n",
        "\n",
        "#### In this notebook we are running the ResNet 34 model on CIFAR 10 dataset"
      ],
      "id": "rco2zyqBKk2f"
    },
    {
      "cell_type": "code",
      "execution_count": null,
      "metadata": {
        "id": "f0013fad-1984-424d-a99f-53c2b5a5e1e5"
      },
      "outputs": [],
      "source": [
        "# Importing the Required libraries for this Project\n",
        "# Import numpy\n",
        "import numpy as np\n",
        "# get Pytorch\n",
        "import torch\n",
        "# get torch.nn for model layers\n",
        "import torch.nn as nn"
      ],
      "id": "f0013fad-1984-424d-a99f-53c2b5a5e1e5"
    },
    {
      "cell_type": "code",
      "execution_count": null,
      "metadata": {
        "id": "hd2KjislKr6C"
      },
      "outputs": [],
      "source": [
        "# Setting the device \n",
        "if torch.cuda.is_available():\n",
        "  device = torch.device('cuda')\n",
        "else:\n",
        "  device = torch.device('cpu')"
      ],
      "id": "hd2KjislKr6C"
    },
    {
      "cell_type": "code",
      "execution_count": null,
      "metadata": {
        "colab": {
          "base_uri": "https://localhost:8080/",
          "height": 117,
          "referenced_widgets": [
            "7344548618e04526b2c287cfca2851df",
            "e9b8148a10ae42fab0b32c1d5938c9d5",
            "af823efdf83346a7ae437baf1c4e4d9d",
            "bf288e1517744440abe2e6d2664dec31",
            "4fc44cc0fab94ce58dac361185d88b30",
            "baafa33f8b09436d94d8f9018b27de0a",
            "22351ebe8410448db860148ddf1708b9",
            "4ea23830e34e48a4b175428c1713c0ae",
            "31297412713148809c1f0f8ae50988e4",
            "270cb1ea95ee4bc487fc32564e1f9523",
            "561436e2e7c44cf49231b41c625af896"
          ]
        },
        "id": "4e336f55-bfb5-4afd-aa3b-efb7dc9ce590",
        "outputId": "15c2e3a6-d992-436e-e1be-cfcf87700dda"
      },
      "outputs": [
        {
          "output_type": "stream",
          "name": "stdout",
          "text": [
            "Downloading https://www.cs.toronto.edu/~kriz/cifar-10-python.tar.gz to ./data/cifar-10-python.tar.gz\n"
          ]
        },
        {
          "output_type": "display_data",
          "data": {
            "text/plain": [
              "  0%|          | 0/170498071 [00:00<?, ?it/s]"
            ],
            "application/vnd.jupyter.widget-view+json": {
              "version_major": 2,
              "version_minor": 0,
              "model_id": "7344548618e04526b2c287cfca2851df"
            }
          },
          "metadata": {}
        },
        {
          "output_type": "stream",
          "name": "stdout",
          "text": [
            "Extracting ./data/cifar-10-python.tar.gz to ./data\n",
            "Files already downloaded and verified\n",
            "Files already downloaded and verified\n"
          ]
        }
      ],
      "source": [
        "from numpy.lib.shape_base import dstack\n",
        "# Getting the Dataset from the datasets library\n",
        "\n",
        "from torchvision import datasets as ds\n",
        "from torchvision import transforms as tfs\n",
        "from torch.utils.data.sampler import SubsetRandomSampler\n",
        "import torch.utils.data as tud\n",
        "# Creating a function to load our data and passing all the required parameters\n",
        "\n",
        "def load_data_project(dataAddr, bs1, vs=0.1, test=False, sf=True):  \n",
        "    nrm = tfs.Normalize(mean=[0.4913, 0.4821, 0.4466],std=[0.2470, 0.2435, 0.2615],)\n",
        "\n",
        "    tf = tfs.Compose([tfs.Resize((224,224)), tfs.ToTensor(), nrm,])\n",
        "\n",
        "    # If we are trying to load the test dataset\n",
        "    if test == True:\n",
        "        dsCurr = ds.CIFAR10(root=dataAddr, download=True, train=False,transform=tf,)\n",
        "\n",
        "        load_data_project = tud.DataLoader(dsCurr, batch_size=bs1, shuffle=sf)\n",
        "\n",
        "        return load_data_project\n",
        "\n",
        "    # get the dataset into train and validation variables\n",
        "    dsCurrTrain = ds.CIFAR10(root=dataAddr, train=True, download=True, transform=tf,)\n",
        "\n",
        "    dsCurrValid = ds.CIFAR10(root=dataAddr, train=True, download=True, transform=tf, )\n",
        "\n",
        "    x = len(dsCurrTrain)\n",
        "    poss = list(range(x))\n",
        "    div = int(np.floor(vs * x))\n",
        "\n",
        "    # To check and shuffle data accordingly\n",
        "    if sf == True:\n",
        "        np.random.shuffle(poss)\n",
        "\n",
        "        np.random.seed(42)\n",
        "\n",
        "    train_idx, valid_idx = poss[div:], poss[:div]\n",
        "    train_sampler = SubsetRandomSampler(train_idx)\n",
        "    valid_sampler = SubsetRandomSampler(valid_idx)\n",
        "\n",
        "    trainLoaderCurr = tud.DataLoader(dsCurrTrain, batch_size=bs1, sampler=train_sampler)\n",
        "    validLoaderCurr = tud.DataLoader(dsCurrValid, batch_size=bs1, sampler=valid_sampler)\n",
        "    return (trainLoaderCurr, validLoaderCurr)\n",
        " \n",
        "train_loader, valid_loader = load_data_project('./data',64)\n",
        "\n",
        "test_loader = load_data_project('./data',64,test=True)"
      ],
      "id": "4e336f55-bfb5-4afd-aa3b-efb7dc9ce590"
    },
    {
      "cell_type": "code",
      "execution_count": null,
      "metadata": {
        "id": "decf1896-74e1-4ca3-aaf4-30fa6710bfa7"
      },
      "outputs": [],
      "source": [
        "class ResBlk(nn.Module):\n",
        "    def __init__(self, inputChannels, outputChannels, sd = 1, dsample = None):\n",
        "        super(ResBlk, self).__init__()\n",
        "        self.convolution1 = nn.Sequential(nn.Conv2d(inputChannels, outputChannels,padding = 1, kernel_size = 3, stride = sd), nn.BatchNorm2d(outputChannels),  nn.ReLU())\n",
        "        self.convolution2 = nn.Sequential( nn.Conv2d(outputChannels, outputChannels, padding = 1, kernel_size = 3, stride = 1), nn.BatchNorm2d(outputChannels))\n",
        "        self.ds = dsample\n",
        "        self.relu = nn.ReLU()\n",
        "        self.out_channels = outputChannels\n",
        "        \n",
        "    def forward(self, x):\n",
        "        res = x\n",
        "        output1 = self.convolution1(x)\n",
        "        output1 = self.convolution2(output1)\n",
        "        if self.ds:\n",
        "            res = self.ds(x)\n",
        "        output1 += res\n",
        "        output1 = self.relu(output1)\n",
        "        return output1"
      ],
      "id": "decf1896-74e1-4ca3-aaf4-30fa6710bfa7"
    },
    {
      "cell_type": "code",
      "execution_count": null,
      "metadata": {
        "id": "791c6d4a-3a95-4138-b5c5-f5ef785994b6"
      },
      "outputs": [],
      "source": [
        "class ResNet34(nn.Module):\n",
        "    def __init__(self, block, layers, classes_cifar = 10):\n",
        "        super(ResNet34, self).__init__()\n",
        "        self.inplanes = 64\n",
        "        self.convolution1 = nn.Sequential( nn.Conv2d(3, 64, kernel_size = 7, stride = 2, padding = 3), nn.BatchNorm2d(64), nn.ReLU())\n",
        "        self.maxpoolingLayer = nn.MaxPool2d(kernel_size = 3, stride = 2, padding = 1)\n",
        "        self.l0 = self._make_layer(block, 64, layers[0], stride = 1)\n",
        "        self.l1 = self._make_layer(block, 128, layers[1], stride = 2)\n",
        "        self.l2 = self._make_layer(block, 256, layers[2], stride = 2)\n",
        "        self.l3 = self._make_layer(block, 512, layers[3], stride = 2)\n",
        "        self.Averagepool = nn.AvgPool2d(7, stride=1)\n",
        "        self.fc = nn.Linear(512, classes_cifar)\n",
        "        \n",
        "    def _make_layer(self, block, planes, blocks, stride=1):\n",
        "        downsample = None\n",
        "        if stride != 1 or self.inplanes != planes:\n",
        "            \n",
        "            downsample = nn.Sequential(\n",
        "                nn.Conv2d(self.inplanes, planes, kernel_size=1, stride=stride),\n",
        "                nn.BatchNorm2d(planes),\n",
        "            )\n",
        "        Model_layers = []\n",
        "        Model_layers.append(block(self.inplanes, planes, stride, downsample))\n",
        "        self.inplanes = planes\n",
        "        for i in range(1, blocks):\n",
        "            Model_layers.append(block(self.inplanes, planes))\n",
        "\n",
        "        return nn.Sequential(*Model_layers)\n",
        "    \n",
        "    \n",
        "    def forward(self, x1):\n",
        "        x1 = self.convolution1(x1)\n",
        "        x1 = self.maxpoolingLayer(x1)\n",
        "        x1 = self.l0(x1)\n",
        "        x1 = self.l1(x1)\n",
        "        x1 = self.l2(x1)\n",
        "        x1 = self.l3(x1)\n",
        "\n",
        "        x1 = self.Averagepool(x1)\n",
        "        x1 = x1.view(x1.size(0), -1)\n",
        "        x1 = self.fc(x1)\n",
        "\n",
        "        return x1\n"
      ],
      "id": "791c6d4a-3a95-4138-b5c5-f5ef785994b6"
    },
    {
      "cell_type": "code",
      "execution_count": null,
      "metadata": {
        "id": "6d27d949-4b05-478e-a58d-76aaebe24b97"
      },
      "outputs": [],
      "source": [
        "classes_cifar = 10\n",
        "epochs = 15\n",
        "batch_size = 16\n",
        "lr_eta = 0.1\n",
        "\n",
        "model = ResNet34(ResBlk, [3, 4, 6, 3]).to(device)\n",
        "\n",
        "# Loss and optimizer\n",
        "loss_func = nn.CrossEntropyLoss()\n",
        "optim_func = torch.optim.SGD(model.parameters(), lr=lr_eta, weight_decay = 0.001, momentum = 0.9)  \n",
        "\n",
        "# Train the model\n",
        "steps = len(train_loader)"
      ],
      "id": "6d27d949-4b05-478e-a58d-76aaebe24b97"
    },
    {
      "cell_type": "code",
      "execution_count": null,
      "metadata": {
        "colab": {
          "base_uri": "https://localhost:8080/"
        },
        "id": "eb9NACzq8Bx6",
        "outputId": "65ef8ee3-68f6-44a3-fbf6-977519e24475"
      },
      "outputs": [
        {
          "output_type": "stream",
          "name": "stdout",
          "text": [
            "----------------------------------------------------------------\n",
            "        Layer (type)               Output Shape         Param #\n",
            "================================================================\n",
            "            Conv2d-1         [-1, 64, 112, 112]           9,472\n",
            "       BatchNorm2d-2         [-1, 64, 112, 112]             128\n",
            "              ReLU-3         [-1, 64, 112, 112]               0\n",
            "         MaxPool2d-4           [-1, 64, 56, 56]               0\n",
            "            Conv2d-5           [-1, 64, 56, 56]          36,928\n",
            "       BatchNorm2d-6           [-1, 64, 56, 56]             128\n",
            "              ReLU-7           [-1, 64, 56, 56]               0\n",
            "            Conv2d-8           [-1, 64, 56, 56]          36,928\n",
            "       BatchNorm2d-9           [-1, 64, 56, 56]             128\n",
            "             ReLU-10           [-1, 64, 56, 56]               0\n",
            "           ResBlk-11           [-1, 64, 56, 56]               0\n",
            "           Conv2d-12           [-1, 64, 56, 56]          36,928\n",
            "      BatchNorm2d-13           [-1, 64, 56, 56]             128\n",
            "             ReLU-14           [-1, 64, 56, 56]               0\n",
            "           Conv2d-15           [-1, 64, 56, 56]          36,928\n",
            "      BatchNorm2d-16           [-1, 64, 56, 56]             128\n",
            "             ReLU-17           [-1, 64, 56, 56]               0\n",
            "           ResBlk-18           [-1, 64, 56, 56]               0\n",
            "           Conv2d-19           [-1, 64, 56, 56]          36,928\n",
            "      BatchNorm2d-20           [-1, 64, 56, 56]             128\n",
            "             ReLU-21           [-1, 64, 56, 56]               0\n",
            "           Conv2d-22           [-1, 64, 56, 56]          36,928\n",
            "      BatchNorm2d-23           [-1, 64, 56, 56]             128\n",
            "             ReLU-24           [-1, 64, 56, 56]               0\n",
            "           ResBlk-25           [-1, 64, 56, 56]               0\n",
            "           Conv2d-26          [-1, 128, 28, 28]          73,856\n",
            "      BatchNorm2d-27          [-1, 128, 28, 28]             256\n",
            "             ReLU-28          [-1, 128, 28, 28]               0\n",
            "           Conv2d-29          [-1, 128, 28, 28]         147,584\n",
            "      BatchNorm2d-30          [-1, 128, 28, 28]             256\n",
            "           Conv2d-31          [-1, 128, 28, 28]           8,320\n",
            "      BatchNorm2d-32          [-1, 128, 28, 28]             256\n",
            "             ReLU-33          [-1, 128, 28, 28]               0\n",
            "           ResBlk-34          [-1, 128, 28, 28]               0\n",
            "           Conv2d-35          [-1, 128, 28, 28]         147,584\n",
            "      BatchNorm2d-36          [-1, 128, 28, 28]             256\n",
            "             ReLU-37          [-1, 128, 28, 28]               0\n",
            "           Conv2d-38          [-1, 128, 28, 28]         147,584\n",
            "      BatchNorm2d-39          [-1, 128, 28, 28]             256\n",
            "             ReLU-40          [-1, 128, 28, 28]               0\n",
            "           ResBlk-41          [-1, 128, 28, 28]               0\n",
            "           Conv2d-42          [-1, 128, 28, 28]         147,584\n",
            "      BatchNorm2d-43          [-1, 128, 28, 28]             256\n",
            "             ReLU-44          [-1, 128, 28, 28]               0\n",
            "           Conv2d-45          [-1, 128, 28, 28]         147,584\n",
            "      BatchNorm2d-46          [-1, 128, 28, 28]             256\n",
            "             ReLU-47          [-1, 128, 28, 28]               0\n",
            "           ResBlk-48          [-1, 128, 28, 28]               0\n",
            "           Conv2d-49          [-1, 128, 28, 28]         147,584\n",
            "      BatchNorm2d-50          [-1, 128, 28, 28]             256\n",
            "             ReLU-51          [-1, 128, 28, 28]               0\n",
            "           Conv2d-52          [-1, 128, 28, 28]         147,584\n",
            "      BatchNorm2d-53          [-1, 128, 28, 28]             256\n",
            "             ReLU-54          [-1, 128, 28, 28]               0\n",
            "           ResBlk-55          [-1, 128, 28, 28]               0\n",
            "           Conv2d-56          [-1, 256, 14, 14]         295,168\n",
            "      BatchNorm2d-57          [-1, 256, 14, 14]             512\n",
            "             ReLU-58          [-1, 256, 14, 14]               0\n",
            "           Conv2d-59          [-1, 256, 14, 14]         590,080\n",
            "      BatchNorm2d-60          [-1, 256, 14, 14]             512\n",
            "           Conv2d-61          [-1, 256, 14, 14]          33,024\n",
            "      BatchNorm2d-62          [-1, 256, 14, 14]             512\n",
            "             ReLU-63          [-1, 256, 14, 14]               0\n",
            "           ResBlk-64          [-1, 256, 14, 14]               0\n",
            "           Conv2d-65          [-1, 256, 14, 14]         590,080\n",
            "      BatchNorm2d-66          [-1, 256, 14, 14]             512\n",
            "             ReLU-67          [-1, 256, 14, 14]               0\n",
            "           Conv2d-68          [-1, 256, 14, 14]         590,080\n",
            "      BatchNorm2d-69          [-1, 256, 14, 14]             512\n",
            "             ReLU-70          [-1, 256, 14, 14]               0\n",
            "           ResBlk-71          [-1, 256, 14, 14]               0\n",
            "           Conv2d-72          [-1, 256, 14, 14]         590,080\n",
            "      BatchNorm2d-73          [-1, 256, 14, 14]             512\n",
            "             ReLU-74          [-1, 256, 14, 14]               0\n",
            "           Conv2d-75          [-1, 256, 14, 14]         590,080\n",
            "      BatchNorm2d-76          [-1, 256, 14, 14]             512\n",
            "             ReLU-77          [-1, 256, 14, 14]               0\n",
            "           ResBlk-78          [-1, 256, 14, 14]               0\n",
            "           Conv2d-79          [-1, 256, 14, 14]         590,080\n",
            "      BatchNorm2d-80          [-1, 256, 14, 14]             512\n",
            "             ReLU-81          [-1, 256, 14, 14]               0\n",
            "           Conv2d-82          [-1, 256, 14, 14]         590,080\n",
            "      BatchNorm2d-83          [-1, 256, 14, 14]             512\n",
            "             ReLU-84          [-1, 256, 14, 14]               0\n",
            "           ResBlk-85          [-1, 256, 14, 14]               0\n",
            "           Conv2d-86          [-1, 256, 14, 14]         590,080\n",
            "      BatchNorm2d-87          [-1, 256, 14, 14]             512\n",
            "             ReLU-88          [-1, 256, 14, 14]               0\n",
            "           Conv2d-89          [-1, 256, 14, 14]         590,080\n",
            "      BatchNorm2d-90          [-1, 256, 14, 14]             512\n",
            "             ReLU-91          [-1, 256, 14, 14]               0\n",
            "           ResBlk-92          [-1, 256, 14, 14]               0\n",
            "           Conv2d-93          [-1, 256, 14, 14]         590,080\n",
            "      BatchNorm2d-94          [-1, 256, 14, 14]             512\n",
            "             ReLU-95          [-1, 256, 14, 14]               0\n",
            "           Conv2d-96          [-1, 256, 14, 14]         590,080\n",
            "      BatchNorm2d-97          [-1, 256, 14, 14]             512\n",
            "             ReLU-98          [-1, 256, 14, 14]               0\n",
            "           ResBlk-99          [-1, 256, 14, 14]               0\n",
            "          Conv2d-100            [-1, 512, 7, 7]       1,180,160\n",
            "     BatchNorm2d-101            [-1, 512, 7, 7]           1,024\n",
            "            ReLU-102            [-1, 512, 7, 7]               0\n",
            "          Conv2d-103            [-1, 512, 7, 7]       2,359,808\n",
            "     BatchNorm2d-104            [-1, 512, 7, 7]           1,024\n",
            "          Conv2d-105            [-1, 512, 7, 7]         131,584\n",
            "     BatchNorm2d-106            [-1, 512, 7, 7]           1,024\n",
            "            ReLU-107            [-1, 512, 7, 7]               0\n",
            "          ResBlk-108            [-1, 512, 7, 7]               0\n",
            "          Conv2d-109            [-1, 512, 7, 7]       2,359,808\n",
            "     BatchNorm2d-110            [-1, 512, 7, 7]           1,024\n",
            "            ReLU-111            [-1, 512, 7, 7]               0\n",
            "          Conv2d-112            [-1, 512, 7, 7]       2,359,808\n",
            "     BatchNorm2d-113            [-1, 512, 7, 7]           1,024\n",
            "            ReLU-114            [-1, 512, 7, 7]               0\n",
            "          ResBlk-115            [-1, 512, 7, 7]               0\n",
            "          Conv2d-116            [-1, 512, 7, 7]       2,359,808\n",
            "     BatchNorm2d-117            [-1, 512, 7, 7]           1,024\n",
            "            ReLU-118            [-1, 512, 7, 7]               0\n",
            "          Conv2d-119            [-1, 512, 7, 7]       2,359,808\n",
            "     BatchNorm2d-120            [-1, 512, 7, 7]           1,024\n",
            "            ReLU-121            [-1, 512, 7, 7]               0\n",
            "          ResBlk-122            [-1, 512, 7, 7]               0\n",
            "       AvgPool2d-123            [-1, 512, 1, 1]               0\n",
            "          Linear-124                   [-1, 10]           5,130\n",
            "================================================================\n",
            "Total params: 21,298,314\n",
            "Trainable params: 21,298,314\n",
            "Non-trainable params: 0\n",
            "----------------------------------------------------------------\n",
            "Input size (MB): 0.57\n",
            "Forward/backward pass size (MB): 96.28\n",
            "Params size (MB): 81.25\n",
            "Estimated Total Size (MB): 178.10\n",
            "----------------------------------------------------------------\n"
          ]
        }
      ],
      "source": [
        "from torchsummary import summary\n",
        "summary(model, (3, 224, 224))"
      ],
      "id": "eb9NACzq8Bx6"
    },
    {
      "cell_type": "code",
      "execution_count": null,
      "metadata": {
        "id": "d35dd285-f96c-4a8b-9704-6cb6815a43a0",
        "colab": {
          "base_uri": "https://localhost:8080/"
        },
        "outputId": "bad9ce86-a847-44a1-b643-05603e1cf46e"
      },
      "outputs": [
        {
          "output_type": "stream",
          "name": "stdout",
          "text": [
            "Epoch [1/15], Loss: 1.9857\n",
            "Accuracy on 5000 Validation images is: 36.88 %\n",
            "Epoch [2/15], Loss: 1.7495\n",
            "Accuracy on 5000 Validation images is: 48.9 %\n",
            "Epoch [3/15], Loss: 1.3046\n",
            "Accuracy on 5000 Validation images is: 59.9 %\n",
            "Epoch [4/15], Loss: 1.4044\n",
            "Accuracy on 5000 Validation images is: 67.94 %\n",
            "Epoch [5/15], Loss: 1.0160\n",
            "Accuracy on 5000 Validation images is: 71.84 %\n",
            "Epoch [6/15], Loss: 0.5867\n",
            "Accuracy on 5000 Validation images is: 71.74 %\n",
            "Epoch [7/15], Loss: 0.7902\n",
            "Accuracy on 5000 Validation images is: 74.94 %\n",
            "Epoch [8/15], Loss: 1.3543\n",
            "Accuracy on 5000 Validation images is: 74.9 %\n",
            "Epoch [9/15], Loss: 1.7149\n",
            "Accuracy on 5000 Validation images is: 73.66 %\n",
            "Epoch [10/15], Loss: 0.6741\n",
            "Accuracy on 5000 Validation images is: 74.76 %\n",
            "Epoch [11/15], Loss: 0.2207\n",
            "Accuracy on 5000 Validation images is: 75.9 %\n",
            "Epoch [12/15], Loss: 0.8222\n",
            "Accuracy on 5000 Validation images is: 76.26 %\n",
            "Epoch [13/15], Loss: 1.0534\n",
            "Accuracy on 5000 Validation images is: 76.12 %\n",
            "Epoch [14/15], Loss: 0.6214\n",
            "Accuracy on 5000 Validation images is: 76.9 %\n",
            "Epoch [15/15], Loss: 0.4819\n",
            "Accuracy on 5000 Validation images is: 75.62 %\n"
          ]
        }
      ],
      "source": [
        "import gc\n",
        "steps = len(train_loader)\n",
        "\n",
        "intermidiate_cost_history = []\n",
        "inter_rights_history = []\n",
        "val_intermidiate_cost_history = []\n",
        "val_intermidiate_correct_cost_history = []\n",
        "\n",
        "for temp in range(epochs):\n",
        "\n",
        "    inter_cost = 0.0\n",
        "    inter_rights = 0.0\n",
        "    val_inter_cost = 0.0\n",
        "    val_inter_rights = 0.0 \n",
        "\n",
        "    for i, (imgs, lbls) in enumerate(train_loader):\n",
        "        # Move tensors to the configured device\n",
        "        imgs = imgs.to(device)\n",
        "        lbls = lbls.to(device)\n",
        "        \n",
        "        # Forward pass\n",
        "        model_output = model(imgs)\n",
        "        loss = loss_func(model_output, lbls)\n",
        "        # print(\"Loss -\")\n",
        "        # print(loss)\n",
        "        # print(\"Labels -\")\n",
        "        # print(labels)\n",
        "\n",
        "        optim_func.zero_grad()\n",
        "        loss.backward()\n",
        "        optim_func.step()\n",
        "        _, preds = torch.max(model_output, 1) # taking the highest value of prediction.\n",
        "        inter_cost += loss.item()\n",
        "        inter_rights += torch.sum(preds == lbls.data)\n",
        "\n",
        "        del imgs, lbls, model_output\n",
        "        torch.cuda.empty_cache()\n",
        "        gc.collect()\n",
        "\n",
        "    print ('Epoch [{}/{}], Loss: {:.4f}'.format(temp+1,epochs, loss.item()))\n",
        "            \n",
        "    # Validation\n",
        "    with torch.no_grad():\n",
        "        rights = 0\n",
        "        all = 0\n",
        "        for imgs, lbls in valid_loader:\n",
        "            imgs = imgs.to(device)\n",
        "            lbls = lbls.to(device)\n",
        "            model_output = model(imgs)\n",
        "            _, predicted = torch.max(model_output.data, 1)\n",
        "            all += lbls.size(0)\n",
        "            rights += (predicted == lbls).sum().item()\n",
        "            val_cost = loss_func(model_output, lbls)\n",
        "            _, val_predictions = torch.max(model_output, 1)\n",
        "            val_inter_cost += val_cost.item()\n",
        "            val_inter_rights += torch.sum(val_predictions == lbls.data)\n",
        "            del imgs, lbls, model_output\n",
        "    \n",
        "        print('Accuracy on {} Validation images is: {} %'.format(5000, 100 * rights / all)) \n",
        "\n",
        "    epoch_cost = inter_cost/len(train_loader) # loss per epoch\n",
        "    epoch_acc = inter_rights.float()/ len(train_loader) # accuracy per epoch\n",
        "    epoch_acc.to(device)\n",
        "    intermidiate_cost_history.append(epoch_cost) # appending for displaying \n",
        "    inter_rights_history.append(epoch_acc)\n",
        "    \n",
        "    val_epoch_cost = val_inter_cost/len(valid_loader)\n",
        "    val_epoch_acc = val_inter_rights.float()/ len(valid_loader)\n",
        "    val_intermidiate_cost_history.append(val_epoch_cost)\n",
        "    val_intermidiate_correct_cost_history.append(val_epoch_acc)\n"
      ],
      "id": "d35dd285-f96c-4a8b-9704-6cb6815a43a0"
    },
    {
      "cell_type": "code",
      "execution_count": 9,
      "metadata": {
        "id": "eV2Tey0d11x8"
      },
      "outputs": [],
      "source": [
        "acc_history = []\n",
        "type(inter_rights_history)\n",
        "for i in inter_rights_history:\n",
        "  acc_history.append(i.item())\n",
        "val_history = []\n",
        "for i in val_intermidiate_correct_cost_history:\n",
        "  val_history.append(i.item())"
      ],
      "id": "eV2Tey0d11x8"
    },
    {
      "cell_type": "code",
      "execution_count": 10,
      "metadata": {
        "id": "l3_wf3Sl2F-5",
        "colab": {
          "base_uri": "https://localhost:8080/"
        },
        "outputId": "b441b110-ab7c-4913-fb5c-34f77dd6bf4c"
      },
      "outputs": [
        {
          "output_type": "execute_result",
          "data": {
            "text/plain": [
              "[1.9846871457993984,\n",
              " 1.5038809908384627,\n",
              " 1.2125924248248339,\n",
              " 0.974033843895251,\n",
              " 0.8337940273552455,\n",
              " 0.7624331678856503,\n",
              " 0.7325176658447493,\n",
              " 0.6934805500575087,\n",
              " 0.677669289225543,\n",
              " 0.6682676856236701,\n",
              " 0.6502683552363041,\n",
              " 0.6364552887918596,\n",
              " 0.6347113113681023,\n",
              " 0.6200929186730222,\n",
              " 0.6161413744345985]"
            ]
          },
          "metadata": {},
          "execution_count": 10
        }
      ],
      "source": [
        "intermidiate_cost_history"
      ],
      "id": "l3_wf3Sl2F-5"
    },
    {
      "cell_type": "code",
      "execution_count": 11,
      "metadata": {
        "colab": {
          "base_uri": "https://localhost:8080/",
          "height": 282
        },
        "id": "v8ZfgQpRpffK",
        "outputId": "6e3e9218-6e01-453e-b952-03629e6c9430"
      },
      "outputs": [
        {
          "output_type": "execute_result",
          "data": {
            "text/plain": [
              "<matplotlib.legend.Legend at 0x7f845d6e2d30>"
            ]
          },
          "metadata": {},
          "execution_count": 11
        },
        {
          "output_type": "display_data",
          "data": {
            "text/plain": [
              "<Figure size 432x288 with 1 Axes>"
            ],
            "image/png": "[encoded data removed]"
          },
          "metadata": {}
        }
      ],
      "source": [
        "import matplotlib.pyplot as plt\n",
        "plt.style.use('ggplot')\n",
        "plt.plot(intermidiate_cost_history, label='training loss')\n",
        "plt.plot(val_intermidiate_cost_history, label='validation loss')\n",
        "plt.legend()"
      ],
      "id": "v8ZfgQpRpffK"
    },
    {
      "cell_type": "code",
      "execution_count": 12,
      "metadata": {
        "colab": {
          "base_uri": "https://localhost:8080/",
          "height": 282
        },
        "id": "pFdBNHc4vS7A",
        "outputId": "26c82307-56e8-4d0f-e90a-51432869c87b"
      },
      "outputs": [
        {
          "output_type": "execute_result",
          "data": {
            "text/plain": [
              "<matplotlib.legend.Legend at 0x7f845d6778b0>"
            ]
          },
          "metadata": {},
          "execution_count": 12
        },
        {
          "output_type": "display_data",
          "data": {
            "text/plain": [
              "<Figure size 432x288 with 1 Axes>"
            ],
            "image/png": "[encoded data removed]"
          },
          "metadata": {}
        }
      ],
      "source": [
        "plt.style.use('ggplot')\n",
        "plt.plot(acc_history, label='training accuracy')\n",
        "plt.plot(val_history, label='validation accuracy')\n",
        "plt.legend()"
      ],
      "id": "pFdBNHc4vS7A"
    },
    {
      "cell_type": "code",
      "execution_count": 13,
      "metadata": {
        "id": "eji_fsFx-23l"
      },
      "outputs": [],
      "source": [
        "torch.save(model.state_dict(), 'model_cifar10_resnet34.pt')"
      ],
      "id": "eji_fsFx-23l"
    },
    {
      "cell_type": "code",
      "execution_count": 14,
      "metadata": {
        "colab": {
          "base_uri": "https://localhost:8080/"
        },
        "id": "82c8f707-6271-45e8-a185-0c01064328d0",
        "outputId": "a9e180fc-8b61-4588-f6b7-83fd10e47993"
      },
      "outputs": [
        {
          "output_type": "stream",
          "name": "stdout",
          "text": [
            "Accuracy of the network on the 10000 test images: 75.5 %\n"
          ]
        }
      ],
      "source": [
        "with torch.no_grad():\n",
        "    rights = 0\n",
        "    all = 0\n",
        "    for imgs, lbls in test_loader:\n",
        "        imgs = imgs.to(device)\n",
        "        lbls = lbls.to(device)\n",
        "        model_output = model(imgs)\n",
        "        _, predicted = torch.max(model_output.data, 1)\n",
        "        all += lbls.size(0)\n",
        "        rights += (predicted == lbls).sum().item()\n",
        "        del imgs, lbls, model_output\n",
        "\n",
        "    print('Accuracy of the network on the {} test images: {} %'.format(10000, 100 * rights / all))   \n"
      ],
      "id": "82c8f707-6271-45e8-a185-0c01064328d0"
    },
    {
      "cell_type": "code",
      "execution_count": 14,
      "metadata": {
        "id": "82a343cc-a088-4b24-a8f8-2d35763dd7d3"
      },
      "outputs": [],
      "source": [],
      "id": "82a343cc-a088-4b24-a8f8-2d35763dd7d3"
    }
  ],
  "metadata": {
    "accelerator": "GPU",
    "colab": {
      "provenance": []
    },
    "gpuClass": "standard",
    "kernelspec": {
      "display_name": "Python 3 (ipykernel)",
      "language": "python",
      "name": "python3"
    },
    "language_info": {
      "codemirror_mode": {
        "name": "ipython",
        "version": 3
      },
      "file_extension": ".py",
      "mimetype": "text/x-python",
      "name": "python",
      "nbconvert_exporter": "python",
      "pygments_lexer": "ipython3",
      "version": "3.8.12"
    },
    "widgets": {
      "application/vnd.jupyter.widget-state+json": {
        "7344548618e04526b2c287cfca2851df": {
          "model_module": "@jupyter-widgets/controls",
          "model_name": "HBoxModel",
          "model_module_version": "1.5.0",
          "state": {
            "_dom_classes": [],
            "_model_module": "@jupyter-widgets/controls",
            "_model_module_version": "1.5.0",
            "_model_name": "HBoxModel",
            "_view_count": null,
            "_view_module": "@jupyter-widgets/controls",
            "_view_module_version": "1.5.0",
            "_view_name": "HBoxView",
            "box_style": "",
            "children": [
              "IPY_MODEL_e9b8148a10ae42fab0b32c1d5938c9d5",
              "IPY_MODEL_af823efdf83346a7ae437baf1c4e4d9d",
              "IPY_MODEL_bf288e1517744440abe2e6d2664dec31"
            ],
            "layout": "IPY_MODEL_4fc44cc0fab94ce58dac361185d88b30"
          }
        },
        "e9b8148a10ae42fab0b32c1d5938c9d5": {
          "model_module": "@jupyter-widgets/controls",
          "model_name": "HTMLModel",
          "model_module_version": "1.5.0",
          "state": {
            "_dom_classes": [],
            "_model_module": "@jupyter-widgets/controls",
            "_model_module_version": "1.5.0",
            "_model_name": "HTMLModel",
            "_view_count": null,
            "_view_module": "@jupyter-widgets/controls",
            "_view_module_version": "1.5.0",
            "_view_name": "HTMLView",
            "description": "",
            "description_tooltip": null,
            "layout": "IPY_MODEL_baafa33f8b09436d94d8f9018b27de0a",
            "placeholder": "​",
            "style": "IPY_MODEL_22351ebe8410448db860148ddf1708b9",
            "value": "100%"
          }
        },
        "af823efdf83346a7ae437baf1c4e4d9d": {
          "model_module": "@jupyter-widgets/controls",
          "model_name": "FloatProgressModel",
          "model_module_version": "1.5.0",
          "state": {
            "_dom_classes": [],
            "_model_module": "@jupyter-widgets/controls",
            "_model_module_version": "1.5.0",
            "_model_name": "FloatProgressModel",
            "_view_count": null,
            "_view_module": "@jupyter-widgets/controls",
            "_view_module_version": "1.5.0",
            "_view_name": "ProgressView",
            "bar_style": "success",
            "description": "",
            "description_tooltip": null,
            "layout": "IPY_MODEL_4ea23830e34e48a4b175428c1713c0ae",
            "max": 170498071,
            "min": 0,
            "orientation": "horizontal",
            "style": "IPY_MODEL_31297412713148809c1f0f8ae50988e4",
            "value": 170498071
          }
        },
        "bf288e1517744440abe2e6d2664dec31": {
          "model_module": "@jupyter-widgets/controls",
          "model_name": "HTMLModel",
          "model_module_version": "1.5.0",
          "state": {
            "_dom_classes": [],
            "_model_module": "@jupyter-widgets/controls",
            "_model_module_version": "1.5.0",
            "_model_name": "HTMLModel",
            "_view_count": null,
            "_view_module": "@jupyter-widgets/controls",
            "_view_module_version": "1.5.0",
            "_view_name": "HTMLView",
            "description": "",
            "description_tooltip": null,
            "layout": "IPY_MODEL_270cb1ea95ee4bc487fc32564e1f9523",
            "placeholder": "​",
            "style": "IPY_MODEL_561436e2e7c44cf49231b41c625af896",
            "value": " 170498071/170498071 [00:02&lt;00:00, 76021645.50it/s]"
          }
        },
        "4fc44cc0fab94ce58dac361185d88b30": {
          "model_module": "@jupyter-widgets/base",
          "model_name": "LayoutModel",
          "model_module_version": "1.2.0",
          "state": {
            "_model_module": "@jupyter-widgets/base",
            "_model_module_version": "1.2.0",
            "_model_name": "LayoutModel",
            "_view_count": null,
            "_view_module": "@jupyter-widgets/base",
            "_view_module_version": "1.2.0",
            "_view_name": "LayoutView",
            "align_content": null,
            "align_items": null,
            "align_self": null,
            "border": null,
            "bottom": null,
            "display": null,
            "flex": null,
            "flex_flow": null,
            "grid_area": null,
            "grid_auto_columns": null,
            "grid_auto_flow": null,
            "grid_auto_rows": null,
            "grid_column": null,
            "grid_gap": null,
            "grid_row": null,
            "grid_template_areas": null,
            "grid_template_columns": null,
            "grid_template_rows": null,
            "height": null,
            "justify_content": null,
            "justify_items": null,
            "left": null,
            "margin": null,
            "max_height": null,
            "max_width": null,
            "min_height": null,
            "min_width": null,
            "object_fit": null,
            "object_position": null,
            "order": null,
            "overflow": null,
            "overflow_x": null,
            "overflow_y": null,
            "padding": null,
            "right": null,
            "top": null,
            "visibility": null,
            "width": null
          }
        },
        "baafa33f8b09436d94d8f9018b27de0a": {
          "model_module": "@jupyter-widgets/base",
          "model_name": "LayoutModel",
          "model_module_version": "1.2.0",
          "state": {
            "_model_module": "@jupyter-widgets/base",
            "_model_module_version": "1.2.0",
            "_model_name": "LayoutModel",
            "_view_count": null,
            "_view_module": "@jupyter-widgets/base",
            "_view_module_version": "1.2.0",
            "_view_name": "LayoutView",
            "align_content": null,
            "align_items": null,
            "align_self": null,
            "border": null,
            "bottom": null,
            "display": null,
            "flex": null,
            "flex_flow": null,
            "grid_area": null,
            "grid_auto_columns": null,
            "grid_auto_flow": null,
            "grid_auto_rows": null,
            "grid_column": null,
            "grid_gap": null,
            "grid_row": null,
            "grid_template_areas": null,
            "grid_template_columns": null,
            "grid_template_rows": null,
            "height": null,
            "justify_content": null,
            "justify_items": null,
            "left": null,
            "margin": null,
            "max_height": null,
            "max_width": null,
            "min_height": null,
            "min_width": null,
            "object_fit": null,
            "object_position": null,
            "order": null,
            "overflow": null,
            "overflow_x": null,
            "overflow_y": null,
            "padding": null,
            "right": null,
            "top": null,
            "visibility": null,
            "width": null
          }
        },
        "22351ebe8410448db860148ddf1708b9": {
          "model_module": "@jupyter-widgets/controls",
          "model_name": "DescriptionStyleModel",
          "model_module_version": "1.5.0",
          "state": {
            "_model_module": "@jupyter-widgets/controls",
            "_model_module_version": "1.5.0",
            "_model_name": "DescriptionStyleModel",
            "_view_count": null,
            "_view_module": "@jupyter-widgets/base",
            "_view_module_version": "1.2.0",
            "_view_name": "StyleView",
            "description_width": ""
          }
        },
        "4ea23830e34e48a4b175428c1713c0ae": {
          "model_module": "@jupyter-widgets/base",
          "model_name": "LayoutModel",
          "model_module_version": "1.2.0",
          "state": {
            "_model_module": "@jupyter-widgets/base",
            "_model_module_version": "1.2.0",
            "_model_name": "LayoutModel",
            "_view_count": null,
            "_view_module": "@jupyter-widgets/base",
            "_view_module_version": "1.2.0",
            "_view_name": "LayoutView",
            "align_content": null,
            "align_items": null,
            "align_self": null,
            "border": null,
            "bottom": null,
            "display": null,
            "flex": null,
            "flex_flow": null,
            "grid_area": null,
            "grid_auto_columns": null,
            "grid_auto_flow": null,
            "grid_auto_rows": null,
            "grid_column": null,
            "grid_gap": null,
            "grid_row": null,
            "grid_template_areas": null,
            "grid_template_columns": null,
            "grid_template_rows": null,
            "height": null,
            "justify_content": null,
            "justify_items": null,
            "left": null,
            "margin": null,
            "max_height": null,
            "max_width": null,
            "min_height": null,
            "min_width": null,
            "object_fit": null,
            "object_position": null,
            "order": null,
            "overflow": null,
            "overflow_x": null,
            "overflow_y": null,
            "padding": null,
            "right": null,
            "top": null,
            "visibility": null,
            "width": null
          }
        },
        "31297412713148809c1f0f8ae50988e4": {
          "model_module": "@jupyter-widgets/controls",
          "model_name": "ProgressStyleModel",
          "model_module_version": "1.5.0",
          "state": {
            "_model_module": "@jupyter-widgets/controls",
            "_model_module_version": "1.5.0",
            "_model_name": "ProgressStyleModel",
            "_view_count": null,
            "_view_module": "@jupyter-widgets/base",
            "_view_module_version": "1.2.0",
            "_view_name": "StyleView",
            "bar_color": null,
            "description_width": ""
          }
        },
        "270cb1ea95ee4bc487fc32564e1f9523": {
          "model_module": "@jupyter-widgets/base",
          "model_name": "LayoutModel",
          "model_module_version": "1.2.0",
          "state": {
            "_model_module": "@jupyter-widgets/base",
            "_model_module_version": "1.2.0",
            "_model_name": "LayoutModel",
            "_view_count": null,
            "_view_module": "@jupyter-widgets/base",
            "_view_module_version": "1.2.0",
            "_view_name": "LayoutView",
            "align_content": null,
            "align_items": null,
            "align_self": null,
            "border": null,
            "bottom": null,
            "display": null,
            "flex": null,
            "flex_flow": null,
            "grid_area": null,
            "grid_auto_columns": null,
            "grid_auto_flow": null,
            "grid_auto_rows": null,
            "grid_column": null,
            "grid_gap": null,
            "grid_row": null,
            "grid_template_areas": null,
            "grid_template_columns": null,
            "grid_template_rows": null,
            "height": null,
            "justify_content": null,
            "justify_items": null,
            "left": null,
            "margin": null,
            "max_height": null,
            "max_width": null,
            "min_height": null,
            "min_width": null,
            "object_fit": null,
            "object_position": null,
            "order": null,
            "overflow": null,
            "overflow_x": null,
            "overflow_y": null,
            "padding": null,
            "right": null,
            "top": null,
            "visibility": null,
            "width": null
          }
        },
        "561436e2e7c44cf49231b41c625af896": {
          "model_module": "@jupyter-widgets/controls",
          "model_name": "DescriptionStyleModel",
          "model_module_version": "1.5.0",
          "state": {
            "_model_module": "@jupyter-widgets/controls",
            "_model_module_version": "1.5.0",
            "_model_name": "DescriptionStyleModel",
            "_view_count": null,
            "_view_module": "@jupyter-widgets/base",
            "_view_module_version": "1.2.0",
            "_view_name": "StyleView",
            "description_width": ""
          }
        }
      }
    }
  },
  "nbformat": 4,
  "nbformat_minor": 5
}