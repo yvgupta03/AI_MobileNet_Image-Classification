{
  "cells": [
    {
      "cell_type": "markdown",
      "source": [
        "### Notebook Information\n",
        "\n",
        "#### In this notebook we are running the MobileNet model on CIFAR 10 dataset"
      ],
      "metadata": {
        "id": "rco2zyqBKk2f"
      },
      "id": "rco2zyqBKk2f"
    },
    {
      "cell_type": "markdown",
      "source": [
        "LR=0.1, epoch = 15 Optimizer = Adadelta"
      ],
      "metadata": {
        "id": "0kVb48XgPEON"
      },
      "id": "0kVb48XgPEON"
    },
    {
      "cell_type": "code",
      "execution_count": 1,
      "id": "f0013fad-1984-424d-a99f-53c2b5a5e1e5",
      "metadata": {
        "execution": {
          "iopub.execute_input": "2022-06-21T20:55:03.562597Z",
          "iopub.status.busy": "2022-06-21T20:55:03.561818Z",
          "iopub.status.idle": "2022-06-21T20:55:04.730045Z",
          "shell.execute_reply": "2022-06-21T20:55:04.729259Z",
          "shell.execute_reply.started": "2022-06-21T20:55:03.562566Z"
        },
        "id": "f0013fad-1984-424d-a99f-53c2b5a5e1e5"
      },
      "outputs": [],
      "source": [
        "# Importing the Required libraries for this Project\n",
        "import numpy as np\n",
        "import torch\n",
        "import torch.nn as nn"
      ]
    },
    {
      "cell_type": "code",
      "source": [
        "# Setting the device \n",
        "if torch.cuda.is_available():\n",
        "  device = torch.device('cuda')\n",
        "else:\n",
        "  device = torch.device('cpu')"
      ],
      "metadata": {
        "id": "hd2KjislKr6C"
      },
      "id": "hd2KjislKr6C",
      "execution_count": 2,
      "outputs": []
    },
    {
      "cell_type": "code",
      "execution_count": 3,
      "id": "4e336f55-bfb5-4afd-aa3b-efb7dc9ce590",
      "metadata": {
        "execution": {
          "iopub.execute_input": "2022-06-21T20:55:04.731772Z",
          "iopub.status.busy": "2022-06-21T20:55:04.731576Z",
          "iopub.status.idle": "2022-06-21T20:55:08.711162Z",
          "shell.execute_reply": "2022-06-21T20:55:08.710488Z",
          "shell.execute_reply.started": "2022-06-21T20:55:04.731749Z"
        },
        "colab": {
          "base_uri": "https://localhost:8080/",
          "height": 118,
          "referenced_widgets": [
            "8dd8c308da47473aaf1871373de0f634",
            "0626300d95044cf28bb2eac865e0bf02",
            "4854bb17779e4243a974cdbaee886dc2",
            "caabd03049334f29a70dc19047cf141a",
            "f4cbbec2b6c64dfb9e9818c37b7c87df",
            "6dbdca3de5ac4715a4f481ce18cb6e72",
            "a1fb408745d94fafaf1f9f8ba89fedec",
            "1953e7c727ec467cb71b35f70e3e667e",
            "20fbb0ba5a214c89bab1359379052809",
            "e1f9f7f7fb624d4b8536c307f3694d4d",
            "8c32fcf9c73143f18b646a39a217d1e6"
          ]
        },
        "id": "4e336f55-bfb5-4afd-aa3b-efb7dc9ce590",
        "outputId": "11389c73-c880-4066-caaa-37d4b1319b0a"
      },
      "outputs": [
        {
          "output_type": "stream",
          "name": "stdout",
          "text": [
            "Downloading https://www.cs.toronto.edu/~kriz/cifar-10-python.tar.gz to ./data/cifar-10-python.tar.gz\n"
          ]
        },
        {
          "output_type": "display_data",
          "data": {
            "text/plain": [
              "  0%|          | 0/170498071 [00:00<?, ?it/s]"
            ],
            "application/vnd.jupyter.widget-view+json": {
              "version_major": 2,
              "version_minor": 0,
              "model_id": "8dd8c308da47473aaf1871373de0f634"
            }
          },
          "metadata": {}
        },
        {
          "output_type": "stream",
          "name": "stdout",
          "text": [
            "Extracting ./data/cifar-10-python.tar.gz to ./data\n",
            "Files already downloaded and verified\n",
            "Files already downloaded and verified\n"
          ]
        }
      ],
      "source": [
        "from numpy.lib.shape_base import dstack\n",
        "# Getting the Dataset from the datasets library\n",
        "\n",
        "from torchvision import datasets as ds\n",
        "from torchvision import transforms as tfs\n",
        "from torch.utils.data.sampler import SubsetRandomSampler\n",
        "\n",
        "# Creating a function to load our data and passing all the required parameters\n",
        "\n",
        "def load_data_project(dataAddr, bs1, vs=0.1, shuffle=True, test=False):  \n",
        "    nrm = tfs.Normalize(mean=[0.4913, 0.4821, 0.4465],std=[0.2470, 0.2435, 0.2615],)\n",
        "\n",
        "    # use torchvision transforms on the data\n",
        "    tf = tfs.Compose([tfs.Resize((224,224)), tfs.ToTensor(), nrm,])\n",
        "\n",
        "    # If we are trying to load the test dataset\n",
        "    if test == True:\n",
        "        dsCurr = ds.CIFAR10(root=dataAddr, train=False,download=True,transform=tf,)\n",
        "\n",
        "        load_data_project = torch.utils.data.DataLoader(dsCurr, batch_size=bs1, shuffle=shuffle)\n",
        "\n",
        "        return load_data_project\n",
        "\n",
        "    # load the dataset into train and validation variables\n",
        "    dsCurrTrain = ds.CIFAR10(root=dataAddr, train=True, download=True, transform=tf,)\n",
        "\n",
        "    dsCurrValid = ds.CIFAR10(root=dataAddr, train=True, download=True, transform=tf, )\n",
        "\n",
        "    x = len(dsCurrTrain)\n",
        "    positions = list(range(x))\n",
        "    div = int(np.floor(vs * x))\n",
        "\n",
        "    # To check and shuffle data accordingly\n",
        "    if shuffle == True:\n",
        "        np.random.seed(42)\n",
        "        np.random.shuffle(positions)\n",
        "\n",
        "    train_idx, valid_idx = positions[div:], positions[:div]\n",
        "    train_sampler = SubsetRandomSampler(train_idx)\n",
        "    valid_sampler = SubsetRandomSampler(valid_idx)\n",
        "\n",
        "    trainLoaderCurr = torch.utils.data.DataLoader(dsCurrTrain, batch_size=bs1, sampler=train_sampler)\n",
        "    validLoaderCurr = torch.utils.data.DataLoader(dsCurrValid, batch_size=bs1, sampler=valid_sampler)\n",
        "    return (trainLoaderCurr, validLoaderCurr)\n",
        " \n",
        "train_loader, valid_loader = load_data_project('./data',64)\n",
        "\n",
        "test_loader = load_data_project('./data',64,test=True)"
      ]
    },
    {
      "cell_type": "code",
      "source": [
        "import math\n",
        "\n",
        "#normalization function for batch normalization\n",
        "def conv_bch_norm(inp, oup, stride):\n",
        "    return nn.Sequential(\n",
        "        nn.Conv2d(inp, oup, 3, stride, 1, bias=False),\n",
        "        nn.BatchNorm2d(oup),\n",
        "        nn.ReLU6(inplace=True)\n",
        "    )\n",
        "\n",
        "def conv_dim1_bch_norm(inp, oup):\n",
        "    return nn.Sequential(\n",
        "        nn.Conv2d(inp, oup, 1, 1, 0, bias=False),\n",
        "        nn.BatchNorm2d(oup),\n",
        "        nn.ReLU6(inplace=True)\n",
        "    )\n",
        "\n",
        "# give required division number\n",
        "def give_division_number(x, divisible_by=8):\n",
        "    import numpy as np\n",
        "    return int(np.ceil(x * 1. / divisible_by) * divisible_by)\n",
        "\n",
        "\n",
        "class InvertedResidual(nn.Module):\n",
        "    def __init__(self, inp, oup, stride, expand_ratio):\n",
        "        super(InvertedResidual, self).__init__()\n",
        "        self.stride = stride\n",
        "        assert stride in [1, 2]\n",
        "        dimension_size_hidden = int(inp * expand_ratio)\n",
        "        self.use_res_connect = self.stride == 1 and inp == oup\n",
        "        if expand_ratio == 1:\n",
        "            self.conv = nn.Sequential(                \n",
        "                nn.Conv2d(dimension_size_hidden, dimension_size_hidden, 3, stride, 1, groups=dimension_size_hidden, bias=False),# convolution - depthwise\n",
        "                nn.BatchNorm2d(dimension_size_hidden),\n",
        "                nn.ReLU6(inplace=True),                \n",
        "                nn.Conv2d(dimension_size_hidden, oup, 1, 1, 0, bias=False),# convolution - pointwise without RELU6 => linear\n",
        "                nn.BatchNorm2d(oup),\n",
        "            )\n",
        "        else:\n",
        "            self.conv = nn.Sequential(                \n",
        "                nn.Conv2d(inp, dimension_size_hidden, 1, 1, 0, bias=False),# convolution - pointwise\n",
        "                nn.BatchNorm2d(dimension_size_hidden),\n",
        "                nn.ReLU6(inplace=True), # convolution - depthwise\n",
        "                nn.Conv2d(dimension_size_hidden, dimension_size_hidden, 3, stride, 1, groups=dimension_size_hidden, bias=False),\n",
        "                nn.BatchNorm2d(dimension_size_hidden),\n",
        "                nn.ReLU6(inplace=True),                \n",
        "                nn.Conv2d(dimension_size_hidden, oup, 1, 1, 0, bias=False), # convolution - pointwise without RELU6 => linear\n",
        "                nn.BatchNorm2d(oup),\n",
        "            )\n",
        "\n",
        "    def forward(self, inv_object):\n",
        "        if self.use_res_connect:\n",
        "            return inv_object + self.conv(inv_object)\n",
        "        else:\n",
        "            return self.conv(inv_object)\n",
        "\n",
        "\n",
        "class MobileNetV2(nn.Module):\n",
        "    def __init__(self, num_of_class=10, in_size_dim=224, mult_width_config=1.):\n",
        "        super(MobileNetV2, self).__init__()\n",
        "        blk = InvertedResidual\n",
        "        in_ch = 32 # first channel for input\n",
        "        final_ch = 1280\n",
        "        # inverted residual blocks are as per architecture definition and configured as follows as {expansion-factor, channels, multiplier-count, strides} in the order of 2d array below\n",
        "        config_inversions_congestion = [\n",
        "            [1, 16, 1, 1],\n",
        "            [6, 24, 2, 2],\n",
        "            [6, 32, 1, 2],\n",
        "            [6, 96, 2, 1],\n",
        "            [6, 160, 2, 2],\n",
        "            [6, 320, 1, 1], #here it becomes 7x7, could have made it 3x3 but that would be too small\n",
        "        ]\n",
        "        # creating layer no. 1\n",
        "        assert in_size_dim % 32 == 0\n",
        "        # note that the 1st channel is set 32 by default in this architecture\n",
        "        self.last_channel = give_division_number(final_ch * mult_width_config) if mult_width_config > 1.0 else final_ch\n",
        "        self.features = [conv_bch_norm(3, in_ch, 2)]\n",
        "\n",
        "        # creating blocks - inverted residual iteratively\n",
        "        for t, c, n, s in config_inversions_congestion:\n",
        "            out_ch = give_division_number(c * mult_width_config) if t > 1 else c\n",
        "            for i in range(n):\n",
        "                if i == 0:\n",
        "                    self.features.append(blk(in_ch, out_ch, s, expand_ratio=t))\n",
        "                else:\n",
        "                    self.features.append(blk(in_ch, out_ch, 1, expand_ratio=t))\n",
        "                in_ch = out_ch\n",
        "        # creating layers after bottlenecks are done\n",
        "        self.features.append(conv_dim1_bch_norm(in_ch, self.last_channel))\n",
        "        # changing it into a sequential form and feeding it to a classifier FC layer\n",
        "        self.features = nn.Sequential(*self.features)\n",
        "        self.classifier = nn.Linear(self.last_channel, num_of_class)\n",
        "        self._initialize_weights()\n",
        "\n",
        "    def _initialize_weights(self):\n",
        "        for each_module in self.modules():\n",
        "            if isinstance(each_module, nn.Conv2d):\n",
        "                p = each_module.kernel_size[0] * each_module.kernel_size[1] * each_module.out_channels\n",
        "                each_module.weight.data.normal_(0, math.sqrt(2. / p))\n",
        "                if each_module.bias is not None:\n",
        "                    each_module.bias.data.zero_()\n",
        "            elif isinstance(each_module, nn.BatchNorm2d):\n",
        "                each_module.weight.data.fill_(1)\n",
        "                each_module.bias.data.zero_()\n",
        "            elif isinstance(each_module, nn.Linear):\n",
        "                p = each_module.weight.size(1)\n",
        "                each_module.weight.data.normal_(0, 0.01)\n",
        "                each_module.bias.data.zero_()\n",
        "    \n",
        "    def forward(self, mn_object):\n",
        "        mn_object = self.features(mn_object.to(device))\n",
        "        mn_object = mn_object.mean(3).mean(2)\n",
        "        mn_object = self.classifier(mn_object)\n",
        "        return mn_object"
      ],
      "metadata": {
        "id": "Jesydtz0xEil"
      },
      "id": "Jesydtz0xEil",
      "execution_count": 4,
      "outputs": []
    },
    {
      "cell_type": "code",
      "execution_count": 5,
      "id": "6d27d949-4b05-478e-a58d-76aaebe24b97",
      "metadata": {
        "execution": {
          "iopub.execute_input": "2022-06-21T20:55:26.815110Z",
          "iopub.status.busy": "2022-06-21T20:55:26.814870Z",
          "iopub.status.idle": "2022-06-21T20:55:28.954221Z",
          "shell.execute_reply": "2022-06-21T20:55:28.953387Z",
          "shell.execute_reply.started": "2022-06-21T20:55:26.815086Z"
        },
        "id": "6d27d949-4b05-478e-a58d-76aaebe24b97"
      },
      "outputs": [],
      "source": [
        "classes_cifar = 10\n",
        "epochs = 15\n",
        "batch_size = 16\n",
        "lr_eta = 0.1\n",
        "\n",
        "model = MobileNetV2(mult_width_config=1, num_of_class=10)\n",
        "#model = MobileNetV2(width_mult=1, n_class=10)\n",
        "model.to(device)\n",
        "loss_func = nn.CrossEntropyLoss()\n",
        "optim_func = torch.optim.Adadelta(model.parameters(), lr=lr_eta)  \n",
        "steps = len(train_loader)"
      ]
    },
    {
      "cell_type": "code",
      "source": [
        "from torchsummary import summary\n",
        "model"
      ],
      "metadata": {
        "id": "eb9NACzq8Bx6",
        "colab": {
          "base_uri": "https://localhost:8080/"
        },
        "outputId": "55523047-771d-4ae6-fbab-9d1fb91f1fef"
      },
      "id": "eb9NACzq8Bx6",
      "execution_count": 6,
      "outputs": [
        {
          "output_type": "execute_result",
          "data": {
            "text/plain": [
              "MobileNetV2(\n",
              "  (features): Sequential(\n",
              "    (0): Sequential(\n",
              "      (0): Conv2d(3, 32, kernel_size=(3, 3), stride=(2, 2), padding=(1, 1), bias=False)\n",
              "      (1): BatchNorm2d(32, eps=1e-05, momentum=0.1, affine=True, track_running_stats=True)\n",
              "      (2): ReLU6(inplace=True)\n",
              "    )\n",
              "    (1): InvertedResidual(\n",
              "      (conv): Sequential(\n",
              "        (0): Conv2d(32, 32, kernel_size=(3, 3), stride=(1, 1), padding=(1, 1), groups=32, bias=False)\n",
              "        (1): BatchNorm2d(32, eps=1e-05, momentum=0.1, affine=True, track_running_stats=True)\n",
              "        (2): ReLU6(inplace=True)\n",
              "        (3): Conv2d(32, 16, kernel_size=(1, 1), stride=(1, 1), bias=False)\n",
              "        (4): BatchNorm2d(16, eps=1e-05, momentum=0.1, affine=True, track_running_stats=True)\n",
              "      )\n",
              "    )\n",
              "    (2): InvertedResidual(\n",
              "      (conv): Sequential(\n",
              "        (0): Conv2d(16, 96, kernel_size=(1, 1), stride=(1, 1), bias=False)\n",
              "        (1): BatchNorm2d(96, eps=1e-05, momentum=0.1, affine=True, track_running_stats=True)\n",
              "        (2): ReLU6(inplace=True)\n",
              "        (3): Conv2d(96, 96, kernel_size=(3, 3), stride=(2, 2), padding=(1, 1), groups=96, bias=False)\n",
              "        (4): BatchNorm2d(96, eps=1e-05, momentum=0.1, affine=True, track_running_stats=True)\n",
              "        (5): ReLU6(inplace=True)\n",
              "        (6): Conv2d(96, 24, kernel_size=(1, 1), stride=(1, 1), bias=False)\n",
              "        (7): BatchNorm2d(24, eps=1e-05, momentum=0.1, affine=True, track_running_stats=True)\n",
              "      )\n",
              "    )\n",
              "    (3): InvertedResidual(\n",
              "      (conv): Sequential(\n",
              "        (0): Conv2d(24, 144, kernel_size=(1, 1), stride=(1, 1), bias=False)\n",
              "        (1): BatchNorm2d(144, eps=1e-05, momentum=0.1, affine=True, track_running_stats=True)\n",
              "        (2): ReLU6(inplace=True)\n",
              "        (3): Conv2d(144, 144, kernel_size=(3, 3), stride=(1, 1), padding=(1, 1), groups=144, bias=False)\n",
              "        (4): BatchNorm2d(144, eps=1e-05, momentum=0.1, affine=True, track_running_stats=True)\n",
              "        (5): ReLU6(inplace=True)\n",
              "        (6): Conv2d(144, 24, kernel_size=(1, 1), stride=(1, 1), bias=False)\n",
              "        (7): BatchNorm2d(24, eps=1e-05, momentum=0.1, affine=True, track_running_stats=True)\n",
              "      )\n",
              "    )\n",
              "    (4): InvertedResidual(\n",
              "      (conv): Sequential(\n",
              "        (0): Conv2d(24, 144, kernel_size=(1, 1), stride=(1, 1), bias=False)\n",
              "        (1): BatchNorm2d(144, eps=1e-05, momentum=0.1, affine=True, track_running_stats=True)\n",
              "        (2): ReLU6(inplace=True)\n",
              "        (3): Conv2d(144, 144, kernel_size=(3, 3), stride=(2, 2), padding=(1, 1), groups=144, bias=False)\n",
              "        (4): BatchNorm2d(144, eps=1e-05, momentum=0.1, affine=True, track_running_stats=True)\n",
              "        (5): ReLU6(inplace=True)\n",
              "        (6): Conv2d(144, 32, kernel_size=(1, 1), stride=(1, 1), bias=False)\n",
              "        (7): BatchNorm2d(32, eps=1e-05, momentum=0.1, affine=True, track_running_stats=True)\n",
              "      )\n",
              "    )\n",
              "    (5): InvertedResidual(\n",
              "      (conv): Sequential(\n",
              "        (0): Conv2d(32, 192, kernel_size=(1, 1), stride=(1, 1), bias=False)\n",
              "        (1): BatchNorm2d(192, eps=1e-05, momentum=0.1, affine=True, track_running_stats=True)\n",
              "        (2): ReLU6(inplace=True)\n",
              "        (3): Conv2d(192, 192, kernel_size=(3, 3), stride=(1, 1), padding=(1, 1), groups=192, bias=False)\n",
              "        (4): BatchNorm2d(192, eps=1e-05, momentum=0.1, affine=True, track_running_stats=True)\n",
              "        (5): ReLU6(inplace=True)\n",
              "        (6): Conv2d(192, 96, kernel_size=(1, 1), stride=(1, 1), bias=False)\n",
              "        (7): BatchNorm2d(96, eps=1e-05, momentum=0.1, affine=True, track_running_stats=True)\n",
              "      )\n",
              "    )\n",
              "    (6): InvertedResidual(\n",
              "      (conv): Sequential(\n",
              "        (0): Conv2d(96, 576, kernel_size=(1, 1), stride=(1, 1), bias=False)\n",
              "        (1): BatchNorm2d(576, eps=1e-05, momentum=0.1, affine=True, track_running_stats=True)\n",
              "        (2): ReLU6(inplace=True)\n",
              "        (3): Conv2d(576, 576, kernel_size=(3, 3), stride=(1, 1), padding=(1, 1), groups=576, bias=False)\n",
              "        (4): BatchNorm2d(576, eps=1e-05, momentum=0.1, affine=True, track_running_stats=True)\n",
              "        (5): ReLU6(inplace=True)\n",
              "        (6): Conv2d(576, 96, kernel_size=(1, 1), stride=(1, 1), bias=False)\n",
              "        (7): BatchNorm2d(96, eps=1e-05, momentum=0.1, affine=True, track_running_stats=True)\n",
              "      )\n",
              "    )\n",
              "    (7): InvertedResidual(\n",
              "      (conv): Sequential(\n",
              "        (0): Conv2d(96, 576, kernel_size=(1, 1), stride=(1, 1), bias=False)\n",
              "        (1): BatchNorm2d(576, eps=1e-05, momentum=0.1, affine=True, track_running_stats=True)\n",
              "        (2): ReLU6(inplace=True)\n",
              "        (3): Conv2d(576, 576, kernel_size=(3, 3), stride=(2, 2), padding=(1, 1), groups=576, bias=False)\n",
              "        (4): BatchNorm2d(576, eps=1e-05, momentum=0.1, affine=True, track_running_stats=True)\n",
              "        (5): ReLU6(inplace=True)\n",
              "        (6): Conv2d(576, 160, kernel_size=(1, 1), stride=(1, 1), bias=False)\n",
              "        (7): BatchNorm2d(160, eps=1e-05, momentum=0.1, affine=True, track_running_stats=True)\n",
              "      )\n",
              "    )\n",
              "    (8): InvertedResidual(\n",
              "      (conv): Sequential(\n",
              "        (0): Conv2d(160, 960, kernel_size=(1, 1), stride=(1, 1), bias=False)\n",
              "        (1): BatchNorm2d(960, eps=1e-05, momentum=0.1, affine=True, track_running_stats=True)\n",
              "        (2): ReLU6(inplace=True)\n",
              "        (3): Conv2d(960, 960, kernel_size=(3, 3), stride=(1, 1), padding=(1, 1), groups=960, bias=False)\n",
              "        (4): BatchNorm2d(960, eps=1e-05, momentum=0.1, affine=True, track_running_stats=True)\n",
              "        (5): ReLU6(inplace=True)\n",
              "        (6): Conv2d(960, 160, kernel_size=(1, 1), stride=(1, 1), bias=False)\n",
              "        (7): BatchNorm2d(160, eps=1e-05, momentum=0.1, affine=True, track_running_stats=True)\n",
              "      )\n",
              "    )\n",
              "    (9): InvertedResidual(\n",
              "      (conv): Sequential(\n",
              "        (0): Conv2d(160, 960, kernel_size=(1, 1), stride=(1, 1), bias=False)\n",
              "        (1): BatchNorm2d(960, eps=1e-05, momentum=0.1, affine=True, track_running_stats=True)\n",
              "        (2): ReLU6(inplace=True)\n",
              "        (3): Conv2d(960, 960, kernel_size=(3, 3), stride=(1, 1), padding=(1, 1), groups=960, bias=False)\n",
              "        (4): BatchNorm2d(960, eps=1e-05, momentum=0.1, affine=True, track_running_stats=True)\n",
              "        (5): ReLU6(inplace=True)\n",
              "        (6): Conv2d(960, 320, kernel_size=(1, 1), stride=(1, 1), bias=False)\n",
              "        (7): BatchNorm2d(320, eps=1e-05, momentum=0.1, affine=True, track_running_stats=True)\n",
              "      )\n",
              "    )\n",
              "    (10): Sequential(\n",
              "      (0): Conv2d(320, 1280, kernel_size=(1, 1), stride=(1, 1), bias=False)\n",
              "      (1): BatchNorm2d(1280, eps=1e-05, momentum=0.1, affine=True, track_running_stats=True)\n",
              "      (2): ReLU6(inplace=True)\n",
              "    )\n",
              "  )\n",
              "  (classifier): Linear(in_features=1280, out_features=10, bias=True)\n",
              ")"
            ]
          },
          "metadata": {},
          "execution_count": 6
        }
      ]
    },
    {
      "cell_type": "code",
      "execution_count": 7,
      "id": "d35dd285-f96c-4a8b-9704-6cb6815a43a0",
      "metadata": {
        "execution": {
          "iopub.execute_input": "2022-06-21T20:55:32.415287Z",
          "iopub.status.busy": "2022-06-21T20:55:32.415043Z",
          "iopub.status.idle": "2022-06-21T21:21:48.643164Z",
          "shell.execute_reply": "2022-06-21T21:21:48.642259Z",
          "shell.execute_reply.started": "2022-06-21T20:55:32.415261Z"
        },
        "id": "d35dd285-f96c-4a8b-9704-6cb6815a43a0",
        "colab": {
          "base_uri": "https://localhost:8080/"
        },
        "outputId": "bd9a4174-d086-4d75-a881-031d04f14a12"
      },
      "outputs": [
        {
          "output_type": "stream",
          "name": "stdout",
          "text": [
            "Epoch number [1], the loss is: 1.7810\n",
            "Accuracy on 5000 Validation images is: 51.14 %\n",
            "Epoch number [2], the loss is: 0.6391\n",
            "Accuracy on 5000 Validation images is: 57.78 %\n",
            "Epoch number [3], the loss is: 0.6948\n",
            "Accuracy on 5000 Validation images is: 63.98 %\n",
            "Epoch number [4], the loss is: 0.8887\n",
            "Accuracy on 5000 Validation images is: 68.52 %\n",
            "Epoch number [5], the loss is: 0.5820\n",
            "Accuracy on 5000 Validation images is: 69.96 %\n",
            "Epoch number [6], the loss is: 0.6224\n",
            "Accuracy on 5000 Validation images is: 74.48 %\n",
            "Epoch number [7], the loss is: 0.8086\n",
            "Accuracy on 5000 Validation images is: 74.44 %\n",
            "Epoch number [8], the loss is: 0.3953\n",
            "Accuracy on 5000 Validation images is: 75.28 %\n",
            "Epoch number [9], the loss is: 0.3805\n",
            "Accuracy on 5000 Validation images is: 76.98 %\n",
            "Epoch number [10], the loss is: 0.1786\n",
            "Accuracy on 5000 Validation images is: 77.76 %\n",
            "Epoch number [11], the loss is: 0.4529\n",
            "Accuracy on 5000 Validation images is: 77.22 %\n",
            "Epoch number [12], the loss is: 0.5808\n",
            "Accuracy on 5000 Validation images is: 76.46 %\n",
            "Epoch number [13], the loss is: 0.8068\n",
            "Accuracy on 5000 Validation images is: 77.46 %\n",
            "Epoch number [14], the loss is: 0.1227\n",
            "Accuracy on 5000 Validation images is: 79.04 %\n",
            "Epoch number [15], the loss is: 0.3484\n",
            "Accuracy on 5000 Validation images is: 77.16 %\n"
          ]
        }
      ],
      "source": [
        "import gc\n",
        "steps = len(train_loader)\n",
        "\n",
        "intermidiate_cost_history = []\n",
        "inter_rights_history = []\n",
        "val_intermidiate_cost_history = []\n",
        "val_intermidiate_correct_cost_history = []\n",
        "\n",
        "for temp in range(epochs):\n",
        "\n",
        "    inter_cost = 0.0\n",
        "    inter_rights = 0.0\n",
        "    val_inter_cost = 0.0\n",
        "    val_inter_rights = 0.0 \n",
        "\n",
        "    for i, (imgs, lbls) in enumerate(train_loader):\n",
        "        # Move tensors to the configured device\n",
        "        imgs = imgs.to(device)\n",
        "        lbls = lbls.to(device)\n",
        "        \n",
        "        # Forward pass\n",
        "        model_output = model(imgs)\n",
        "        loss = loss_func(model_output, lbls)\n",
        "        # print(\"Loss -\")\n",
        "        # print(loss)\n",
        "        # print(\"Labels -\")\n",
        "        # print(labels)\n",
        "        # Backward and optimize\n",
        "        optim_func.zero_grad()\n",
        "        loss.backward()\n",
        "        optim_func.step()\n",
        "        _, preds = torch.max(model_output, 1) # taking the highest value of prediction.\n",
        "        inter_cost += loss.item()\n",
        "        inter_rights += torch.sum(preds == lbls.data)\n",
        "\n",
        "        del imgs, lbls, model_output\n",
        "        torch.cuda.empty_cache()\n",
        "        gc.collect()\n",
        "\n",
        "    print ('Epoch number [{}], the loss is: {:.4f}'.format(temp+1, loss.item()))\n",
        "            \n",
        "    # Validation\n",
        "    with torch.no_grad():\n",
        "        rights = 0\n",
        "        all = 0\n",
        "        for imgs, lbls in valid_loader:\n",
        "            imgs = imgs.to(device)\n",
        "            lbls = lbls.to(device)\n",
        "            model_output = model(imgs)\n",
        "            _, predicted = torch.max(model_output.data, 1)\n",
        "            all += lbls.size(0)\n",
        "            rights += (predicted == lbls).sum().item()\n",
        "            val_cost = loss_func(model_output, lbls)\n",
        "            _, val_predictions = torch.max(model_output, 1)\n",
        "            val_inter_cost += val_cost.item()\n",
        "            val_inter_rights += torch.sum(val_predictions == lbls.data)\n",
        "            del imgs, lbls, model_output\n",
        "    \n",
        "        print('Accuracy on {} Validation images is: {} %'.format(5000, 100 * rights / all)) \n",
        "\n",
        "    epoch_cost = inter_cost/len(train_loader) # loss per epoch\n",
        "    epoch_acc = inter_rights.float()/ len(train_loader) # accuracy per epoch\n",
        "    epoch_acc.to(device)\n",
        "    intermidiate_cost_history.append(epoch_cost) # appending for displaying \n",
        "    inter_rights_history.append(epoch_acc)\n",
        "    \n",
        "    val_epoch_cost = val_inter_cost/len(valid_loader)\n",
        "    val_epoch_acc = val_inter_rights.float()/ len(valid_loader)\n",
        "    val_intermidiate_cost_history.append(val_epoch_cost)\n",
        "    val_intermidiate_correct_cost_history.append(val_epoch_acc)"
      ]
    },
    {
      "cell_type": "code",
      "source": [
        "acc_history = []\n",
        "type(inter_rights_history)\n",
        "for i in inter_rights_history:\n",
        "  acc_history.append(i.item())\n",
        "val_history = []\n",
        "for i in val_intermidiate_correct_cost_history:\n",
        "  val_history.append(i.item())"
      ],
      "metadata": {
        "id": "eV2Tey0d11x8"
      },
      "id": "eV2Tey0d11x8",
      "execution_count": 8,
      "outputs": []
    },
    {
      "cell_type": "code",
      "source": [
        "intermidiate_cost_history"
      ],
      "metadata": {
        "colab": {
          "base_uri": "https://localhost:8080/"
        },
        "id": "l3_wf3Sl2F-5",
        "outputId": "f66a1d0d-7993-44ca-855e-a6799bfdc6bc"
      },
      "id": "l3_wf3Sl2F-5",
      "execution_count": 9,
      "outputs": [
        {
          "output_type": "execute_result",
          "data": {
            "text/plain": [
              "[1.4929251136596908,\n",
              " 1.0868479457937859,\n",
              " 0.9220453913069584,\n",
              " 0.805283500474285,\n",
              " 0.7105003448880531,\n",
              " 0.6250203173099593,\n",
              " 0.5510541688312184,\n",
              " 0.4799939740068195,\n",
              " 0.4159128646662628,\n",
              " 0.36090485501865094,\n",
              " 0.31414101858073,\n",
              " 0.27109542792789976,\n",
              " 0.23202691548927265,\n",
              " 0.19326996131778948,\n",
              " 0.167270875191951]"
            ]
          },
          "metadata": {},
          "execution_count": 9
        }
      ]
    },
    {
      "cell_type": "code",
      "source": [
        "import matplotlib.pyplot as plt\n",
        "plt.style.use('ggplot')\n",
        "plt.plot(intermidiate_cost_history, label='training loss')\n",
        "plt.plot(val_intermidiate_cost_history, label='validation loss')\n",
        "plt.legend()"
      ],
      "metadata": {
        "colab": {
          "base_uri": "https://localhost:8080/",
          "height": 282
        },
        "id": "v8ZfgQpRpffK",
        "outputId": "3db8bbf5-0a27-46f0-c7bd-c57c5aefd557"
      },
      "id": "v8ZfgQpRpffK",
      "execution_count": 10,
      "outputs": [
        {
          "output_type": "execute_result",
          "data": {
            "text/plain": [
              "<matplotlib.legend.Legend at 0x7f81fb652af0>"
            ]
          },
          "metadata": {},
          "execution_count": 10
        },
        {
          "output_type": "display_data",
          "data": {
            "text/plain": [
              "<Figure size 432x288 with 1 Axes>"
            ],
            "image/png": "[encoded data removed]"
          },
          "metadata": {}
        }
      ]
    },
    {
      "cell_type": "code",
      "source": [
        "plt.style.use('ggplot')\n",
        "plt.plot(acc_history, label='training accuracy')\n",
        "plt.plot(val_history, label='validation accuracy')\n",
        "plt.legend()"
      ],
      "metadata": {
        "colab": {
          "base_uri": "https://localhost:8080/",
          "height": 282
        },
        "id": "pFdBNHc4vS7A",
        "outputId": "7ba0df94-e4a3-4237-83e7-9ea42caacdc0"
      },
      "id": "pFdBNHc4vS7A",
      "execution_count": 11,
      "outputs": [
        {
          "output_type": "execute_result",
          "data": {
            "text/plain": [
              "<matplotlib.legend.Legend at 0x7f81fb862c10>"
            ]
          },
          "metadata": {},
          "execution_count": 11
        },
        {
          "output_type": "display_data",
          "data": {
            "text/plain": [
              "<Figure size 432x288 with 1 Axes>"
            ],
            "image/png": "[encoded data removed]"
          },
          "metadata": {}
        }
      ]
    },
    {
      "cell_type": "code",
      "source": [
        "torch.save(model.state_dict(), 'model_cifar100_resnet34.pt')"
      ],
      "metadata": {
        "id": "eji_fsFx-23l"
      },
      "id": "eji_fsFx-23l",
      "execution_count": 12,
      "outputs": []
    },
    {
      "cell_type": "code",
      "execution_count": 13,
      "id": "82c8f707-6271-45e8-a185-0c01064328d0",
      "metadata": {
        "execution": {
          "iopub.execute_input": "2022-06-21T21:21:51.685276Z",
          "iopub.status.busy": "2022-06-21T21:21:51.685036Z",
          "iopub.status.idle": "2022-06-21T21:22:16.173162Z",
          "shell.execute_reply": "2022-06-21T21:22:16.172479Z",
          "shell.execute_reply.started": "2022-06-21T21:21:51.685252Z"
        },
        "id": "82c8f707-6271-45e8-a185-0c01064328d0",
        "colab": {
          "base_uri": "https://localhost:8080/"
        },
        "outputId": "caaa051d-7982-45a2-a0f5-31e9add441da"
      },
      "outputs": [
        {
          "output_type": "stream",
          "name": "stdout",
          "text": [
            "Accuracy of the network on the 10000 test images: 76.25 %\n"
          ]
        }
      ],
      "source": [
        "with torch.no_grad():\n",
        "    rights = 0\n",
        "    all = 0\n",
        "    for imgs, lbls in test_loader:\n",
        "        imgs = imgs.to(device)\n",
        "        lbls = lbls.to(device)\n",
        "        model_output = model(imgs)\n",
        "        _, predicted = torch.max(model_output.data, 1)\n",
        "        all += lbls.size(0)\n",
        "        rights += (predicted == lbls).sum().item()\n",
        "        del imgs, lbls, model_output\n",
        "\n",
        "    print('Accuracy of the network on the {} test images: {} %'.format(10000, 100 * rights / all))   \n"
      ]
    },
    {
      "cell_type": "code",
      "execution_count": 13,
      "id": "82a343cc-a088-4b24-a8f8-2d35763dd7d3",
      "metadata": {
        "id": "82a343cc-a088-4b24-a8f8-2d35763dd7d3"
      },
      "outputs": [],
      "source": []
    }
  ],
  "metadata": {
    "kernelspec": {
      "display_name": "Python 3 (ipykernel)",
      "language": "python",
      "name": "python3"
    },
    "language_info": {
      "codemirror_mode": {
        "name": "ipython",
        "version": 3
      },
      "file_extension": ".py",
      "mimetype": "text/x-python",
      "name": "python",
      "nbconvert_exporter": "python",
      "pygments_lexer": "ipython3",
      "version": "3.8.12"
    },
    "colab": {
      "provenance": []
    },
    "gpuClass": "standard",
    "accelerator": "GPU",
    "widgets": {
      "application/vnd.jupyter.widget-state+json": {
        "8dd8c308da47473aaf1871373de0f634": {
          "model_module": "@jupyter-widgets/controls",
          "model_name": "HBoxModel",
          "model_module_version": "1.5.0",
          "state": {
            "_dom_classes": [],
            "_model_module": "@jupyter-widgets/controls",
            "_model_module_version": "1.5.0",
            "_model_name": "HBoxModel",
            "_view_count": null,
            "_view_module": "@jupyter-widgets/controls",
            "_view_module_version": "1.5.0",
            "_view_name": "HBoxView",
            "box_style": "",
            "children": [
              "IPY_MODEL_0626300d95044cf28bb2eac865e0bf02",
              "IPY_MODEL_4854bb17779e4243a974cdbaee886dc2",
              "IPY_MODEL_caabd03049334f29a70dc19047cf141a"
            ],
            "layout": "IPY_MODEL_f4cbbec2b6c64dfb9e9818c37b7c87df"
          }
        },
        "0626300d95044cf28bb2eac865e0bf02": {
          "model_module": "@jupyter-widgets/controls",
          "model_name": "HTMLModel",
          "model_module_version": "1.5.0",
          "state": {
            "_dom_classes": [],
            "_model_module": "@jupyter-widgets/controls",
            "_model_module_version": "1.5.0",
            "_model_name": "HTMLModel",
            "_view_count": null,
            "_view_module": "@jupyter-widgets/controls",
            "_view_module_version": "1.5.0",
            "_view_name": "HTMLView",
            "description": "",
            "description_tooltip": null,
            "layout": "IPY_MODEL_6dbdca3de5ac4715a4f481ce18cb6e72",
            "placeholder": "​",
            "style": "IPY_MODEL_a1fb408745d94fafaf1f9f8ba89fedec",
            "value": "100%"
          }
        },
        "4854bb17779e4243a974cdbaee886dc2": {
          "model_module": "@jupyter-widgets/controls",
          "model_name": "FloatProgressModel",
          "model_module_version": "1.5.0",
          "state": {
            "_dom_classes": [],
            "_model_module": "@jupyter-widgets/controls",
            "_model_module_version": "1.5.0",
            "_model_name": "FloatProgressModel",
            "_view_count": null,
            "_view_module": "@jupyter-widgets/controls",
            "_view_module_version": "1.5.0",
            "_view_name": "ProgressView",
            "bar_style": "success",
            "description": "",
            "description_tooltip": null,
            "layout": "IPY_MODEL_1953e7c727ec467cb71b35f70e3e667e",
            "max": 170498071,
            "min": 0,
            "orientation": "horizontal",
            "style": "IPY_MODEL_20fbb0ba5a214c89bab1359379052809",
            "value": 170498071
          }
        },
        "caabd03049334f29a70dc19047cf141a": {
          "model_module": "@jupyter-widgets/controls",
          "model_name": "HTMLModel",
          "model_module_version": "1.5.0",
          "state": {
            "_dom_classes": [],
            "_model_module": "@jupyter-widgets/controls",
            "_model_module_version": "1.5.0",
            "_model_name": "HTMLModel",
            "_view_count": null,
            "_view_module": "@jupyter-widgets/controls",
            "_view_module_version": "1.5.0",
            "_view_name": "HTMLView",
            "description": "",
            "description_tooltip": null,
            "layout": "IPY_MODEL_e1f9f7f7fb624d4b8536c307f3694d4d",
            "placeholder": "​",
            "style": "IPY_MODEL_8c32fcf9c73143f18b646a39a217d1e6",
            "value": " 170498071/170498071 [00:08&lt;00:00, 27047517.88it/s]"
          }
        },
        "f4cbbec2b6c64dfb9e9818c37b7c87df": {
          "model_module": "@jupyter-widgets/base",
          "model_name": "LayoutModel",
          "model_module_version": "1.2.0",
          "state": {
            "_model_module": "@jupyter-widgets/base",
            "_model_module_version": "1.2.0",
            "_model_name": "LayoutModel",
            "_view_count": null,
            "_view_module": "@jupyter-widgets/base",
            "_view_module_version": "1.2.0",
            "_view_name": "LayoutView",
            "align_content": null,
            "align_items": null,
            "align_self": null,
            "border": null,
            "bottom": null,
            "display": null,
            "flex": null,
            "flex_flow": null,
            "grid_area": null,
            "grid_auto_columns": null,
            "grid_auto_flow": null,
            "grid_auto_rows": null,
            "grid_column": null,
            "grid_gap": null,
            "grid_row": null,
            "grid_template_areas": null,
            "grid_template_columns": null,
            "grid_template_rows": null,
            "height": null,
            "justify_content": null,
            "justify_items": null,
            "left": null,
            "margin": null,
            "max_height": null,
            "max_width": null,
            "min_height": null,
            "min_width": null,
            "object_fit": null,
            "object_position": null,
            "order": null,
            "overflow": null,
            "overflow_x": null,
            "overflow_y": null,
            "padding": null,
            "right": null,
            "top": null,
            "visibility": null,
            "width": null
          }
        },
        "6dbdca3de5ac4715a4f481ce18cb6e72": {
          "model_module": "@jupyter-widgets/base",
          "model_name": "LayoutModel",
          "model_module_version": "1.2.0",
          "state": {
            "_model_module": "@jupyter-widgets/base",
            "_model_module_version": "1.2.0",
            "_model_name": "LayoutModel",
            "_view_count": null,
            "_view_module": "@jupyter-widgets/base",
            "_view_module_version": "1.2.0",
            "_view_name": "LayoutView",
            "align_content": null,
            "align_items": null,
            "align_self": null,
            "border": null,
            "bottom": null,
            "display": null,
            "flex": null,
            "flex_flow": null,
            "grid_area": null,
            "grid_auto_columns": null,
            "grid_auto_flow": null,
            "grid_auto_rows": null,
            "grid_column": null,
            "grid_gap": null,
            "grid_row": null,
            "grid_template_areas": null,
            "grid_template_columns": null,
            "grid_template_rows": null,
            "height": null,
            "justify_content": null,
            "justify_items": null,
            "left": null,
            "margin": null,
            "max_height": null,
            "max_width": null,
            "min_height": null,
            "min_width": null,
            "object_fit": null,
            "object_position": null,
            "order": null,
            "overflow": null,
            "overflow_x": null,
            "overflow_y": null,
            "padding": null,
            "right": null,
            "top": null,
            "visibility": null,
            "width": null
          }
        },
        "a1fb408745d94fafaf1f9f8ba89fedec": {
          "model_module": "@jupyter-widgets/controls",
          "model_name": "DescriptionStyleModel",
          "model_module_version": "1.5.0",
          "state": {
            "_model_module": "@jupyter-widgets/controls",
            "_model_module_version": "1.5.0",
            "_model_name": "DescriptionStyleModel",
            "_view_count": null,
            "_view_module": "@jupyter-widgets/base",
            "_view_module_version": "1.2.0",
            "_view_name": "StyleView",
            "description_width": ""
          }
        },
        "1953e7c727ec467cb71b35f70e3e667e": {
          "model_module": "@jupyter-widgets/base",
          "model_name": "LayoutModel",
          "model_module_version": "1.2.0",
          "state": {
            "_model_module": "@jupyter-widgets/base",
            "_model_module_version": "1.2.0",
            "_model_name": "LayoutModel",
            "_view_count": null,
            "_view_module": "@jupyter-widgets/base",
            "_view_module_version": "1.2.0",
            "_view_name": "LayoutView",
            "align_content": null,
            "align_items": null,
            "align_self": null,
            "border": null,
            "bottom": null,
            "display": null,
            "flex": null,
            "flex_flow": null,
            "grid_area": null,
            "grid_auto_columns": null,
            "grid_auto_flow": null,
            "grid_auto_rows": null,
            "grid_column": null,
            "grid_gap": null,
            "grid_row": null,
            "grid_template_areas": null,
            "grid_template_columns": null,
            "grid_template_rows": null,
            "height": null,
            "justify_content": null,
            "justify_items": null,
            "left": null,
            "margin": null,
            "max_height": null,
            "max_width": null,
            "min_height": null,
            "min_width": null,
            "object_fit": null,
            "object_position": null,
            "order": null,
            "overflow": null,
            "overflow_x": null,
            "overflow_y": null,
            "padding": null,
            "right": null,
            "top": null,
            "visibility": null,
            "width": null
          }
        },
        "20fbb0ba5a214c89bab1359379052809": {
          "model_module": "@jupyter-widgets/controls",
          "model_name": "ProgressStyleModel",
          "model_module_version": "1.5.0",
          "state": {
            "_model_module": "@jupyter-widgets/controls",
            "_model_module_version": "1.5.0",
            "_model_name": "ProgressStyleModel",
            "_view_count": null,
            "_view_module": "@jupyter-widgets/base",
            "_view_module_version": "1.2.0",
            "_view_name": "StyleView",
            "bar_color": null,
            "description_width": ""
          }
        },
        "e1f9f7f7fb624d4b8536c307f3694d4d": {
          "model_module": "@jupyter-widgets/base",
          "model_name": "LayoutModel",
          "model_module_version": "1.2.0",
          "state": {
            "_model_module": "@jupyter-widgets/base",
            "_model_module_version": "1.2.0",
            "_model_name": "LayoutModel",
            "_view_count": null,
            "_view_module": "@jupyter-widgets/base",
            "_view_module_version": "1.2.0",
            "_view_name": "LayoutView",
            "align_content": null,
            "align_items": null,
            "align_self": null,
            "border": null,
            "bottom": null,
            "display": null,
            "flex": null,
            "flex_flow": null,
            "grid_area": null,
            "grid_auto_columns": null,
            "grid_auto_flow": null,
            "grid_auto_rows": null,
            "grid_column": null,
            "grid_gap": null,
            "grid_row": null,
            "grid_template_areas": null,
            "grid_template_columns": null,
            "grid_template_rows": null,
            "height": null,
            "justify_content": null,
            "justify_items": null,
            "left": null,
            "margin": null,
            "max_height": null,
            "max_width": null,
            "min_height": null,
            "min_width": null,
            "object_fit": null,
            "object_position": null,
            "order": null,
            "overflow": null,
            "overflow_x": null,
            "overflow_y": null,
            "padding": null,
            "right": null,
            "top": null,
            "visibility": null,
            "width": null
          }
        },
        "8c32fcf9c73143f18b646a39a217d1e6": {
          "model_module": "@jupyter-widgets/controls",
          "model_name": "DescriptionStyleModel",
          "model_module_version": "1.5.0",
          "state": {
            "_model_module": "@jupyter-widgets/controls",
            "_model_module_version": "1.5.0",
            "_model_name": "DescriptionStyleModel",
            "_view_count": null,
            "_view_module": "@jupyter-widgets/base",
            "_view_module_version": "1.2.0",
            "_view_name": "StyleView",
            "description_width": ""
          }
        }
      }
    }
  },
  "nbformat": 4,
  "nbformat_minor": 5
}